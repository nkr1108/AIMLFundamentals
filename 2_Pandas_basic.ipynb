{
  "cells": [
    {
      "cell_type": "markdown",
      "metadata": {
        "id": "view-in-github",
        "colab_type": "text"
      },
      "source": [
        "<a href=\"https://colab.research.google.com/github/nkr1108/AIMLFundamentals/blob/main/2_Pandas_basic.ipynb\" target=\"_parent\"><img src=\"https://colab.research.google.com/assets/colab-badge.svg\" alt=\"Open In Colab\"/></a>"
      ]
    },
    {
      "cell_type": "markdown",
      "metadata": {
        "id": "WKUBbjGgaaTh"
      },
      "source": [
        "<span style=\"color:green;\">**Pandas Series 1d labeled array/list holds any datatype (integer, string, float, python objects, etc.).**</span>"
      ]
    },
    {
      "cell_type": "code",
      "execution_count": null,
      "metadata": {
        "id": "oMiXoONyeGXa"
      },
      "outputs": [],
      "source": [
        "# importing the libraries\n",
        "import numpy as np\n",
        "import pandas as pd"
      ]
    },
    {
      "cell_type": "markdown",
      "metadata": {
        "id": "9JOG45NVjlz9"
      },
      "source": [
        "<span style=\"color:green;\">**Converting List into Numpy Array - Advantages** </span>\n",
        "* <span style=\"color:green;\">**Performance** - NumPy arrays are generally faster and more memory-efficient than pandas Series, especially for large datasets and mathematical operations. This is because NumPy is implemented in C and optimized for numerical computations.\n",
        "* <span style=\"color:green;\">**Homogeneous Data** - lead to more efficient storage and computations when dealing with large arrays of numbers\n",
        "* <span style=\"color:green;\">**Mathematical Operations** - NumPy provides a rich set of functions optimized for linear algebra, array manipulation, and statistical calculations\n",
        "</span>"
      ]
    },
    {
      "cell_type": "code",
      "execution_count": null,
      "metadata": {
        "colab": {
          "base_uri": "https://localhost:8080/"
        },
        "id": "X9J5Mm9EsjOU",
        "outputId": "9fd17346-a538-44e0-8df7-9c803751227f"
      },
      "outputs": [
        {
          "name": "stdout",
          "output_type": "stream",
          "text": [
            "numpy array\n",
            " [55 25 75 40 90]\n",
            "type of numpy array\n",
            " <class 'numpy.ndarray'>\n"
          ]
        }
      ],
      "source": [
        "# creating a list of price of different medicines\n",
        "med_price_list = [55,25,75,40,90]\n",
        "\n",
        "# converting the med_price_list to an numpy array\n",
        "med_price_arr = np.array(med_price_list)\n",
        "print(\"numpy array\\n\",med_price_arr)\n",
        "print(\"type of numpy array\\n\",type(med_price_arr))"
      ]
    },
    {
      "cell_type": "markdown",
      "metadata": {
        "id": "LiLXnbhljl0A"
      },
      "source": [
        "<span style=\"color:green;\">**Converting List into Pandas Series - Advantages** </span>\n",
        "* <span style=\"color:green;\">**Labeling** - One of the biggest advantages of a pandas Series is that it can have labeled indices. This allows you to use meaningful labels to index and access data, making it more intuitive for many analytical tasks\n",
        "* <span style=\"color:green;\">**Mixed Data Types** - Pandas Series can handle mixed data types, which means you can have a combination of integers, floats, strings, etc., within the same Series\n",
        "* <span style=\"color:green;\">**Missing Data Handling** - Pandas Series have built-in support for handling missing data, which can be quite convenient for data cleaning and analysis"
      ]
    },
    {
      "cell_type": "code",
      "execution_count": null,
      "metadata": {
        "id": "TE2QGqVhjl0B",
        "outputId": "74572314-48bc-4fff-a73d-3891b5bae659"
      },
      "outputs": [
        {
          "name": "stdout",
          "output_type": "stream",
          "text": [
            "0    55\n",
            "1    25\n",
            "2    75\n",
            "3    40\n",
            "4    90\n",
            "dtype: int32\n",
            "<class 'pandas.core.series.Series'>\n"
          ]
        }
      ],
      "source": [
        "# converting the list and numpy array into a Pandas Series object\n",
        "series_list = pd.Series(med_price_list)\n",
        "series_arr = pd.Series(med_price_arr)\n",
        "\n",
        "# printing the converted series object\n",
        "print(series_arr)\n",
        "print(type(series_list))"
      ]
    },
    {
      "cell_type": "markdown",
      "metadata": {
        "id": "lIHlFvINjl0D"
      },
      "source": [
        "<span style=\"color:green;\">**Changing the index** </span>"
      ]
    },
    {
      "cell_type": "code",
      "execution_count": null,
      "metadata": {
        "colab": {
          "base_uri": "https://localhost:8080/"
        },
        "id": "5cjQVBUryeif",
        "outputId": "3f9e6598-cc88-4b01-8e20-4194a6bfa3c8"
      },
      "outputs": [
        {
          "name": "stdout",
          "output_type": "stream",
          "text": [
            "Omeprazole      55\n",
            "Azithromycin    25\n",
            "Metformin       75\n",
            "Ibuprofen       40\n",
            "Cetirizine      90\n",
            "dtype: int64\n"
          ]
        }
      ],
      "source": [
        "# changing the index of a series\n",
        "med_price_list_labeled = pd.Series(med_price_list, index = ['Omeprazole','Azithromycin','Metformin','Ibuprofen','Cetirizine'])\n",
        "print(med_price_list_labeled)"
      ]
    },
    {
      "cell_type": "markdown",
      "metadata": {
        "id": "agSG9KlEaaTj"
      },
      "source": [
        "<span style=\"color:green;\">**Performing mathematical operations on Pandas Series**</span>"
      ]
    },
    {
      "cell_type": "code",
      "execution_count": null,
      "metadata": {
        "colab": {
          "base_uri": "https://localhost:8080/"
        },
        "id": "lhK_joCfaaTj",
        "outputId": "26b7b3cc-fb51-46b1-c046-3a0f73f62977"
      },
      "outputs": [
        {
          "data": {
            "text/plain": [
              "Omeprazole      64\n",
              "Azithromycin    34\n",
              "Metformin       84\n",
              "Ibuprofen       49\n",
              "Cetirizine      99\n",
              "dtype: int64"
            ]
          },
          "execution_count": 5,
          "metadata": {},
          "output_type": "execute_result"
        }
      ],
      "source": [
        "# adding 2.5 to existing prices\n",
        "med_price_list_labeled_updated = med_price_list_labeled + 9\n",
        "med_price_list_labeled_updated"
      ]
    },
    {
      "cell_type": "markdown",
      "metadata": {
        "id": "5sVET8vraaTk"
      },
      "source": [
        "* A new price list was released by vendors for each medicine. Let's find the difference between new price and the old price"
      ]
    },
    {
      "cell_type": "code",
      "execution_count": null,
      "metadata": {
        "colab": {
          "base_uri": "https://localhost:8080/"
        },
        "id": "wGCw6jlfaaTk",
        "outputId": "c2d173ba-50fa-4798-ca97-0293df3a1b31"
      },
      "outputs": [
        {
          "name": "stdout",
          "output_type": "stream",
          "text": [
            "Omeprazole       77.0\n",
            "Azithromycin     45.5\n",
            "Metformin       100.0\n",
            "Ibuprofen        50.0\n",
            "Cetirizine       80.0\n",
            "dtype: float64\n"
          ]
        }
      ],
      "source": [
        "new_price_list = [77, 45.5, 100, 50, 80]\n",
        "new_price_list_labeled = pd.Series(new_price_list, index = ['Omeprazole','Azithromycin','Metformin','Ibuprofen','Cetirizine'])\n",
        "print(new_price_list_labeled)"
      ]
    },
    {
      "cell_type": "code",
      "execution_count": null,
      "metadata": {
        "colab": {
          "base_uri": "https://localhost:8080/"
        },
        "id": "oynSb82OunnO",
        "outputId": "ab4d47c9-3dc9-416b-e3bb-105929d18d61",
        "scrolled": true
      },
      "outputs": [
        {
          "name": "stdout",
          "output_type": "stream",
          "text": [
            "Difference between new price and old price - \n",
            "Omeprazole      13.0\n",
            "Azithromycin    11.5\n",
            "Metformin       16.0\n",
            "Ibuprofen        1.0\n",
            "Cetirizine     -19.0\n",
            "dtype: float64\n"
          ]
        }
      ],
      "source": [
        "print('Difference between new price and old price - ')\n",
        "print(new_price_list_labeled - med_price_list_labeled_updated)"
      ]
    },
    {
      "cell_type": "markdown",
      "metadata": {
        "id": "jy3tHXkyJLu9"
      },
      "source": [
        "<span style=\"color:green;\">**Accessing Series**</span>"
      ]
    },
    {
      "cell_type": "code",
      "execution_count": null,
      "metadata": {
        "colab": {
          "base_uri": "https://localhost:8080/"
        },
        "id": "8hlsWm_MaaTo",
        "outputId": "e34f68e4-930d-40a3-eec4-c3b58d356dcb"
      },
      "outputs": [
        {
          "data": {
            "text/plain": [
              "AT&T           171.76\n",
              "Verizon        128.29\n",
              "T-Mobile US     68.40\n",
              "US Cellular      4.04\n",
              "dtype: float64"
            ]
          },
          "execution_count": 8,
          "metadata": {},
          "output_type": "execute_result"
        }
      ],
      "source": [
        "operators = ['AT&T', 'Verizon', 'T-Mobile US', 'US Cellular']\n",
        "revenue = [171.76, 128.29, 68.4, 4.04]\n",
        "\n",
        "#creating a Series from lists\n",
        "telecom = pd.Series(revenue, index=operators)\n",
        "telecom"
      ]
    },
    {
      "cell_type": "markdown",
      "metadata": {
        "id": "LSIn5H4_I5cc"
      },
      "source": [
        "<span style=\"color:green;\">**Accessing Pandas Series using its index**</span>"
      ]
    },
    {
      "cell_type": "code",
      "execution_count": null,
      "metadata": {
        "colab": {
          "base_uri": "https://localhost:8080/"
        },
        "id": "iFy5pkGRKBWQ",
        "outputId": "963481b7-80cb-450b-f74e-5dfd6772fdb6"
      },
      "outputs": [
        {
          "data": {
            "text/plain": [
              "171.76"
            ]
          },
          "execution_count": 9,
          "metadata": {},
          "output_type": "execute_result"
        }
      ],
      "source": [
        "# accessing the first element of series\n",
        "telecom[0]"
      ]
    },
    {
      "cell_type": "code",
      "execution_count": null,
      "metadata": {
        "colab": {
          "base_uri": "https://localhost:8080/"
        },
        "id": "UZTdWeaQKicd",
        "outputId": "116fbe28-9732-4957-b34d-1cd801f55efb"
      },
      "outputs": [
        {
          "data": {
            "text/plain": [
              "AT&T           171.76\n",
              "Verizon        128.29\n",
              "T-Mobile US     68.40\n",
              "dtype: float64"
            ]
          },
          "execution_count": 10,
          "metadata": {},
          "output_type": "execute_result"
        }
      ],
      "source": [
        "#  accessing firt 3 elements of a series\n",
        "telecom[:3]"
      ]
    },
    {
      "cell_type": "code",
      "execution_count": null,
      "metadata": {
        "colab": {
          "base_uri": "https://localhost:8080/"
        },
        "id": "xxyTDCkKKrKP",
        "outputId": "f0d7ffac-a320-4c25-a0f1-2997be8056b2"
      },
      "outputs": [
        {
          "data": {
            "text/plain": [
              "T-Mobile US    68.40\n",
              "US Cellular     4.04\n",
              "dtype: float64"
            ]
          },
          "execution_count": 11,
          "metadata": {},
          "output_type": "execute_result"
        }
      ],
      "source": [
        "# accessing the last two elements of a series\n",
        "telecom[-2:]"
      ]
    },
    {
      "cell_type": "code",
      "execution_count": null,
      "metadata": {
        "colab": {
          "base_uri": "https://localhost:8080/"
        },
        "id": "hIJny1Z3LTPW",
        "outputId": "5910bb98-531f-40ef-bc96-9b33e9695de2"
      },
      "outputs": [
        {
          "data": {
            "text/plain": [
              "AT&T           171.76\n",
              "T-Mobile US     68.40\n",
              "US Cellular      4.04\n",
              "dtype: float64"
            ]
          },
          "execution_count": 12,
          "metadata": {},
          "output_type": "execute_result"
        }
      ],
      "source": [
        "# accessing multiple elements of a series\n",
        "telecom[[0,2,3]]"
      ]
    },
    {
      "cell_type": "markdown",
      "metadata": {
        "id": "kbrvcVEzLJrO"
      },
      "source": [
        "<span style=\"color:green;\">**Accessing Pandas Series using its labeled index**</span>"
      ]
    },
    {
      "cell_type": "code",
      "execution_count": null,
      "metadata": {
        "colab": {
          "base_uri": "https://localhost:8080/"
        },
        "id": "WXRSET1iJT6t",
        "outputId": "0d3b68b7-b8e6-494c-cf3b-f7533fd747a9"
      },
      "outputs": [
        {
          "data": {
            "text/plain": [
              "171.76"
            ]
          },
          "execution_count": 13,
          "metadata": {},
          "output_type": "execute_result"
        }
      ],
      "source": [
        "# accessing the revenue of AT&T\n",
        "telecom['AT&T']"
      ]
    },
    {
      "cell_type": "code",
      "execution_count": null,
      "metadata": {
        "colab": {
          "base_uri": "https://localhost:8080/"
        },
        "id": "I3RQr51ILfJl",
        "outputId": "8434a0e6-ca65-4c1e-ee6c-7e244c2df726"
      },
      "outputs": [
        {
          "data": {
            "text/plain": [
              "AT&T           171.76\n",
              "Verizon        128.29\n",
              "T-Mobile US     68.40\n",
              "dtype: float64"
            ]
          },
          "execution_count": 14,
          "metadata": {},
          "output_type": "execute_result"
        }
      ],
      "source": [
        "#  accessing firt 3 revenues of operators in the series\n",
        "telecom[:'T-Mobile US']"
      ]
    },
    {
      "cell_type": "code",
      "execution_count": null,
      "metadata": {
        "colab": {
          "base_uri": "https://localhost:8080/"
        },
        "id": "dap494agJWhA",
        "outputId": "dc2167fe-3120-4173-8096-25b9b70e0c6a"
      },
      "outputs": [
        {
          "data": {
            "text/plain": [
              "AT&T           171.76\n",
              "US Cellular      4.04\n",
              "Verizon        128.29\n",
              "dtype: float64"
            ]
          },
          "execution_count": 15,
          "metadata": {},
          "output_type": "execute_result"
        }
      ],
      "source": [
        "# accessing multiple values\n",
        "telecom[['AT&T','US Cellular','Verizon']]"
      ]
    },
    {
      "cell_type": "markdown",
      "metadata": {
        "id": "P0OPO95sztGf"
      },
      "source": [
        "<span style=\"color:blue;\">**Pandas DataFrame** is a two-dimensional tabular data structure with labeled axes (rows and columns).</span>"
      ]
    },
    {
      "cell_type": "markdown",
      "metadata": {
        "id": "Vb-R08TD0MK6"
      },
      "source": [
        "<span style=\"color:blue;\">**Creating a Pandas DataFrame using a list and index**</span>"
      ]
    },
    {
      "cell_type": "code",
      "execution_count": null,
      "metadata": {
        "colab": {
          "base_uri": "https://localhost:8080/",
          "height": 206
        },
        "id": "YR7Elttt0YWA",
        "outputId": "8bef72e5-57ce-44e7-d00c-4452ed7999ae"
      },
      "outputs": [
        {
          "data": {
            "text/html": [
              "<div>\n",
              "<style scoped>\n",
              "    .dataframe tbody tr th:only-of-type {\n",
              "        vertical-align: middle;\n",
              "    }\n",
              "\n",
              "    .dataframe tbody tr th {\n",
              "        vertical-align: top;\n",
              "    }\n",
              "\n",
              "    .dataframe thead th {\n",
              "        text-align: right;\n",
              "    }\n",
              "</style>\n",
              "<table border=\"1\" class=\"dataframe\">\n",
              "  <thead>\n",
              "    <tr style=\"text-align: right;\">\n",
              "      <th></th>\n",
              "      <th>Student</th>\n",
              "    </tr>\n",
              "  </thead>\n",
              "  <tbody>\n",
              "    <tr>\n",
              "      <th>one</th>\n",
              "      <td>Mary</td>\n",
              "    </tr>\n",
              "    <tr>\n",
              "      <th>two</th>\n",
              "      <td>Peter</td>\n",
              "    </tr>\n",
              "    <tr>\n",
              "      <th>three</th>\n",
              "      <td>Susan</td>\n",
              "    </tr>\n",
              "    <tr>\n",
              "      <th>four</th>\n",
              "      <td>Toby</td>\n",
              "    </tr>\n",
              "    <tr>\n",
              "      <th>five</th>\n",
              "      <td>Vishal</td>\n",
              "    </tr>\n",
              "  </tbody>\n",
              "</table>\n",
              "</div>"
            ],
            "text/plain": [
              "      Student\n",
              "one      Mary\n",
              "two     Peter\n",
              "three   Susan\n",
              "four     Toby\n",
              "five   Vishal"
            ]
          },
          "execution_count": 16,
          "metadata": {},
          "output_type": "execute_result"
        }
      ],
      "source": [
        "student = ['Mary', 'Peter', 'Susan', 'Toby', 'Vishal']\n",
        "df1 = pd.DataFrame(student,columns=['Student'],index=['one','two','three','four','five',])\n",
        "df1"
      ]
    },
    {
      "cell_type": "markdown",
      "metadata": {
        "id": "3jUNdwR5jl0U"
      },
      "source": [
        "<span style=\"color:blue;\">**Creating a Pandas DataFrame using a list and with default index**</span>"
      ]
    },
    {
      "cell_type": "code",
      "execution_count": null,
      "metadata": {
        "id": "CUhjuhtdjl0V",
        "outputId": "a3a88ab9-ed31-47b4-fe28-c3053193c657"
      },
      "outputs": [
        {
          "data": {
            "text/html": [
              "<div>\n",
              "<style scoped>\n",
              "    .dataframe tbody tr th:only-of-type {\n",
              "        vertical-align: middle;\n",
              "    }\n",
              "\n",
              "    .dataframe tbody tr th {\n",
              "        vertical-align: top;\n",
              "    }\n",
              "\n",
              "    .dataframe thead th {\n",
              "        text-align: right;\n",
              "    }\n",
              "</style>\n",
              "<table border=\"1\" class=\"dataframe\">\n",
              "  <thead>\n",
              "    <tr style=\"text-align: right;\">\n",
              "      <th></th>\n",
              "      <th>Student</th>\n",
              "    </tr>\n",
              "  </thead>\n",
              "  <tbody>\n",
              "    <tr>\n",
              "      <th>0</th>\n",
              "      <td>Mary</td>\n",
              "    </tr>\n",
              "    <tr>\n",
              "      <th>1</th>\n",
              "      <td>Peter</td>\n",
              "    </tr>\n",
              "    <tr>\n",
              "      <th>2</th>\n",
              "      <td>Susan</td>\n",
              "    </tr>\n",
              "    <tr>\n",
              "      <th>3</th>\n",
              "      <td>Toby</td>\n",
              "    </tr>\n",
              "    <tr>\n",
              "      <th>4</th>\n",
              "      <td>Vishal</td>\n",
              "    </tr>\n",
              "  </tbody>\n",
              "</table>\n",
              "</div>"
            ],
            "text/plain": [
              "  Student\n",
              "0    Mary\n",
              "1   Peter\n",
              "2   Susan\n",
              "3    Toby\n",
              "4  Vishal"
            ]
          },
          "execution_count": 17,
          "metadata": {},
          "output_type": "execute_result"
        }
      ],
      "source": [
        "student = ['Mary', 'Peter', 'Susan', 'Toby', 'Vishal']\n",
        "df2 = pd.DataFrame(student,columns=['Student'],index=None)\n",
        "df2"
      ]
    },
    {
      "cell_type": "markdown",
      "metadata": {
        "id": "tbff68pm230z"
      },
      "source": [
        "<span style=\"color:blue;\">**Creating a Pandas DataFrame using a dictionary**</span>"
      ]
    },
    {
      "cell_type": "code",
      "execution_count": null,
      "metadata": {
        "colab": {
          "base_uri": "https://localhost:8080/",
          "height": 206
        },
        "id": "6ebCP2pi01_L",
        "outputId": "1078109b-11ae-4ab6-9858-9128ca4235fa"
      },
      "outputs": [
        {
          "data": {
            "text/html": [
              "<div>\n",
              "<style scoped>\n",
              "    .dataframe tbody tr th:only-of-type {\n",
              "        vertical-align: middle;\n",
              "    }\n",
              "\n",
              "    .dataframe tbody tr th {\n",
              "        vertical-align: top;\n",
              "    }\n",
              "\n",
              "    .dataframe thead th {\n",
              "        text-align: right;\n",
              "    }\n",
              "</style>\n",
              "<table border=\"1\" class=\"dataframe\">\n",
              "  <thead>\n",
              "    <tr style=\"text-align: right;\">\n",
              "      <th></th>\n",
              "      <th>Student</th>\n",
              "      <th>Grade</th>\n",
              "    </tr>\n",
              "  </thead>\n",
              "  <tbody>\n",
              "    <tr>\n",
              "      <th>0</th>\n",
              "      <td>Mary</td>\n",
              "      <td>B-</td>\n",
              "    </tr>\n",
              "    <tr>\n",
              "      <th>1</th>\n",
              "      <td>Peter</td>\n",
              "      <td>A+</td>\n",
              "    </tr>\n",
              "    <tr>\n",
              "      <th>2</th>\n",
              "      <td>Susan</td>\n",
              "      <td>A-</td>\n",
              "    </tr>\n",
              "    <tr>\n",
              "      <th>3</th>\n",
              "      <td>Toby</td>\n",
              "      <td>B+</td>\n",
              "    </tr>\n",
              "    <tr>\n",
              "      <th>4</th>\n",
              "      <td>Vishal</td>\n",
              "      <td>C</td>\n",
              "    </tr>\n",
              "  </tbody>\n",
              "</table>\n",
              "</div>"
            ],
            "text/plain": [
              "  Student Grade\n",
              "0    Mary    B-\n",
              "1   Peter    A+\n",
              "2   Susan    A-\n",
              "3    Toby    B+\n",
              "4  Vishal     C"
            ]
          },
          "execution_count": 18,
          "metadata": {},
          "output_type": "execute_result"
        }
      ],
      "source": [
        "# defining another list\n",
        "grades = ['B-','A+','A-', 'B+', 'C']\n",
        "\n",
        "# creating the dataframe using a dictionary\n",
        "df2 = pd.DataFrame({'Student':student,'Grade':grades})\n",
        "df2"
      ]
    },
    {
      "cell_type": "markdown",
      "metadata": {
        "id": "lj7iRqkS145x"
      },
      "source": [
        "<span style=\"color:blue;\">**Creating a Pandas DataFrame using Series**</span>"
      ]
    },
    {
      "cell_type": "code",
      "execution_count": null,
      "metadata": {
        "colab": {
          "base_uri": "https://localhost:8080/",
          "height": 269
        },
        "id": "Lg18pRxJ3YVd",
        "outputId": "ba3c3356-6e4e-44b7-f492-f9058fe1515d"
      },
      "outputs": [
        {
          "data": {
            "text/html": [
              "<div>\n",
              "<style scoped>\n",
              "    .dataframe tbody tr th:only-of-type {\n",
              "        vertical-align: middle;\n",
              "    }\n",
              "\n",
              "    .dataframe tbody tr th {\n",
              "        vertical-align: top;\n",
              "    }\n",
              "\n",
              "    .dataframe thead th {\n",
              "        text-align: right;\n",
              "    }\n",
              "</style>\n",
              "<table border=\"1\" class=\"dataframe\">\n",
              "  <thead>\n",
              "    <tr style=\"text-align: right;\">\n",
              "      <th></th>\n",
              "      <th>Year</th>\n",
              "      <th>Energy_Consumption(Mtoe)</th>\n",
              "    </tr>\n",
              "  </thead>\n",
              "  <tbody>\n",
              "    <tr>\n",
              "      <th>0</th>\n",
              "      <td>2012</td>\n",
              "      <td>2152</td>\n",
              "    </tr>\n",
              "    <tr>\n",
              "      <th>1</th>\n",
              "      <td>2013</td>\n",
              "      <td>2196</td>\n",
              "    </tr>\n",
              "    <tr>\n",
              "      <th>2</th>\n",
              "      <td>2014</td>\n",
              "      <td>2217</td>\n",
              "    </tr>\n",
              "    <tr>\n",
              "      <th>3</th>\n",
              "      <td>2015</td>\n",
              "      <td>2194</td>\n",
              "    </tr>\n",
              "    <tr>\n",
              "      <th>4</th>\n",
              "      <td>2016</td>\n",
              "      <td>2172</td>\n",
              "    </tr>\n",
              "    <tr>\n",
              "      <th>5</th>\n",
              "      <td>2017</td>\n",
              "      <td>2180</td>\n",
              "    </tr>\n",
              "    <tr>\n",
              "      <th>6</th>\n",
              "      <td>2018</td>\n",
              "      <td>2258</td>\n",
              "    </tr>\n",
              "  </tbody>\n",
              "</table>\n",
              "</div>"
            ],
            "text/plain": [
              "   Year  Energy_Consumption(Mtoe)\n",
              "0  2012                      2152\n",
              "1  2013                      2196\n",
              "2  2014                      2217\n",
              "3  2015                      2194\n",
              "4  2016                      2172\n",
              "5  2017                      2180\n",
              "6  2018                      2258"
            ]
          },
          "execution_count": 19,
          "metadata": {},
          "output_type": "execute_result"
        }
      ],
      "source": [
        "year = pd.Series([2012,2013,2014,2015,2016,2017,2018])\n",
        "energy_consumption = pd.Series([2152,2196,2217,2194,2172,2180,2258])\n",
        "\n",
        "df3 = pd.DataFrame({'Year':year,'Energy_Consumption(Mtoe)':energy_consumption})\n",
        "df3"
      ]
    },
    {
      "cell_type": "markdown",
      "metadata": {
        "id": "wD1Z1hsA55A-"
      },
      "source": [
        "<span style=\"color:blue;\">**Creating a Pandas DataFrame using random values**</span>"
      ]
    },
    {
      "cell_type": "code",
      "execution_count": null,
      "metadata": {
        "colab": {
          "base_uri": "https://localhost:8080/",
          "height": 206
        },
        "id": "5cdmJWu83xAD",
        "outputId": "291e80ed-b91b-466d-f15c-be6afc5d444c"
      },
      "outputs": [
        {
          "data": {
            "text/html": [
              "<div>\n",
              "<style scoped>\n",
              "    .dataframe tbody tr th:only-of-type {\n",
              "        vertical-align: middle;\n",
              "    }\n",
              "\n",
              "    .dataframe tbody tr th {\n",
              "        vertical-align: top;\n",
              "    }\n",
              "\n",
              "    .dataframe thead th {\n",
              "        text-align: right;\n",
              "    }\n",
              "</style>\n",
              "<table border=\"1\" class=\"dataframe\">\n",
              "  <thead>\n",
              "    <tr style=\"text-align: right;\">\n",
              "      <th></th>\n",
              "      <th>Trial 1</th>\n",
              "      <th>Trial 2</th>\n",
              "    </tr>\n",
              "  </thead>\n",
              "  <tbody>\n",
              "    <tr>\n",
              "      <th>0</th>\n",
              "      <td>-0.062465</td>\n",
              "      <td>-0.119546</td>\n",
              "    </tr>\n",
              "    <tr>\n",
              "      <th>1</th>\n",
              "      <td>0.516404</td>\n",
              "      <td>-0.569411</td>\n",
              "    </tr>\n",
              "    <tr>\n",
              "      <th>2</th>\n",
              "      <td>0.451649</td>\n",
              "      <td>0.714920</td>\n",
              "    </tr>\n",
              "    <tr>\n",
              "      <th>3</th>\n",
              "      <td>-0.740058</td>\n",
              "      <td>0.328411</td>\n",
              "    </tr>\n",
              "    <tr>\n",
              "      <th>4</th>\n",
              "      <td>0.603626</td>\n",
              "      <td>-0.279983</td>\n",
              "    </tr>\n",
              "  </tbody>\n",
              "</table>\n",
              "</div>"
            ],
            "text/plain": [
              "    Trial 1   Trial 2\n",
              "0 -0.062465 -0.119546\n",
              "1  0.516404 -0.569411\n",
              "2  0.451649  0.714920\n",
              "3 -0.740058  0.328411\n",
              "4  0.603626 -0.279983"
            ]
          },
          "execution_count": 20,
          "metadata": {},
          "output_type": "execute_result"
        }
      ],
      "source": [
        "# we can create a new dataframe using random values\n",
        "df4 = pd.DataFrame(np.random.randn(5,2),columns = ['Trial 1', 'Trial 2'])\n",
        "df4"
      ]
    },
    {
      "cell_type": "markdown",
      "metadata": {
        "id": "E-MAFZwTJhfN"
      },
      "source": [
        "<span style=\"color:blue;\">**Accessing DataFrames**</span>"
      ]
    },
    {
      "cell_type": "code",
      "execution_count": null,
      "metadata": {
        "colab": {
          "base_uri": "https://localhost:8080/",
          "height": 206
        },
        "id": "Bozahsu4aaTq",
        "outputId": "74361e48-71cc-4f4f-a1ea-eef9b8137246"
      },
      "outputs": [
        {
          "data": {
            "text/html": [
              "<div>\n",
              "<style scoped>\n",
              "    .dataframe tbody tr th:only-of-type {\n",
              "        vertical-align: middle;\n",
              "    }\n",
              "\n",
              "    .dataframe tbody tr th {\n",
              "        vertical-align: top;\n",
              "    }\n",
              "\n",
              "    .dataframe thead th {\n",
              "        text-align: right;\n",
              "    }\n",
              "</style>\n",
              "<table border=\"1\" class=\"dataframe\">\n",
              "  <thead>\n",
              "    <tr style=\"text-align: right;\">\n",
              "      <th></th>\n",
              "      <th>CustomerID</th>\n",
              "      <th>location</th>\n",
              "      <th>gender</th>\n",
              "      <th>type</th>\n",
              "      <th>quantity</th>\n",
              "      <th>total_bill</th>\n",
              "    </tr>\n",
              "  </thead>\n",
              "  <tbody>\n",
              "    <tr>\n",
              "      <th>0</th>\n",
              "      <td>CustID00</td>\n",
              "      <td>Chicago</td>\n",
              "      <td>M</td>\n",
              "      <td>Electronics</td>\n",
              "      <td>1</td>\n",
              "      <td>100</td>\n",
              "    </tr>\n",
              "    <tr>\n",
              "      <th>1</th>\n",
              "      <td>CustID01</td>\n",
              "      <td>Boston</td>\n",
              "      <td>M</td>\n",
              "      <td>Food&amp;Beverages</td>\n",
              "      <td>3</td>\n",
              "      <td>75</td>\n",
              "    </tr>\n",
              "    <tr>\n",
              "      <th>2</th>\n",
              "      <td>CustID02</td>\n",
              "      <td>Seattle</td>\n",
              "      <td>F</td>\n",
              "      <td>Food&amp;Beverages</td>\n",
              "      <td>4</td>\n",
              "      <td>125</td>\n",
              "    </tr>\n",
              "    <tr>\n",
              "      <th>3</th>\n",
              "      <td>CustID03</td>\n",
              "      <td>San Francisco</td>\n",
              "      <td>M</td>\n",
              "      <td>Medicine</td>\n",
              "      <td>2</td>\n",
              "      <td>50</td>\n",
              "    </tr>\n",
              "    <tr>\n",
              "      <th>4</th>\n",
              "      <td>CustID04</td>\n",
              "      <td>Austin</td>\n",
              "      <td>F</td>\n",
              "      <td>Beauty</td>\n",
              "      <td>1</td>\n",
              "      <td>80</td>\n",
              "    </tr>\n",
              "  </tbody>\n",
              "</table>\n",
              "</div>"
            ],
            "text/plain": [
              "  CustomerID       location gender            type  quantity  total_bill\n",
              "0   CustID00        Chicago      M     Electronics         1         100\n",
              "1   CustID01         Boston      M  Food&Beverages         3          75\n",
              "2   CustID02        Seattle      F  Food&Beverages         4         125\n",
              "3   CustID03  San Francisco      M        Medicine         2          50\n",
              "4   CustID04         Austin      F          Beauty         1          80"
            ]
          },
          "execution_count": 21,
          "metadata": {},
          "output_type": "execute_result"
        }
      ],
      "source": [
        "# creating the dataframe using dictionary\n",
        "store_data = pd.DataFrame({'CustomerID': ['CustID00','CustID01','CustID02','CustID03','CustID04']\n",
        "                           ,'location': ['Chicago', 'Boston', 'Seattle', 'San Francisco', 'Austin']\n",
        "                           ,'gender': ['M','M','F','M','F']\n",
        "                           ,'type': ['Electronics','Food&Beverages','Food&Beverages','Medicine','Beauty']\n",
        "                           ,'quantity':[1,3,4,2,1],'total_bill':[100,75,125,50,80]})\n",
        "store_data"
      ]
    },
    {
      "cell_type": "code",
      "execution_count": null,
      "metadata": {
        "colab": {
          "base_uri": "https://localhost:8080/",
          "height": 175
        },
        "id": "-xbcb893ePFD",
        "outputId": "74708c19-0f0e-4b6e-a4c6-99204b818eda"
      },
      "outputs": [
        {
          "data": {
            "text/html": [
              "<div>\n",
              "<style scoped>\n",
              "    .dataframe tbody tr th:only-of-type {\n",
              "        vertical-align: middle;\n",
              "    }\n",
              "\n",
              "    .dataframe tbody tr th {\n",
              "        vertical-align: top;\n",
              "    }\n",
              "\n",
              "    .dataframe thead th {\n",
              "        text-align: right;\n",
              "    }\n",
              "</style>\n",
              "<table border=\"1\" class=\"dataframe\">\n",
              "  <thead>\n",
              "    <tr style=\"text-align: right;\">\n",
              "      <th></th>\n",
              "      <th>CustomerID</th>\n",
              "      <th>location</th>\n",
              "      <th>gender</th>\n",
              "      <th>type</th>\n",
              "      <th>quantity</th>\n",
              "      <th>total_bill</th>\n",
              "    </tr>\n",
              "  </thead>\n",
              "  <tbody>\n",
              "    <tr>\n",
              "      <th>0</th>\n",
              "      <td>CustID00</td>\n",
              "      <td>Chicago</td>\n",
              "      <td>M</td>\n",
              "      <td>Electronics</td>\n",
              "      <td>1</td>\n",
              "      <td>100</td>\n",
              "    </tr>\n",
              "    <tr>\n",
              "      <th>1</th>\n",
              "      <td>CustID01</td>\n",
              "      <td>Boston</td>\n",
              "      <td>M</td>\n",
              "      <td>Food&amp;Beverages</td>\n",
              "      <td>3</td>\n",
              "      <td>75</td>\n",
              "    </tr>\n",
              "    <tr>\n",
              "      <th>2</th>\n",
              "      <td>CustID02</td>\n",
              "      <td>Seattle</td>\n",
              "      <td>F</td>\n",
              "      <td>Food&amp;Beverages</td>\n",
              "      <td>4</td>\n",
              "      <td>125</td>\n",
              "    </tr>\n",
              "    <tr>\n",
              "      <th>3</th>\n",
              "      <td>CustID03</td>\n",
              "      <td>San Francisco</td>\n",
              "      <td>M</td>\n",
              "      <td>Medicine</td>\n",
              "      <td>2</td>\n",
              "      <td>50</td>\n",
              "    </tr>\n",
              "  </tbody>\n",
              "</table>\n",
              "</div>"
            ],
            "text/plain": [
              "  CustomerID       location gender            type  quantity  total_bill\n",
              "0   CustID00        Chicago      M     Electronics         1         100\n",
              "1   CustID01         Boston      M  Food&Beverages         3          75\n",
              "2   CustID02        Seattle      F  Food&Beverages         4         125\n",
              "3   CustID03  San Francisco      M        Medicine         2          50"
            ]
          },
          "execution_count": 22,
          "metadata": {},
          "output_type": "execute_result"
        }
      ],
      "source": [
        "store_data[0:4] ## check the syntax, needs a range in square brackets"
      ]
    },
    {
      "cell_type": "code",
      "execution_count": null,
      "metadata": {
        "colab": {
          "base_uri": "https://localhost:8080/",
          "height": 206
        },
        "id": "U_v2ac5mUMtp",
        "outputId": "2dd98bcf-2dc4-497f-dd91-a8991c79bf17"
      },
      "outputs": [
        {
          "data": {
            "text/html": [
              "<div>\n",
              "<style scoped>\n",
              "    .dataframe tbody tr th:only-of-type {\n",
              "        vertical-align: middle;\n",
              "    }\n",
              "\n",
              "    .dataframe tbody tr th {\n",
              "        vertical-align: top;\n",
              "    }\n",
              "\n",
              "    .dataframe thead th {\n",
              "        text-align: right;\n",
              "    }\n",
              "</style>\n",
              "<table border=\"1\" class=\"dataframe\">\n",
              "  <thead>\n",
              "    <tr style=\"text-align: right;\">\n",
              "      <th></th>\n",
              "      <th>CustomerID</th>\n",
              "      <th>location</th>\n",
              "      <th>gender</th>\n",
              "      <th>type</th>\n",
              "      <th>quantity</th>\n",
              "      <th>total_bill</th>\n",
              "    </tr>\n",
              "  </thead>\n",
              "  <tbody>\n",
              "    <tr>\n",
              "      <th>0</th>\n",
              "      <td>CustID00</td>\n",
              "      <td>Chicago</td>\n",
              "      <td>M</td>\n",
              "      <td>Electronics</td>\n",
              "      <td>1</td>\n",
              "      <td>100</td>\n",
              "    </tr>\n",
              "    <tr>\n",
              "      <th>1</th>\n",
              "      <td>CustID01</td>\n",
              "      <td>Boston</td>\n",
              "      <td>M</td>\n",
              "      <td>Food&amp;Beverages</td>\n",
              "      <td>3</td>\n",
              "      <td>75</td>\n",
              "    </tr>\n",
              "    <tr>\n",
              "      <th>2</th>\n",
              "      <td>CustID02</td>\n",
              "      <td>Seattle</td>\n",
              "      <td>F</td>\n",
              "      <td>Food&amp;Beverages</td>\n",
              "      <td>4</td>\n",
              "      <td>125</td>\n",
              "    </tr>\n",
              "    <tr>\n",
              "      <th>3</th>\n",
              "      <td>CustID03</td>\n",
              "      <td>San Francisco</td>\n",
              "      <td>M</td>\n",
              "      <td>Medicine</td>\n",
              "      <td>2</td>\n",
              "      <td>50</td>\n",
              "    </tr>\n",
              "    <tr>\n",
              "      <th>4</th>\n",
              "      <td>CustID04</td>\n",
              "      <td>Austin</td>\n",
              "      <td>F</td>\n",
              "      <td>Beauty</td>\n",
              "      <td>1</td>\n",
              "      <td>80</td>\n",
              "    </tr>\n",
              "  </tbody>\n",
              "</table>\n",
              "</div>"
            ],
            "text/plain": [
              "  CustomerID       location gender            type  quantity  total_bill\n",
              "0   CustID00        Chicago      M     Electronics         1         100\n",
              "1   CustID01         Boston      M  Food&Beverages         3          75\n",
              "2   CustID02        Seattle      F  Food&Beverages         4         125\n",
              "3   CustID03  San Francisco      M        Medicine         2          50\n",
              "4   CustID04         Austin      F          Beauty         1          80"
            ]
          },
          "execution_count": 23,
          "metadata": {},
          "output_type": "execute_result"
        }
      ],
      "source": [
        "# accessing first row of the dataframe\n",
        "store_data[:]"
      ]
    },
    {
      "cell_type": "code",
      "execution_count": null,
      "metadata": {
        "colab": {
          "base_uri": "https://localhost:8080/"
        },
        "id": "AOPng29EUVMG",
        "outputId": "44ac0345-a61d-4db8-ddc3-ed378b4684a5"
      },
      "outputs": [
        {
          "data": {
            "text/plain": [
              "0          Chicago\n",
              "1           Boston\n",
              "2          Seattle\n",
              "3    San Francisco\n",
              "4           Austin\n",
              "Name: location, dtype: object"
            ]
          },
          "execution_count": 24,
          "metadata": {},
          "output_type": "execute_result"
        }
      ],
      "source": [
        "# accessing first column of the dataframe\n",
        "store_data['location']"
      ]
    },
    {
      "cell_type": "code",
      "execution_count": null,
      "metadata": {
        "colab": {
          "base_uri": "https://localhost:8080/",
          "height": 143
        },
        "id": "mjDrEFdnNvBl",
        "outputId": "de9085f5-2505-4976-c7c4-017adf9a41cb"
      },
      "outputs": [
        {
          "data": {
            "text/html": [
              "<div>\n",
              "<style scoped>\n",
              "    .dataframe tbody tr th:only-of-type {\n",
              "        vertical-align: middle;\n",
              "    }\n",
              "\n",
              "    .dataframe tbody tr th {\n",
              "        vertical-align: top;\n",
              "    }\n",
              "\n",
              "    .dataframe thead th {\n",
              "        text-align: right;\n",
              "    }\n",
              "</style>\n",
              "<table border=\"1\" class=\"dataframe\">\n",
              "  <thead>\n",
              "    <tr style=\"text-align: right;\">\n",
              "      <th></th>\n",
              "      <th>CustomerID</th>\n",
              "      <th>location</th>\n",
              "      <th>gender</th>\n",
              "      <th>type</th>\n",
              "      <th>quantity</th>\n",
              "      <th>total_bill</th>\n",
              "    </tr>\n",
              "  </thead>\n",
              "  <tbody>\n",
              "    <tr>\n",
              "      <th>0</th>\n",
              "      <td>CustID00</td>\n",
              "      <td>Chicago</td>\n",
              "      <td>M</td>\n",
              "      <td>Electronics</td>\n",
              "      <td>1</td>\n",
              "      <td>100</td>\n",
              "    </tr>\n",
              "    <tr>\n",
              "      <th>2</th>\n",
              "      <td>CustID02</td>\n",
              "      <td>Seattle</td>\n",
              "      <td>F</td>\n",
              "      <td>Food&amp;Beverages</td>\n",
              "      <td>4</td>\n",
              "      <td>125</td>\n",
              "    </tr>\n",
              "    <tr>\n",
              "      <th>4</th>\n",
              "      <td>CustID04</td>\n",
              "      <td>Austin</td>\n",
              "      <td>F</td>\n",
              "      <td>Beauty</td>\n",
              "      <td>1</td>\n",
              "      <td>80</td>\n",
              "    </tr>\n",
              "  </tbody>\n",
              "</table>\n",
              "</div>"
            ],
            "text/plain": [
              "  CustomerID location gender            type  quantity  total_bill\n",
              "0   CustID00  Chicago      M     Electronics         1         100\n",
              "2   CustID02  Seattle      F  Food&Beverages         4         125\n",
              "4   CustID04   Austin      F          Beauty         1          80"
            ]
          },
          "execution_count": 25,
          "metadata": {},
          "output_type": "execute_result"
        }
      ],
      "source": [
        "# accessing rows with the step size of 2\n",
        "store_data[::2]"
      ]
    },
    {
      "cell_type": "code",
      "execution_count": null,
      "metadata": {
        "colab": {
          "base_uri": "https://localhost:8080/",
          "height": 143
        },
        "id": "4Zki01TwM7Ql",
        "outputId": "5195b09a-477c-46ec-a26b-e0cf3e13aaa0"
      },
      "outputs": [
        {
          "data": {
            "text/html": [
              "<div>\n",
              "<style scoped>\n",
              "    .dataframe tbody tr th:only-of-type {\n",
              "        vertical-align: middle;\n",
              "    }\n",
              "\n",
              "    .dataframe tbody tr th {\n",
              "        vertical-align: top;\n",
              "    }\n",
              "\n",
              "    .dataframe thead th {\n",
              "        text-align: right;\n",
              "    }\n",
              "</style>\n",
              "<table border=\"1\" class=\"dataframe\">\n",
              "  <thead>\n",
              "    <tr style=\"text-align: right;\">\n",
              "      <th></th>\n",
              "      <th>CustomerID</th>\n",
              "      <th>location</th>\n",
              "      <th>gender</th>\n",
              "      <th>type</th>\n",
              "      <th>quantity</th>\n",
              "      <th>total_bill</th>\n",
              "    </tr>\n",
              "  </thead>\n",
              "  <tbody>\n",
              "    <tr>\n",
              "      <th>4</th>\n",
              "      <td>CustID04</td>\n",
              "      <td>Austin</td>\n",
              "      <td>F</td>\n",
              "      <td>Beauty</td>\n",
              "      <td>1</td>\n",
              "      <td>80</td>\n",
              "    </tr>\n",
              "    <tr>\n",
              "      <th>2</th>\n",
              "      <td>CustID02</td>\n",
              "      <td>Seattle</td>\n",
              "      <td>F</td>\n",
              "      <td>Food&amp;Beverages</td>\n",
              "      <td>4</td>\n",
              "      <td>125</td>\n",
              "    </tr>\n",
              "    <tr>\n",
              "      <th>0</th>\n",
              "      <td>CustID00</td>\n",
              "      <td>Chicago</td>\n",
              "      <td>M</td>\n",
              "      <td>Electronics</td>\n",
              "      <td>1</td>\n",
              "      <td>100</td>\n",
              "    </tr>\n",
              "  </tbody>\n",
              "</table>\n",
              "</div>"
            ],
            "text/plain": [
              "  CustomerID location gender            type  quantity  total_bill\n",
              "4   CustID04   Austin      F          Beauty         1          80\n",
              "2   CustID02  Seattle      F  Food&Beverages         4         125\n",
              "0   CustID00  Chicago      M     Electronics         1         100"
            ]
          },
          "execution_count": 26,
          "metadata": {},
          "output_type": "execute_result"
        }
      ],
      "source": [
        "# accessing the rows in reverse\n",
        "store_data[::-2]"
      ]
    },
    {
      "cell_type": "markdown",
      "metadata": {
        "id": "WHWSlf0PPxWv"
      },
      "source": [
        "<span style=\"color:blue;\">**loc method**\n",
        "\n",
        "* <span style=\"color:blue;font-weight:bold\">loc is a  method to access rows and columns on pandas objects. When using the loc method on a dataframe, we specify which rows and which columns we want by using the following format:\n",
        "\n",
        "  * **<code style=\"color:blue\">dataframe.loc[row selection, column selection]</code>**\n",
        "\n",
        "* <span style=\"color:blue;font-weight:bold\">DataFrame.loc[] method is a method that takes **only index labels** and returns row or dataframe if the index label exists in the data frame.</span>"
      ]
    },
    {
      "cell_type": "code",
      "execution_count": null,
      "metadata": {
        "colab": {
          "base_uri": "https://localhost:8080/"
        },
        "id": "wwnArsdDO23-",
        "outputId": "3a3e3599-0517-4e65-88aa-3b67f64f1f7a"
      },
      "outputs": [
        {
          "data": {
            "text/plain": [
              "CustomerID          CustID01\n",
              "location              Boston\n",
              "gender                     M\n",
              "type          Food&Beverages\n",
              "quantity                   3\n",
              "total_bill                75\n",
              "Name: 1, dtype: object"
            ]
          },
          "execution_count": 27,
          "metadata": {},
          "output_type": "execute_result"
        }
      ],
      "source": [
        "# accessing first index value using loc method (indexing starts from 0 in python)\n",
        "store_data.loc[1]"
      ]
    },
    {
      "cell_type": "markdown",
      "metadata": {
        "id": "Q0yJ-rLlaaTs"
      },
      "source": [
        "<span style=\"color:blue;\">**Accessing selected rows and columns using loc method**"
      ]
    },
    {
      "cell_type": "code",
      "execution_count": null,
      "metadata": {
        "colab": {
          "base_uri": "https://localhost:8080/",
          "height": 112
        },
        "id": "nb1S6qqCS3j2",
        "outputId": "6eeb91a4-e83a-444a-82d2-901cc1e42672"
      },
      "outputs": [
        {
          "data": {
            "text/html": [
              "<div>\n",
              "<style scoped>\n",
              "    .dataframe tbody tr th:only-of-type {\n",
              "        vertical-align: middle;\n",
              "    }\n",
              "\n",
              "    .dataframe tbody tr th {\n",
              "        vertical-align: top;\n",
              "    }\n",
              "\n",
              "    .dataframe thead th {\n",
              "        text-align: right;\n",
              "    }\n",
              "</style>\n",
              "<table border=\"1\" class=\"dataframe\">\n",
              "  <thead>\n",
              "    <tr style=\"text-align: right;\">\n",
              "      <th></th>\n",
              "      <th>location</th>\n",
              "      <th>type</th>\n",
              "    </tr>\n",
              "  </thead>\n",
              "  <tbody>\n",
              "    <tr>\n",
              "      <th>1</th>\n",
              "      <td>Boston</td>\n",
              "      <td>Food&amp;Beverages</td>\n",
              "    </tr>\n",
              "    <tr>\n",
              "      <th>4</th>\n",
              "      <td>Austin</td>\n",
              "      <td>Beauty</td>\n",
              "    </tr>\n",
              "  </tbody>\n",
              "</table>\n",
              "</div>"
            ],
            "text/plain": [
              "  location            type\n",
              "1   Boston  Food&Beverages\n",
              "4   Austin          Beauty"
            ]
          },
          "execution_count": 28,
          "metadata": {},
          "output_type": "execute_result"
        }
      ],
      "source": [
        "# accessing 1st and 4th index values along with location and type columns\n",
        "store_data.loc[[1,4],['location','type']]"
      ]
    },
    {
      "cell_type": "markdown",
      "metadata": {
        "id": "XL5mkENwQ1Yt"
      },
      "source": [
        "<span style=\"color:blue;\">**iloc method**\n",
        "\n",
        "* <span style=\"color:blue;font-weight:bold\">The iloc indexer for Pandas Dataframe is used for **integer location-based** indexing/selection by position. When using the loc method on a dataframe, we specify which rows and which columns we want by using the following format:\n",
        "\n",
        "  * **<code style=\"color:blue;font-weight:bold\">dataframe.iloc[row selection, column selection]</code>**\n",
        "\n"
      ]
    },
    {
      "cell_type": "code",
      "execution_count": null,
      "metadata": {
        "colab": {
          "base_uri": "https://localhost:8080/",
          "height": 112
        },
        "id": "PP6eMjy-RNVd",
        "outputId": "12accb64-21ac-43be-b205-63f8e0708bd4"
      },
      "outputs": [
        {
          "data": {
            "text/html": [
              "<div>\n",
              "<style scoped>\n",
              "    .dataframe tbody tr th:only-of-type {\n",
              "        vertical-align: middle;\n",
              "    }\n",
              "\n",
              "    .dataframe tbody tr th {\n",
              "        vertical-align: top;\n",
              "    }\n",
              "\n",
              "    .dataframe thead th {\n",
              "        text-align: right;\n",
              "    }\n",
              "</style>\n",
              "<table border=\"1\" class=\"dataframe\">\n",
              "  <thead>\n",
              "    <tr style=\"text-align: right;\">\n",
              "      <th></th>\n",
              "      <th>CustomerID</th>\n",
              "      <th>gender</th>\n",
              "    </tr>\n",
              "  </thead>\n",
              "  <tbody>\n",
              "    <tr>\n",
              "      <th>1</th>\n",
              "      <td>CustID01</td>\n",
              "      <td>M</td>\n",
              "    </tr>\n",
              "    <tr>\n",
              "      <th>4</th>\n",
              "      <td>CustID04</td>\n",
              "      <td>F</td>\n",
              "    </tr>\n",
              "  </tbody>\n",
              "</table>\n",
              "</div>"
            ],
            "text/plain": [
              "  CustomerID gender\n",
              "1   CustID01      M\n",
              "4   CustID04      F"
            ]
          },
          "execution_count": 29,
          "metadata": {},
          "output_type": "execute_result"
        }
      ],
      "source": [
        "# accessing selected rows and columns using iloc method\n",
        "store_data.iloc[[1,4],[0,2]]"
      ]
    },
    {
      "cell_type": "markdown",
      "metadata": {
        "id": "YUjPItvHXNa_"
      },
      "source": [
        "**<span style=\"color:red;\">Difference between loc and iloc indexing methods</span>**\n",
        "\n",
        "* <b><span style=\"color:red;\">loc is label-based, which means that you have to specify rows and columns based on their row and column labels</span>\n",
        "* <b><span style=\"color:red;\">iloc is integer position-based, so you have to specify rows and columns by their integer position values (0-based integer position)</span>\n",
        "    \n",
        "**<span style=\"color:red;\">If we use labels instead of index values in .iloc it will throw an error.**"
      ]
    },
    {
      "cell_type": "code",
      "execution_count": null,
      "metadata": {
        "colab": {
          "base_uri": "https://localhost:8080/",
          "height": 112
        },
        "id": "TMDNQ34raaTt",
        "outputId": "e6f24dbd-9ae6-4573-d90a-020d6a03d868"
      },
      "outputs": [
        {
          "data": {
            "text/html": [
              "<div>\n",
              "<style scoped>\n",
              "    .dataframe tbody tr th:only-of-type {\n",
              "        vertical-align: middle;\n",
              "    }\n",
              "\n",
              "    .dataframe tbody tr th {\n",
              "        vertical-align: top;\n",
              "    }\n",
              "\n",
              "    .dataframe thead th {\n",
              "        text-align: right;\n",
              "    }\n",
              "</style>\n",
              "<table border=\"1\" class=\"dataframe\">\n",
              "  <thead>\n",
              "    <tr style=\"text-align: right;\">\n",
              "      <th></th>\n",
              "      <th>CustomerID</th>\n",
              "      <th>gender</th>\n",
              "    </tr>\n",
              "  </thead>\n",
              "  <tbody>\n",
              "    <tr>\n",
              "      <th>1</th>\n",
              "      <td>CustID01</td>\n",
              "      <td>M</td>\n",
              "    </tr>\n",
              "    <tr>\n",
              "      <th>4</th>\n",
              "      <td>CustID04</td>\n",
              "      <td>F</td>\n",
              "    </tr>\n",
              "  </tbody>\n",
              "</table>\n",
              "</div>"
            ],
            "text/plain": [
              "  CustomerID gender\n",
              "1   CustID01      M\n",
              "4   CustID04      F"
            ]
          },
          "execution_count": 30,
          "metadata": {},
          "output_type": "execute_result"
        }
      ],
      "source": [
        "# accessing selected rows and columns using iloc method\n",
        "store_data.iloc[[1,4],[0,2]]"
      ]
    },
    {
      "cell_type": "code",
      "execution_count": null,
      "metadata": {
        "colab": {
          "base_uri": "https://localhost:8080/",
          "height": 143
        },
        "id": "TV8boXFhknhG",
        "outputId": "d9dbb4e7-4ab2-4e56-b455-68827b5bd4ff"
      },
      "outputs": [
        {
          "data": {
            "text/html": [
              "<div>\n",
              "<style scoped>\n",
              "    .dataframe tbody tr th:only-of-type {\n",
              "        vertical-align: middle;\n",
              "    }\n",
              "\n",
              "    .dataframe tbody tr th {\n",
              "        vertical-align: top;\n",
              "    }\n",
              "\n",
              "    .dataframe thead th {\n",
              "        text-align: right;\n",
              "    }\n",
              "</style>\n",
              "<table border=\"1\" class=\"dataframe\">\n",
              "  <thead>\n",
              "    <tr style=\"text-align: right;\">\n",
              "      <th></th>\n",
              "      <th>CustomerID</th>\n",
              "      <th>location</th>\n",
              "    </tr>\n",
              "  </thead>\n",
              "  <tbody>\n",
              "    <tr>\n",
              "      <th>1</th>\n",
              "      <td>CustID01</td>\n",
              "      <td>Boston</td>\n",
              "    </tr>\n",
              "    <tr>\n",
              "      <th>2</th>\n",
              "      <td>CustID02</td>\n",
              "      <td>Seattle</td>\n",
              "    </tr>\n",
              "    <tr>\n",
              "      <th>3</th>\n",
              "      <td>CustID03</td>\n",
              "      <td>San Francisco</td>\n",
              "    </tr>\n",
              "  </tbody>\n",
              "</table>\n",
              "</div>"
            ],
            "text/plain": [
              "  CustomerID       location\n",
              "1   CustID01         Boston\n",
              "2   CustID02        Seattle\n",
              "3   CustID03  San Francisco"
            ]
          },
          "execution_count": 31,
          "metadata": {},
          "output_type": "execute_result"
        }
      ],
      "source": [
        "# accessing selected rows and columns using iloc method\n",
        "store_data.iloc[1:4,0:2]"
      ]
    },
    {
      "cell_type": "markdown",
      "metadata": {
        "id": "RBPiD5DiTUGN"
      },
      "source": [
        "<span style=\"color:blue;font-weight:bold\">We can modify entries of a dataframe using loc or iloc too"
      ]
    },
    {
      "cell_type": "code",
      "execution_count": null,
      "metadata": {
        "colab": {
          "base_uri": "https://localhost:8080/"
        },
        "id": "0UkHqdZNQfYh",
        "outputId": "ba0a66d8-4300-472d-ac26-751a5a5c3847"
      },
      "outputs": [
        {
          "name": "stdout",
          "output_type": "stream",
          "text": [
            "Beauty\n"
          ]
        }
      ],
      "source": [
        "print(store_data.loc[4,'type'])\n",
        "store_data.loc[4,'type'] = 'Electronics'"
      ]
    },
    {
      "cell_type": "code",
      "execution_count": null,
      "metadata": {
        "colab": {
          "base_uri": "https://localhost:8080/",
          "height": 206
        },
        "id": "RjRVVLptRaPw",
        "outputId": "74a516d5-097e-437b-9d8e-0c6e709cf341"
      },
      "outputs": [
        {
          "data": {
            "text/html": [
              "<div>\n",
              "<style scoped>\n",
              "    .dataframe tbody tr th:only-of-type {\n",
              "        vertical-align: middle;\n",
              "    }\n",
              "\n",
              "    .dataframe tbody tr th {\n",
              "        vertical-align: top;\n",
              "    }\n",
              "\n",
              "    .dataframe thead th {\n",
              "        text-align: right;\n",
              "    }\n",
              "</style>\n",
              "<table border=\"1\" class=\"dataframe\">\n",
              "  <thead>\n",
              "    <tr style=\"text-align: right;\">\n",
              "      <th></th>\n",
              "      <th>CustomerID</th>\n",
              "      <th>location</th>\n",
              "      <th>gender</th>\n",
              "      <th>type</th>\n",
              "      <th>quantity</th>\n",
              "      <th>total_bill</th>\n",
              "    </tr>\n",
              "  </thead>\n",
              "  <tbody>\n",
              "    <tr>\n",
              "      <th>0</th>\n",
              "      <td>CustID00</td>\n",
              "      <td>Chicago</td>\n",
              "      <td>M</td>\n",
              "      <td>Electronics</td>\n",
              "      <td>1</td>\n",
              "      <td>100</td>\n",
              "    </tr>\n",
              "    <tr>\n",
              "      <th>1</th>\n",
              "      <td>CustID01</td>\n",
              "      <td>Boston</td>\n",
              "      <td>M</td>\n",
              "      <td>Food&amp;Beverages</td>\n",
              "      <td>3</td>\n",
              "      <td>75</td>\n",
              "    </tr>\n",
              "    <tr>\n",
              "      <th>2</th>\n",
              "      <td>CustID02</td>\n",
              "      <td>Seattle</td>\n",
              "      <td>F</td>\n",
              "      <td>Food&amp;Beverages</td>\n",
              "      <td>4</td>\n",
              "      <td>125</td>\n",
              "    </tr>\n",
              "    <tr>\n",
              "      <th>3</th>\n",
              "      <td>CustID03</td>\n",
              "      <td>San Francisco</td>\n",
              "      <td>M</td>\n",
              "      <td>Medicine</td>\n",
              "      <td>2</td>\n",
              "      <td>50</td>\n",
              "    </tr>\n",
              "    <tr>\n",
              "      <th>4</th>\n",
              "      <td>CustID04</td>\n",
              "      <td>Austin</td>\n",
              "      <td>F</td>\n",
              "      <td>Electronics</td>\n",
              "      <td>1</td>\n",
              "      <td>80</td>\n",
              "    </tr>\n",
              "  </tbody>\n",
              "</table>\n",
              "</div>"
            ],
            "text/plain": [
              "  CustomerID       location gender            type  quantity  total_bill\n",
              "0   CustID00        Chicago      M     Electronics         1         100\n",
              "1   CustID01         Boston      M  Food&Beverages         3          75\n",
              "2   CustID02        Seattle      F  Food&Beverages         4         125\n",
              "3   CustID03  San Francisco      M        Medicine         2          50\n",
              "4   CustID04         Austin      F     Electronics         1          80"
            ]
          },
          "execution_count": 33,
          "metadata": {},
          "output_type": "execute_result"
        }
      ],
      "source": [
        "store_data"
      ]
    },
    {
      "cell_type": "code",
      "execution_count": null,
      "metadata": {
        "colab": {
          "base_uri": "https://localhost:8080/",
          "height": 206
        },
        "id": "2W8vdM6uTuSt",
        "outputId": "7a4b7c8c-ffb4-491e-e8e1-eb54cc99f3e2"
      },
      "outputs": [
        {
          "data": {
            "text/html": [
              "<div>\n",
              "<style scoped>\n",
              "    .dataframe tbody tr th:only-of-type {\n",
              "        vertical-align: middle;\n",
              "    }\n",
              "\n",
              "    .dataframe tbody tr th {\n",
              "        vertical-align: top;\n",
              "    }\n",
              "\n",
              "    .dataframe thead th {\n",
              "        text-align: right;\n",
              "    }\n",
              "</style>\n",
              "<table border=\"1\" class=\"dataframe\">\n",
              "  <thead>\n",
              "    <tr style=\"text-align: right;\">\n",
              "      <th></th>\n",
              "      <th>CustomerID</th>\n",
              "      <th>location</th>\n",
              "      <th>gender</th>\n",
              "      <th>type</th>\n",
              "      <th>quantity</th>\n",
              "      <th>total_bill</th>\n",
              "    </tr>\n",
              "  </thead>\n",
              "  <tbody>\n",
              "    <tr>\n",
              "      <th>0</th>\n",
              "      <td>CustID00</td>\n",
              "      <td>Chicago</td>\n",
              "      <td>M</td>\n",
              "      <td>Electronics</td>\n",
              "      <td>1</td>\n",
              "      <td>100</td>\n",
              "    </tr>\n",
              "    <tr>\n",
              "      <th>1</th>\n",
              "      <td>CustID01</td>\n",
              "      <td>Boston</td>\n",
              "      <td>M</td>\n",
              "      <td>Food&amp;Beverages</td>\n",
              "      <td>3</td>\n",
              "      <td>75</td>\n",
              "    </tr>\n",
              "    <tr>\n",
              "      <th>2</th>\n",
              "      <td>CustID02</td>\n",
              "      <td>Seattle</td>\n",
              "      <td>F</td>\n",
              "      <td>Food&amp;Beverages</td>\n",
              "      <td>4</td>\n",
              "      <td>125</td>\n",
              "    </tr>\n",
              "    <tr>\n",
              "      <th>3</th>\n",
              "      <td>CustID03</td>\n",
              "      <td>San Francisco</td>\n",
              "      <td>M</td>\n",
              "      <td>Medicine</td>\n",
              "      <td>2</td>\n",
              "      <td>50</td>\n",
              "    </tr>\n",
              "    <tr>\n",
              "      <th>4</th>\n",
              "      <td>CustID04</td>\n",
              "      <td>Austin</td>\n",
              "      <td>F</td>\n",
              "      <td>Beauty</td>\n",
              "      <td>1</td>\n",
              "      <td>80</td>\n",
              "    </tr>\n",
              "  </tbody>\n",
              "</table>\n",
              "</div>"
            ],
            "text/plain": [
              "  CustomerID       location gender            type  quantity  total_bill\n",
              "0   CustID00        Chicago      M     Electronics         1         100\n",
              "1   CustID01         Boston      M  Food&Beverages         3          75\n",
              "2   CustID02        Seattle      F  Food&Beverages         4         125\n",
              "3   CustID03  San Francisco      M        Medicine         2          50\n",
              "4   CustID04         Austin      F          Beauty         1          80"
            ]
          },
          "execution_count": 34,
          "metadata": {},
          "output_type": "execute_result"
        }
      ],
      "source": [
        "store_data.iloc[4,3] = 'Beauty'\n",
        "store_data"
      ]
    },
    {
      "cell_type": "markdown",
      "metadata": {
        "id": "96RCw04-XlVb"
      },
      "source": [
        "<span style=\"color:blue;font-weight:bold\">Condition based indexing</span>"
      ]
    },
    {
      "cell_type": "code",
      "execution_count": null,
      "metadata": {
        "colab": {
          "base_uri": "https://localhost:8080/"
        },
        "id": "2cH76CDLYOVD",
        "outputId": "87ebcde2-4b1e-4be0-a08f-4bd582874940"
      },
      "outputs": [
        {
          "data": {
            "text/plain": [
              "0    False\n",
              "1     True\n",
              "2     True\n",
              "3     True\n",
              "4    False\n",
              "Name: quantity, dtype: bool"
            ]
          },
          "execution_count": 35,
          "metadata": {},
          "output_type": "execute_result"
        }
      ],
      "source": [
        "store_data['quantity']>1"
      ]
    },
    {
      "cell_type": "code",
      "execution_count": null,
      "metadata": {
        "colab": {
          "base_uri": "https://localhost:8080/",
          "height": 143
        },
        "id": "c3Wba0oJYRlx",
        "outputId": "ceed4e21-f884-4d3f-ce85-9a7cb6d3e970"
      },
      "outputs": [
        {
          "data": {
            "text/html": [
              "<div>\n",
              "<style scoped>\n",
              "    .dataframe tbody tr th:only-of-type {\n",
              "        vertical-align: middle;\n",
              "    }\n",
              "\n",
              "    .dataframe tbody tr th {\n",
              "        vertical-align: top;\n",
              "    }\n",
              "\n",
              "    .dataframe thead th {\n",
              "        text-align: right;\n",
              "    }\n",
              "</style>\n",
              "<table border=\"1\" class=\"dataframe\">\n",
              "  <thead>\n",
              "    <tr style=\"text-align: right;\">\n",
              "      <th></th>\n",
              "      <th>CustomerID</th>\n",
              "      <th>location</th>\n",
              "      <th>gender</th>\n",
              "      <th>type</th>\n",
              "      <th>quantity</th>\n",
              "      <th>total_bill</th>\n",
              "    </tr>\n",
              "  </thead>\n",
              "  <tbody>\n",
              "    <tr>\n",
              "      <th>1</th>\n",
              "      <td>CustID01</td>\n",
              "      <td>Boston</td>\n",
              "      <td>M</td>\n",
              "      <td>Food&amp;Beverages</td>\n",
              "      <td>3</td>\n",
              "      <td>75</td>\n",
              "    </tr>\n",
              "    <tr>\n",
              "      <th>2</th>\n",
              "      <td>CustID02</td>\n",
              "      <td>Seattle</td>\n",
              "      <td>F</td>\n",
              "      <td>Food&amp;Beverages</td>\n",
              "      <td>4</td>\n",
              "      <td>125</td>\n",
              "    </tr>\n",
              "    <tr>\n",
              "      <th>3</th>\n",
              "      <td>CustID03</td>\n",
              "      <td>San Francisco</td>\n",
              "      <td>M</td>\n",
              "      <td>Medicine</td>\n",
              "      <td>2</td>\n",
              "      <td>50</td>\n",
              "    </tr>\n",
              "  </tbody>\n",
              "</table>\n",
              "</div>"
            ],
            "text/plain": [
              "  CustomerID       location gender            type  quantity  total_bill\n",
              "1   CustID01         Boston      M  Food&Beverages         3          75\n",
              "2   CustID02        Seattle      F  Food&Beverages         4         125\n",
              "3   CustID03  San Francisco      M        Medicine         2          50"
            ]
          },
          "execution_count": 36,
          "metadata": {},
          "output_type": "execute_result"
        }
      ],
      "source": [
        "store_data.loc[store_data['quantity']>1]"
      ]
    },
    {
      "cell_type": "markdown",
      "metadata": {
        "id": "OGT6WSHFZApo"
      },
      "source": [
        "<span style=\"color:blue;font-weight:bold\">Column addition and removal from a Pandas DataFrame</span>"
      ]
    },
    {
      "cell_type": "markdown",
      "metadata": {
        "id": "X29WMLIgZbPi"
      },
      "source": [
        "<span style=\"color:blue;font-weight:bold\">Adding a new column in a DataFrame</span>"
      ]
    },
    {
      "cell_type": "code",
      "execution_count": null,
      "metadata": {
        "colab": {
          "base_uri": "https://localhost:8080/",
          "height": 206
        },
        "id": "zwcPawNlZn8S",
        "outputId": "fdec828a-b382-4460-8a8d-bf539700a8dc"
      },
      "outputs": [
        {
          "data": {
            "text/html": [
              "<div>\n",
              "<style scoped>\n",
              "    .dataframe tbody tr th:only-of-type {\n",
              "        vertical-align: middle;\n",
              "    }\n",
              "\n",
              "    .dataframe tbody tr th {\n",
              "        vertical-align: top;\n",
              "    }\n",
              "\n",
              "    .dataframe thead th {\n",
              "        text-align: right;\n",
              "    }\n",
              "</style>\n",
              "<table border=\"1\" class=\"dataframe\">\n",
              "  <thead>\n",
              "    <tr style=\"text-align: right;\">\n",
              "      <th></th>\n",
              "      <th>CustomerID</th>\n",
              "      <th>location</th>\n",
              "      <th>gender</th>\n",
              "      <th>type</th>\n",
              "      <th>quantity</th>\n",
              "      <th>total_bill</th>\n",
              "      <th>rating</th>\n",
              "    </tr>\n",
              "  </thead>\n",
              "  <tbody>\n",
              "    <tr>\n",
              "      <th>0</th>\n",
              "      <td>CustID00</td>\n",
              "      <td>Chicago</td>\n",
              "      <td>M</td>\n",
              "      <td>Electronics</td>\n",
              "      <td>1</td>\n",
              "      <td>100</td>\n",
              "      <td>2</td>\n",
              "    </tr>\n",
              "    <tr>\n",
              "      <th>1</th>\n",
              "      <td>CustID01</td>\n",
              "      <td>Boston</td>\n",
              "      <td>M</td>\n",
              "      <td>Food&amp;Beverages</td>\n",
              "      <td>3</td>\n",
              "      <td>75</td>\n",
              "      <td>5</td>\n",
              "    </tr>\n",
              "    <tr>\n",
              "      <th>2</th>\n",
              "      <td>CustID02</td>\n",
              "      <td>Seattle</td>\n",
              "      <td>F</td>\n",
              "      <td>Food&amp;Beverages</td>\n",
              "      <td>4</td>\n",
              "      <td>125</td>\n",
              "      <td>3</td>\n",
              "    </tr>\n",
              "    <tr>\n",
              "      <th>3</th>\n",
              "      <td>CustID03</td>\n",
              "      <td>San Francisco</td>\n",
              "      <td>M</td>\n",
              "      <td>Medicine</td>\n",
              "      <td>2</td>\n",
              "      <td>50</td>\n",
              "      <td>4</td>\n",
              "    </tr>\n",
              "    <tr>\n",
              "      <th>4</th>\n",
              "      <td>CustID04</td>\n",
              "      <td>Austin</td>\n",
              "      <td>F</td>\n",
              "      <td>Beauty</td>\n",
              "      <td>1</td>\n",
              "      <td>80</td>\n",
              "      <td>4</td>\n",
              "    </tr>\n",
              "  </tbody>\n",
              "</table>\n",
              "</div>"
            ],
            "text/plain": [
              "  CustomerID       location gender            type  quantity  total_bill  \\\n",
              "0   CustID00        Chicago      M     Electronics         1         100   \n",
              "1   CustID01         Boston      M  Food&Beverages         3          75   \n",
              "2   CustID02        Seattle      F  Food&Beverages         4         125   \n",
              "3   CustID03  San Francisco      M        Medicine         2          50   \n",
              "4   CustID04         Austin      F          Beauty         1          80   \n",
              "\n",
              "   rating  \n",
              "0       2  \n",
              "1       5  \n",
              "2       3  \n",
              "3       4  \n",
              "4       4  "
            ]
          },
          "execution_count": 37,
          "metadata": {},
          "output_type": "execute_result"
        }
      ],
      "source": [
        "# adding a new column in data frame store_data which is a rating (out of 5) given by customer based on their shopping experience\n",
        "store_data['rating'] = [2,5,3,4,4]\n",
        "store_data"
      ]
    },
    {
      "cell_type": "markdown",
      "metadata": {
        "id": "8-RPaeeMaAms"
      },
      "source": [
        "<span style=\"color:blue;font-weight:bold\">Removing a column from a DataFrame</span>"
      ]
    },
    {
      "cell_type": "code",
      "execution_count": null,
      "metadata": {
        "colab": {
          "base_uri": "https://localhost:8080/",
          "height": 206
        },
        "id": "d7pr_yifasub",
        "outputId": "e78e67d1-9e74-42cf-fce3-b260f8d190ad"
      },
      "outputs": [
        {
          "data": {
            "text/html": [
              "<div>\n",
              "<style scoped>\n",
              "    .dataframe tbody tr th:only-of-type {\n",
              "        vertical-align: middle;\n",
              "    }\n",
              "\n",
              "    .dataframe tbody tr th {\n",
              "        vertical-align: top;\n",
              "    }\n",
              "\n",
              "    .dataframe thead th {\n",
              "        text-align: right;\n",
              "    }\n",
              "</style>\n",
              "<table border=\"1\" class=\"dataframe\">\n",
              "  <thead>\n",
              "    <tr style=\"text-align: right;\">\n",
              "      <th></th>\n",
              "      <th>location</th>\n",
              "      <th>gender</th>\n",
              "      <th>type</th>\n",
              "      <th>quantity</th>\n",
              "      <th>total_bill</th>\n",
              "      <th>rating</th>\n",
              "    </tr>\n",
              "  </thead>\n",
              "  <tbody>\n",
              "    <tr>\n",
              "      <th>0</th>\n",
              "      <td>Chicago</td>\n",
              "      <td>M</td>\n",
              "      <td>Electronics</td>\n",
              "      <td>1</td>\n",
              "      <td>100</td>\n",
              "      <td>2</td>\n",
              "    </tr>\n",
              "    <tr>\n",
              "      <th>1</th>\n",
              "      <td>Boston</td>\n",
              "      <td>M</td>\n",
              "      <td>Food&amp;Beverages</td>\n",
              "      <td>3</td>\n",
              "      <td>75</td>\n",
              "      <td>5</td>\n",
              "    </tr>\n",
              "    <tr>\n",
              "      <th>2</th>\n",
              "      <td>Seattle</td>\n",
              "      <td>F</td>\n",
              "      <td>Food&amp;Beverages</td>\n",
              "      <td>4</td>\n",
              "      <td>125</td>\n",
              "      <td>3</td>\n",
              "    </tr>\n",
              "    <tr>\n",
              "      <th>3</th>\n",
              "      <td>San Francisco</td>\n",
              "      <td>M</td>\n",
              "      <td>Medicine</td>\n",
              "      <td>2</td>\n",
              "      <td>50</td>\n",
              "      <td>4</td>\n",
              "    </tr>\n",
              "    <tr>\n",
              "      <th>4</th>\n",
              "      <td>Austin</td>\n",
              "      <td>F</td>\n",
              "      <td>Beauty</td>\n",
              "      <td>1</td>\n",
              "      <td>80</td>\n",
              "      <td>4</td>\n",
              "    </tr>\n",
              "  </tbody>\n",
              "</table>\n",
              "</div>"
            ],
            "text/plain": [
              "        location gender            type  quantity  total_bill  rating\n",
              "0        Chicago      M     Electronics         1         100       2\n",
              "1         Boston      M  Food&Beverages         3          75       5\n",
              "2        Seattle      F  Food&Beverages         4         125       3\n",
              "3  San Francisco      M        Medicine         2          50       4\n",
              "4         Austin      F          Beauty         1          80       4"
            ]
          },
          "execution_count": 38,
          "metadata": {},
          "output_type": "execute_result"
        }
      ],
      "source": [
        "store_data.drop('CustomerID',axis=1,inplace=True) # with inplace\n",
        "store_data"
      ]
    },
    {
      "cell_type": "code",
      "execution_count": null,
      "metadata": {
        "colab": {
          "base_uri": "https://localhost:8080/",
          "height": 206
        },
        "id": "Ro8px764bGkI",
        "outputId": "a0addf4f-c101-41d0-f9cf-af2e8e20b839"
      },
      "outputs": [
        {
          "data": {
            "text/html": [
              "<div>\n",
              "<style scoped>\n",
              "    .dataframe tbody tr th:only-of-type {\n",
              "        vertical-align: middle;\n",
              "    }\n",
              "\n",
              "    .dataframe tbody tr th {\n",
              "        vertical-align: top;\n",
              "    }\n",
              "\n",
              "    .dataframe thead th {\n",
              "        text-align: right;\n",
              "    }\n",
              "</style>\n",
              "<table border=\"1\" class=\"dataframe\">\n",
              "  <thead>\n",
              "    <tr style=\"text-align: right;\">\n",
              "      <th></th>\n",
              "      <th>location</th>\n",
              "      <th>gender</th>\n",
              "      <th>type</th>\n",
              "      <th>quantity</th>\n",
              "      <th>total_bill</th>\n",
              "      <th>rating</th>\n",
              "    </tr>\n",
              "  </thead>\n",
              "  <tbody>\n",
              "    <tr>\n",
              "      <th>0</th>\n",
              "      <td>Chicago</td>\n",
              "      <td>M</td>\n",
              "      <td>Electronics</td>\n",
              "      <td>1</td>\n",
              "      <td>100</td>\n",
              "      <td>2</td>\n",
              "    </tr>\n",
              "    <tr>\n",
              "      <th>1</th>\n",
              "      <td>Boston</td>\n",
              "      <td>M</td>\n",
              "      <td>Food&amp;Beverages</td>\n",
              "      <td>3</td>\n",
              "      <td>75</td>\n",
              "      <td>5</td>\n",
              "    </tr>\n",
              "    <tr>\n",
              "      <th>2</th>\n",
              "      <td>Seattle</td>\n",
              "      <td>F</td>\n",
              "      <td>Food&amp;Beverages</td>\n",
              "      <td>4</td>\n",
              "      <td>125</td>\n",
              "      <td>3</td>\n",
              "    </tr>\n",
              "    <tr>\n",
              "      <th>3</th>\n",
              "      <td>San Francisco</td>\n",
              "      <td>M</td>\n",
              "      <td>Medicine</td>\n",
              "      <td>2</td>\n",
              "      <td>50</td>\n",
              "      <td>4</td>\n",
              "    </tr>\n",
              "    <tr>\n",
              "      <th>4</th>\n",
              "      <td>Austin</td>\n",
              "      <td>F</td>\n",
              "      <td>Beauty</td>\n",
              "      <td>1</td>\n",
              "      <td>80</td>\n",
              "      <td>4</td>\n",
              "    </tr>\n",
              "  </tbody>\n",
              "</table>\n",
              "</div>"
            ],
            "text/plain": [
              "        location gender            type  quantity  total_bill  rating\n",
              "0        Chicago      M     Electronics         1         100       2\n",
              "1         Boston      M  Food&Beverages         3          75       5\n",
              "2        Seattle      F  Food&Beverages         4         125       3\n",
              "3  San Francisco      M        Medicine         2          50       4\n",
              "4         Austin      F          Beauty         1          80       4"
            ]
          },
          "execution_count": 39,
          "metadata": {},
          "output_type": "execute_result"
        }
      ],
      "source": [
        "# we can also remove multiple columns simultaneously\n",
        "# it is always a good idea to store the new/updated data frames in new variables to avoid changes to the existing data frame\n",
        "\n",
        "# creating a copy of the existing data frame\n",
        "new_store_data = store_data.copy()\n",
        "store_data"
      ]
    },
    {
      "cell_type": "code",
      "execution_count": null,
      "metadata": {
        "colab": {
          "base_uri": "https://localhost:8080/",
          "height": 206
        },
        "id": "8_-04QAFbo7F",
        "outputId": "dd7a30ab-881f-4b37-e3ad-ee0f0205e56f"
      },
      "outputs": [
        {
          "data": {
            "text/html": [
              "<div>\n",
              "<style scoped>\n",
              "    .dataframe tbody tr th:only-of-type {\n",
              "        vertical-align: middle;\n",
              "    }\n",
              "\n",
              "    .dataframe tbody tr th {\n",
              "        vertical-align: top;\n",
              "    }\n",
              "\n",
              "    .dataframe thead th {\n",
              "        text-align: right;\n",
              "    }\n",
              "</style>\n",
              "<table border=\"1\" class=\"dataframe\">\n",
              "  <thead>\n",
              "    <tr style=\"text-align: right;\">\n",
              "      <th></th>\n",
              "      <th>gender</th>\n",
              "      <th>type</th>\n",
              "      <th>quantity</th>\n",
              "      <th>total_bill</th>\n",
              "    </tr>\n",
              "  </thead>\n",
              "  <tbody>\n",
              "    <tr>\n",
              "      <th>0</th>\n",
              "      <td>M</td>\n",
              "      <td>Electronics</td>\n",
              "      <td>1</td>\n",
              "      <td>100</td>\n",
              "    </tr>\n",
              "    <tr>\n",
              "      <th>1</th>\n",
              "      <td>M</td>\n",
              "      <td>Food&amp;Beverages</td>\n",
              "      <td>3</td>\n",
              "      <td>75</td>\n",
              "    </tr>\n",
              "    <tr>\n",
              "      <th>2</th>\n",
              "      <td>F</td>\n",
              "      <td>Food&amp;Beverages</td>\n",
              "      <td>4</td>\n",
              "      <td>125</td>\n",
              "    </tr>\n",
              "    <tr>\n",
              "      <th>3</th>\n",
              "      <td>M</td>\n",
              "      <td>Medicine</td>\n",
              "      <td>2</td>\n",
              "      <td>50</td>\n",
              "    </tr>\n",
              "    <tr>\n",
              "      <th>4</th>\n",
              "      <td>F</td>\n",
              "      <td>Beauty</td>\n",
              "      <td>1</td>\n",
              "      <td>80</td>\n",
              "    </tr>\n",
              "  </tbody>\n",
              "</table>\n",
              "</div>"
            ],
            "text/plain": [
              "  gender            type  quantity  total_bill\n",
              "0      M     Electronics         1         100\n",
              "1      M  Food&Beverages         3          75\n",
              "2      F  Food&Beverages         4         125\n",
              "3      M        Medicine         2          50\n",
              "4      F          Beauty         1          80"
            ]
          },
          "execution_count": 40,
          "metadata": {},
          "output_type": "execute_result"
        }
      ],
      "source": [
        "# dropping location and rating columns simultaneously\n",
        "new_store_data.drop(['location','rating'],axis=1,inplace=True)\n",
        "new_store_data"
      ]
    },
    {
      "cell_type": "code",
      "execution_count": null,
      "metadata": {
        "colab": {
          "base_uri": "https://localhost:8080/",
          "height": 206
        },
        "id": "wa_pg8MhbuxC",
        "outputId": "91e491bc-1a86-435a-f945-a042d02e8818"
      },
      "outputs": [
        {
          "data": {
            "text/html": [
              "<div>\n",
              "<style scoped>\n",
              "    .dataframe tbody tr th:only-of-type {\n",
              "        vertical-align: middle;\n",
              "    }\n",
              "\n",
              "    .dataframe tbody tr th {\n",
              "        vertical-align: top;\n",
              "    }\n",
              "\n",
              "    .dataframe thead th {\n",
              "        text-align: right;\n",
              "    }\n",
              "</style>\n",
              "<table border=\"1\" class=\"dataframe\">\n",
              "  <thead>\n",
              "    <tr style=\"text-align: right;\">\n",
              "      <th></th>\n",
              "      <th>location</th>\n",
              "      <th>gender</th>\n",
              "      <th>type</th>\n",
              "      <th>quantity</th>\n",
              "      <th>total_bill</th>\n",
              "      <th>rating</th>\n",
              "    </tr>\n",
              "  </thead>\n",
              "  <tbody>\n",
              "    <tr>\n",
              "      <th>0</th>\n",
              "      <td>Chicago</td>\n",
              "      <td>M</td>\n",
              "      <td>Electronics</td>\n",
              "      <td>1</td>\n",
              "      <td>100</td>\n",
              "      <td>2</td>\n",
              "    </tr>\n",
              "    <tr>\n",
              "      <th>1</th>\n",
              "      <td>Boston</td>\n",
              "      <td>M</td>\n",
              "      <td>Food&amp;Beverages</td>\n",
              "      <td>3</td>\n",
              "      <td>75</td>\n",
              "      <td>5</td>\n",
              "    </tr>\n",
              "    <tr>\n",
              "      <th>2</th>\n",
              "      <td>Seattle</td>\n",
              "      <td>F</td>\n",
              "      <td>Food&amp;Beverages</td>\n",
              "      <td>4</td>\n",
              "      <td>125</td>\n",
              "      <td>3</td>\n",
              "    </tr>\n",
              "    <tr>\n",
              "      <th>3</th>\n",
              "      <td>San Francisco</td>\n",
              "      <td>M</td>\n",
              "      <td>Medicine</td>\n",
              "      <td>2</td>\n",
              "      <td>50</td>\n",
              "      <td>4</td>\n",
              "    </tr>\n",
              "    <tr>\n",
              "      <th>4</th>\n",
              "      <td>Austin</td>\n",
              "      <td>F</td>\n",
              "      <td>Beauty</td>\n",
              "      <td>1</td>\n",
              "      <td>80</td>\n",
              "      <td>4</td>\n",
              "    </tr>\n",
              "  </tbody>\n",
              "</table>\n",
              "</div>"
            ],
            "text/plain": [
              "        location gender            type  quantity  total_bill  rating\n",
              "0        Chicago      M     Electronics         1         100       2\n",
              "1         Boston      M  Food&Beverages         3          75       5\n",
              "2        Seattle      F  Food&Beverages         4         125       3\n",
              "3  San Francisco      M        Medicine         2          50       4\n",
              "4         Austin      F          Beauty         1          80       4"
            ]
          },
          "execution_count": 41,
          "metadata": {},
          "output_type": "execute_result"
        }
      ],
      "source": [
        "# lets check if store_data was impacted\n",
        "store_data"
      ]
    },
    {
      "cell_type": "markdown",
      "metadata": {
        "id": "JBLXfOlob0NY"
      },
      "source": [
        "* There were no changes to data frame store_data."
      ]
    },
    {
      "cell_type": "markdown",
      "metadata": {
        "id": "hT8Sq8-Ab3Rj"
      },
      "source": [
        "<span style=\"color:blue;font-weight:bold\">Removing rows from a dataframe</span>"
      ]
    },
    {
      "cell_type": "code",
      "execution_count": null,
      "metadata": {
        "colab": {
          "base_uri": "https://localhost:8080/",
          "height": 175
        },
        "id": "1KeeacRlcDgw",
        "outputId": "c9727977-a9e8-4fbc-9d74-265da3f01e98"
      },
      "outputs": [
        {
          "data": {
            "text/html": [
              "<div>\n",
              "<style scoped>\n",
              "    .dataframe tbody tr th:only-of-type {\n",
              "        vertical-align: middle;\n",
              "    }\n",
              "\n",
              "    .dataframe tbody tr th {\n",
              "        vertical-align: top;\n",
              "    }\n",
              "\n",
              "    .dataframe thead th {\n",
              "        text-align: right;\n",
              "    }\n",
              "</style>\n",
              "<table border=\"1\" class=\"dataframe\">\n",
              "  <thead>\n",
              "    <tr style=\"text-align: right;\">\n",
              "      <th></th>\n",
              "      <th>location</th>\n",
              "      <th>gender</th>\n",
              "      <th>type</th>\n",
              "      <th>quantity</th>\n",
              "      <th>total_bill</th>\n",
              "      <th>rating</th>\n",
              "    </tr>\n",
              "  </thead>\n",
              "  <tbody>\n",
              "    <tr>\n",
              "      <th>0</th>\n",
              "      <td>Chicago</td>\n",
              "      <td>M</td>\n",
              "      <td>Electronics</td>\n",
              "      <td>1</td>\n",
              "      <td>100</td>\n",
              "      <td>2</td>\n",
              "    </tr>\n",
              "    <tr>\n",
              "      <th>2</th>\n",
              "      <td>Seattle</td>\n",
              "      <td>F</td>\n",
              "      <td>Food&amp;Beverages</td>\n",
              "      <td>4</td>\n",
              "      <td>125</td>\n",
              "      <td>3</td>\n",
              "    </tr>\n",
              "    <tr>\n",
              "      <th>3</th>\n",
              "      <td>San Francisco</td>\n",
              "      <td>M</td>\n",
              "      <td>Medicine</td>\n",
              "      <td>2</td>\n",
              "      <td>50</td>\n",
              "      <td>4</td>\n",
              "    </tr>\n",
              "    <tr>\n",
              "      <th>4</th>\n",
              "      <td>Austin</td>\n",
              "      <td>F</td>\n",
              "      <td>Beauty</td>\n",
              "      <td>1</td>\n",
              "      <td>80</td>\n",
              "      <td>4</td>\n",
              "    </tr>\n",
              "  </tbody>\n",
              "</table>\n",
              "</div>"
            ],
            "text/plain": [
              "        location gender            type  quantity  total_bill  rating\n",
              "0        Chicago      M     Electronics         1         100       2\n",
              "2        Seattle      F  Food&Beverages         4         125       3\n",
              "3  San Francisco      M        Medicine         2          50       4\n",
              "4         Austin      F          Beauty         1          80       4"
            ]
          },
          "execution_count": 42,
          "metadata": {},
          "output_type": "execute_result"
        }
      ],
      "source": [
        "store_data.drop(1,axis=0) # notice axis = 0 for rows, again without inplace"
      ]
    },
    {
      "cell_type": "code",
      "execution_count": null,
      "metadata": {
        "colab": {
          "base_uri": "https://localhost:8080/",
          "height": 206
        },
        "id": "3F4WNiEONe4g",
        "outputId": "d9571266-4e00-4aef-ffb0-9e32ef85290f"
      },
      "outputs": [
        {
          "data": {
            "text/html": [
              "<div>\n",
              "<style scoped>\n",
              "    .dataframe tbody tr th:only-of-type {\n",
              "        vertical-align: middle;\n",
              "    }\n",
              "\n",
              "    .dataframe tbody tr th {\n",
              "        vertical-align: top;\n",
              "    }\n",
              "\n",
              "    .dataframe thead th {\n",
              "        text-align: right;\n",
              "    }\n",
              "</style>\n",
              "<table border=\"1\" class=\"dataframe\">\n",
              "  <thead>\n",
              "    <tr style=\"text-align: right;\">\n",
              "      <th></th>\n",
              "      <th>location</th>\n",
              "      <th>gender</th>\n",
              "      <th>type</th>\n",
              "      <th>quantity</th>\n",
              "      <th>total_bill</th>\n",
              "      <th>rating</th>\n",
              "    </tr>\n",
              "  </thead>\n",
              "  <tbody>\n",
              "    <tr>\n",
              "      <th>0</th>\n",
              "      <td>Chicago</td>\n",
              "      <td>M</td>\n",
              "      <td>Electronics</td>\n",
              "      <td>1</td>\n",
              "      <td>100</td>\n",
              "      <td>2</td>\n",
              "    </tr>\n",
              "    <tr>\n",
              "      <th>1</th>\n",
              "      <td>Boston</td>\n",
              "      <td>M</td>\n",
              "      <td>Food&amp;Beverages</td>\n",
              "      <td>3</td>\n",
              "      <td>75</td>\n",
              "      <td>5</td>\n",
              "    </tr>\n",
              "    <tr>\n",
              "      <th>2</th>\n",
              "      <td>Seattle</td>\n",
              "      <td>F</td>\n",
              "      <td>Food&amp;Beverages</td>\n",
              "      <td>4</td>\n",
              "      <td>125</td>\n",
              "      <td>3</td>\n",
              "    </tr>\n",
              "    <tr>\n",
              "      <th>3</th>\n",
              "      <td>San Francisco</td>\n",
              "      <td>M</td>\n",
              "      <td>Medicine</td>\n",
              "      <td>2</td>\n",
              "      <td>50</td>\n",
              "      <td>4</td>\n",
              "    </tr>\n",
              "    <tr>\n",
              "      <th>4</th>\n",
              "      <td>Austin</td>\n",
              "      <td>F</td>\n",
              "      <td>Beauty</td>\n",
              "      <td>1</td>\n",
              "      <td>80</td>\n",
              "      <td>4</td>\n",
              "    </tr>\n",
              "  </tbody>\n",
              "</table>\n",
              "</div>"
            ],
            "text/plain": [
              "        location gender            type  quantity  total_bill  rating\n",
              "0        Chicago      M     Electronics         1         100       2\n",
              "1         Boston      M  Food&Beverages         3          75       5\n",
              "2        Seattle      F  Food&Beverages         4         125       3\n",
              "3  San Francisco      M        Medicine         2          50       4\n",
              "4         Austin      F          Beauty         1          80       4"
            ]
          },
          "execution_count": 43,
          "metadata": {},
          "output_type": "execute_result"
        }
      ],
      "source": [
        "store_data"
      ]
    },
    {
      "cell_type": "markdown",
      "metadata": {
        "id": "qsGlmJzucG3t"
      },
      "source": [
        "* Notice that we used **`axis=0`** to drop a row from a data frame, while we were using **`axis=1`** for dropping a column from the data frame.\n",
        "* Also, to make permanent changes to the data frame we will have to use `inplace=True` parameter.\n",
        "* We also see that the index are not correct now as first row has been removed. So, we will have to reset the index of the data frame. Let's see how this can be done."
      ]
    },
    {
      "cell_type": "code",
      "execution_count": null,
      "metadata": {
        "colab": {
          "base_uri": "https://localhost:8080/",
          "height": 175
        },
        "id": "QHj_lQWQd8Li",
        "outputId": "19d71f69-c65f-467e-960d-1dcf3e9ed1ec"
      },
      "outputs": [
        {
          "data": {
            "text/html": [
              "<div>\n",
              "<style scoped>\n",
              "    .dataframe tbody tr th:only-of-type {\n",
              "        vertical-align: middle;\n",
              "    }\n",
              "\n",
              "    .dataframe tbody tr th {\n",
              "        vertical-align: top;\n",
              "    }\n",
              "\n",
              "    .dataframe thead th {\n",
              "        text-align: right;\n",
              "    }\n",
              "</style>\n",
              "<table border=\"1\" class=\"dataframe\">\n",
              "  <thead>\n",
              "    <tr style=\"text-align: right;\">\n",
              "      <th></th>\n",
              "      <th>location</th>\n",
              "      <th>gender</th>\n",
              "      <th>type</th>\n",
              "      <th>quantity</th>\n",
              "      <th>total_bill</th>\n",
              "      <th>rating</th>\n",
              "    </tr>\n",
              "  </thead>\n",
              "  <tbody>\n",
              "    <tr>\n",
              "      <th>0</th>\n",
              "      <td>Chicago</td>\n",
              "      <td>M</td>\n",
              "      <td>Electronics</td>\n",
              "      <td>1</td>\n",
              "      <td>100</td>\n",
              "      <td>2</td>\n",
              "    </tr>\n",
              "    <tr>\n",
              "      <th>2</th>\n",
              "      <td>Seattle</td>\n",
              "      <td>F</td>\n",
              "      <td>Food&amp;Beverages</td>\n",
              "      <td>4</td>\n",
              "      <td>125</td>\n",
              "      <td>3</td>\n",
              "    </tr>\n",
              "    <tr>\n",
              "      <th>3</th>\n",
              "      <td>San Francisco</td>\n",
              "      <td>M</td>\n",
              "      <td>Medicine</td>\n",
              "      <td>2</td>\n",
              "      <td>50</td>\n",
              "      <td>4</td>\n",
              "    </tr>\n",
              "    <tr>\n",
              "      <th>4</th>\n",
              "      <td>Austin</td>\n",
              "      <td>F</td>\n",
              "      <td>Beauty</td>\n",
              "      <td>1</td>\n",
              "      <td>80</td>\n",
              "      <td>4</td>\n",
              "    </tr>\n",
              "  </tbody>\n",
              "</table>\n",
              "</div>"
            ],
            "text/plain": [
              "        location gender            type  quantity  total_bill  rating\n",
              "0        Chicago      M     Electronics         1         100       2\n",
              "2        Seattle      F  Food&Beverages         4         125       3\n",
              "3  San Francisco      M        Medicine         2          50       4\n",
              "4         Austin      F          Beauty         1          80       4"
            ]
          },
          "execution_count": 44,
          "metadata": {},
          "output_type": "execute_result"
        }
      ],
      "source": [
        "# creating a new dataframe\n",
        "store_data_new  = store_data.drop(1,axis=0)\n",
        "store_data_new"
      ]
    },
    {
      "cell_type": "code",
      "execution_count": null,
      "metadata": {
        "colab": {
          "base_uri": "https://localhost:8080/",
          "height": 175
        },
        "id": "a3XJVG6UfTrX",
        "outputId": "512ab35f-2e0b-48a8-9b9a-9c41045a37d6"
      },
      "outputs": [
        {
          "data": {
            "text/html": [
              "<div>\n",
              "<style scoped>\n",
              "    .dataframe tbody tr th:only-of-type {\n",
              "        vertical-align: middle;\n",
              "    }\n",
              "\n",
              "    .dataframe tbody tr th {\n",
              "        vertical-align: top;\n",
              "    }\n",
              "\n",
              "    .dataframe thead th {\n",
              "        text-align: right;\n",
              "    }\n",
              "</style>\n",
              "<table border=\"1\" class=\"dataframe\">\n",
              "  <thead>\n",
              "    <tr style=\"text-align: right;\">\n",
              "      <th></th>\n",
              "      <th>index</th>\n",
              "      <th>location</th>\n",
              "      <th>gender</th>\n",
              "      <th>type</th>\n",
              "      <th>quantity</th>\n",
              "      <th>total_bill</th>\n",
              "      <th>rating</th>\n",
              "    </tr>\n",
              "  </thead>\n",
              "  <tbody>\n",
              "    <tr>\n",
              "      <th>0</th>\n",
              "      <td>0</td>\n",
              "      <td>Chicago</td>\n",
              "      <td>M</td>\n",
              "      <td>Electronics</td>\n",
              "      <td>1</td>\n",
              "      <td>100</td>\n",
              "      <td>2</td>\n",
              "    </tr>\n",
              "    <tr>\n",
              "      <th>1</th>\n",
              "      <td>2</td>\n",
              "      <td>Seattle</td>\n",
              "      <td>F</td>\n",
              "      <td>Food&amp;Beverages</td>\n",
              "      <td>4</td>\n",
              "      <td>125</td>\n",
              "      <td>3</td>\n",
              "    </tr>\n",
              "    <tr>\n",
              "      <th>2</th>\n",
              "      <td>3</td>\n",
              "      <td>San Francisco</td>\n",
              "      <td>M</td>\n",
              "      <td>Medicine</td>\n",
              "      <td>2</td>\n",
              "      <td>50</td>\n",
              "      <td>4</td>\n",
              "    </tr>\n",
              "    <tr>\n",
              "      <th>3</th>\n",
              "      <td>4</td>\n",
              "      <td>Austin</td>\n",
              "      <td>F</td>\n",
              "      <td>Beauty</td>\n",
              "      <td>1</td>\n",
              "      <td>80</td>\n",
              "      <td>4</td>\n",
              "    </tr>\n",
              "  </tbody>\n",
              "</table>\n",
              "</div>"
            ],
            "text/plain": [
              "   index       location gender            type  quantity  total_bill  rating\n",
              "0      0        Chicago      M     Electronics         1         100       2\n",
              "1      2        Seattle      F  Food&Beverages         4         125       3\n",
              "2      3  San Francisco      M        Medicine         2          50       4\n",
              "3      4         Austin      F          Beauty         1          80       4"
            ]
          },
          "execution_count": 45,
          "metadata": {},
          "output_type": "execute_result"
        }
      ],
      "source": [
        "# resetting the index of data frame\n",
        "store_data_new.reset_index()"
      ]
    },
    {
      "cell_type": "markdown",
      "metadata": {
        "id": "XOh2G_b1fbqk"
      },
      "source": [
        "* We see that the index of the data frame is now resetted but the index has become a column in the data frame. We do not need the index to become a column so we can simply set the parameter **`drop=True`** in reset_index() function."
      ]
    },
    {
      "cell_type": "code",
      "execution_count": null,
      "metadata": {
        "colab": {
          "base_uri": "https://localhost:8080/",
          "height": 175
        },
        "id": "sZU0tctKf0A2",
        "outputId": "fb571541-80cb-4e52-c935-9c173c346002"
      },
      "outputs": [
        {
          "data": {
            "text/html": [
              "<div>\n",
              "<style scoped>\n",
              "    .dataframe tbody tr th:only-of-type {\n",
              "        vertical-align: middle;\n",
              "    }\n",
              "\n",
              "    .dataframe tbody tr th {\n",
              "        vertical-align: top;\n",
              "    }\n",
              "\n",
              "    .dataframe thead th {\n",
              "        text-align: right;\n",
              "    }\n",
              "</style>\n",
              "<table border=\"1\" class=\"dataframe\">\n",
              "  <thead>\n",
              "    <tr style=\"text-align: right;\">\n",
              "      <th></th>\n",
              "      <th>location</th>\n",
              "      <th>gender</th>\n",
              "      <th>type</th>\n",
              "      <th>quantity</th>\n",
              "      <th>total_bill</th>\n",
              "      <th>rating</th>\n",
              "    </tr>\n",
              "  </thead>\n",
              "  <tbody>\n",
              "    <tr>\n",
              "      <th>0</th>\n",
              "      <td>Chicago</td>\n",
              "      <td>M</td>\n",
              "      <td>Electronics</td>\n",
              "      <td>1</td>\n",
              "      <td>100</td>\n",
              "      <td>2</td>\n",
              "    </tr>\n",
              "    <tr>\n",
              "      <th>1</th>\n",
              "      <td>Seattle</td>\n",
              "      <td>F</td>\n",
              "      <td>Food&amp;Beverages</td>\n",
              "      <td>4</td>\n",
              "      <td>125</td>\n",
              "      <td>3</td>\n",
              "    </tr>\n",
              "    <tr>\n",
              "      <th>2</th>\n",
              "      <td>San Francisco</td>\n",
              "      <td>M</td>\n",
              "      <td>Medicine</td>\n",
              "      <td>2</td>\n",
              "      <td>50</td>\n",
              "      <td>4</td>\n",
              "    </tr>\n",
              "    <tr>\n",
              "      <th>3</th>\n",
              "      <td>Austin</td>\n",
              "      <td>F</td>\n",
              "      <td>Beauty</td>\n",
              "      <td>1</td>\n",
              "      <td>80</td>\n",
              "      <td>4</td>\n",
              "    </tr>\n",
              "  </tbody>\n",
              "</table>\n",
              "</div>"
            ],
            "text/plain": [
              "        location gender            type  quantity  total_bill  rating\n",
              "0        Chicago      M     Electronics         1         100       2\n",
              "1        Seattle      F  Food&Beverages         4         125       3\n",
              "2  San Francisco      M        Medicine         2          50       4\n",
              "3         Austin      F          Beauty         1          80       4"
            ]
          },
          "execution_count": 46,
          "metadata": {},
          "output_type": "execute_result"
        }
      ],
      "source": [
        "# setting inplace = True to make the changes permanent\n",
        "store_data_new.reset_index(drop=True,inplace=True)\n",
        "store_data_new"
      ]
    },
    {
      "cell_type": "markdown",
      "metadata": {
        "id": "1PVPsH6Rf9Us"
      },
      "source": [
        "<span style=\"color:brown;font-weight:bold\">Pandas - Combining DataFrames</span>"
      ]
    },
    {
      "cell_type": "code",
      "execution_count": null,
      "metadata": {
        "id": "F7dzbCINgNIj"
      },
      "outputs": [],
      "source": [
        "data_cust = pd.DataFrame({\"customerID\":['101','102','103','104'],\n",
        "                        'category': ['Medium','Medium','High','Low'],\n",
        "                        'first_visit': ['yes','no','yes','yes'],\n",
        "                        'sales': [123,52,214,663]},index=[0,1,2,3])\n",
        "\n",
        "data_cust_new = pd.DataFrame({\"customerID\":['101','103','104','105'],\n",
        "                    'distance': [12,9,44,21],\n",
        "                    'sales': [123,214,663,331]},index=[4,5,6,7])"
      ]
    },
    {
      "cell_type": "code",
      "execution_count": null,
      "metadata": {
        "colab": {
          "base_uri": "https://localhost:8080/",
          "height": 175
        },
        "id": "A65b10V4Twoq",
        "outputId": "6d13704a-5397-4f4a-fc55-e925febe646c"
      },
      "outputs": [
        {
          "data": {
            "text/html": [
              "<div>\n",
              "<style scoped>\n",
              "    .dataframe tbody tr th:only-of-type {\n",
              "        vertical-align: middle;\n",
              "    }\n",
              "\n",
              "    .dataframe tbody tr th {\n",
              "        vertical-align: top;\n",
              "    }\n",
              "\n",
              "    .dataframe thead th {\n",
              "        text-align: right;\n",
              "    }\n",
              "</style>\n",
              "<table border=\"1\" class=\"dataframe\">\n",
              "  <thead>\n",
              "    <tr style=\"text-align: right;\">\n",
              "      <th></th>\n",
              "      <th>customerID</th>\n",
              "      <th>category</th>\n",
              "      <th>first_visit</th>\n",
              "      <th>sales</th>\n",
              "    </tr>\n",
              "  </thead>\n",
              "  <tbody>\n",
              "    <tr>\n",
              "      <th>0</th>\n",
              "      <td>101</td>\n",
              "      <td>Medium</td>\n",
              "      <td>yes</td>\n",
              "      <td>123</td>\n",
              "    </tr>\n",
              "    <tr>\n",
              "      <th>1</th>\n",
              "      <td>102</td>\n",
              "      <td>Medium</td>\n",
              "      <td>no</td>\n",
              "      <td>52</td>\n",
              "    </tr>\n",
              "    <tr>\n",
              "      <th>2</th>\n",
              "      <td>103</td>\n",
              "      <td>High</td>\n",
              "      <td>yes</td>\n",
              "      <td>214</td>\n",
              "    </tr>\n",
              "    <tr>\n",
              "      <th>3</th>\n",
              "      <td>104</td>\n",
              "      <td>Low</td>\n",
              "      <td>yes</td>\n",
              "      <td>663</td>\n",
              "    </tr>\n",
              "  </tbody>\n",
              "</table>\n",
              "</div>"
            ],
            "text/plain": [
              "  customerID category first_visit  sales\n",
              "0        101   Medium         yes    123\n",
              "1        102   Medium          no     52\n",
              "2        103     High         yes    214\n",
              "3        104      Low         yes    663"
            ]
          },
          "execution_count": 48,
          "metadata": {},
          "output_type": "execute_result"
        }
      ],
      "source": [
        "data_cust"
      ]
    },
    {
      "cell_type": "code",
      "execution_count": null,
      "metadata": {
        "colab": {
          "base_uri": "https://localhost:8080/",
          "height": 175
        },
        "id": "0MMWONOvTy8x",
        "outputId": "9f8b11f3-6ae0-4239-c8cb-2ba52bfa8b74"
      },
      "outputs": [
        {
          "data": {
            "text/html": [
              "<div>\n",
              "<style scoped>\n",
              "    .dataframe tbody tr th:only-of-type {\n",
              "        vertical-align: middle;\n",
              "    }\n",
              "\n",
              "    .dataframe tbody tr th {\n",
              "        vertical-align: top;\n",
              "    }\n",
              "\n",
              "    .dataframe thead th {\n",
              "        text-align: right;\n",
              "    }\n",
              "</style>\n",
              "<table border=\"1\" class=\"dataframe\">\n",
              "  <thead>\n",
              "    <tr style=\"text-align: right;\">\n",
              "      <th></th>\n",
              "      <th>customerID</th>\n",
              "      <th>distance</th>\n",
              "      <th>sales</th>\n",
              "    </tr>\n",
              "  </thead>\n",
              "  <tbody>\n",
              "    <tr>\n",
              "      <th>4</th>\n",
              "      <td>101</td>\n",
              "      <td>12</td>\n",
              "      <td>123</td>\n",
              "    </tr>\n",
              "    <tr>\n",
              "      <th>5</th>\n",
              "      <td>103</td>\n",
              "      <td>9</td>\n",
              "      <td>214</td>\n",
              "    </tr>\n",
              "    <tr>\n",
              "      <th>6</th>\n",
              "      <td>104</td>\n",
              "      <td>44</td>\n",
              "      <td>663</td>\n",
              "    </tr>\n",
              "    <tr>\n",
              "      <th>7</th>\n",
              "      <td>105</td>\n",
              "      <td>21</td>\n",
              "      <td>331</td>\n",
              "    </tr>\n",
              "  </tbody>\n",
              "</table>\n",
              "</div>"
            ],
            "text/plain": [
              "  customerID  distance  sales\n",
              "4        101        12    123\n",
              "5        103         9    214\n",
              "6        104        44    663\n",
              "7        105        21    331"
            ]
          },
          "execution_count": 49,
          "metadata": {},
          "output_type": "execute_result"
        }
      ],
      "source": [
        "data_cust_new"
      ]
    },
    {
      "cell_type": "markdown",
      "metadata": {
        "id": "F_8oTfpjjl0z"
      },
      "source": [
        "<span style=\"color:brown;font-weight:bold\">Pandas - Combining DataFrames - concat on row</span>"
      ]
    },
    {
      "cell_type": "code",
      "execution_count": null,
      "metadata": {
        "colab": {
          "base_uri": "https://localhost:8080/",
          "height": 300
        },
        "id": "oJpGr_5LhnR3",
        "outputId": "0eb0f717-9c48-4f50-8d1f-190c23f0df2a"
      },
      "outputs": [
        {
          "data": {
            "text/html": [
              "<div>\n",
              "<style scoped>\n",
              "    .dataframe tbody tr th:only-of-type {\n",
              "        vertical-align: middle;\n",
              "    }\n",
              "\n",
              "    .dataframe tbody tr th {\n",
              "        vertical-align: top;\n",
              "    }\n",
              "\n",
              "    .dataframe thead th {\n",
              "        text-align: right;\n",
              "    }\n",
              "</style>\n",
              "<table border=\"1\" class=\"dataframe\">\n",
              "  <thead>\n",
              "    <tr style=\"text-align: right;\">\n",
              "      <th></th>\n",
              "      <th>customerID</th>\n",
              "      <th>category</th>\n",
              "      <th>first_visit</th>\n",
              "      <th>sales</th>\n",
              "      <th>distance</th>\n",
              "    </tr>\n",
              "  </thead>\n",
              "  <tbody>\n",
              "    <tr>\n",
              "      <th>0</th>\n",
              "      <td>101</td>\n",
              "      <td>Medium</td>\n",
              "      <td>yes</td>\n",
              "      <td>123</td>\n",
              "      <td>NaN</td>\n",
              "    </tr>\n",
              "    <tr>\n",
              "      <th>1</th>\n",
              "      <td>102</td>\n",
              "      <td>Medium</td>\n",
              "      <td>no</td>\n",
              "      <td>52</td>\n",
              "      <td>NaN</td>\n",
              "    </tr>\n",
              "    <tr>\n",
              "      <th>2</th>\n",
              "      <td>103</td>\n",
              "      <td>High</td>\n",
              "      <td>yes</td>\n",
              "      <td>214</td>\n",
              "      <td>NaN</td>\n",
              "    </tr>\n",
              "    <tr>\n",
              "      <th>3</th>\n",
              "      <td>104</td>\n",
              "      <td>Low</td>\n",
              "      <td>yes</td>\n",
              "      <td>663</td>\n",
              "      <td>NaN</td>\n",
              "    </tr>\n",
              "    <tr>\n",
              "      <th>4</th>\n",
              "      <td>101</td>\n",
              "      <td>NaN</td>\n",
              "      <td>NaN</td>\n",
              "      <td>123</td>\n",
              "      <td>12.0</td>\n",
              "    </tr>\n",
              "    <tr>\n",
              "      <th>5</th>\n",
              "      <td>103</td>\n",
              "      <td>NaN</td>\n",
              "      <td>NaN</td>\n",
              "      <td>214</td>\n",
              "      <td>9.0</td>\n",
              "    </tr>\n",
              "    <tr>\n",
              "      <th>6</th>\n",
              "      <td>104</td>\n",
              "      <td>NaN</td>\n",
              "      <td>NaN</td>\n",
              "      <td>663</td>\n",
              "      <td>44.0</td>\n",
              "    </tr>\n",
              "    <tr>\n",
              "      <th>7</th>\n",
              "      <td>105</td>\n",
              "      <td>NaN</td>\n",
              "      <td>NaN</td>\n",
              "      <td>331</td>\n",
              "      <td>21.0</td>\n",
              "    </tr>\n",
              "  </tbody>\n",
              "</table>\n",
              "</div>"
            ],
            "text/plain": [
              "  customerID category first_visit  sales  distance\n",
              "0        101   Medium         yes    123       NaN\n",
              "1        102   Medium          no     52       NaN\n",
              "2        103     High         yes    214       NaN\n",
              "3        104      Low         yes    663       NaN\n",
              "4        101      NaN         NaN    123      12.0\n",
              "5        103      NaN         NaN    214       9.0\n",
              "6        104      NaN         NaN    663      44.0\n",
              "7        105      NaN         NaN    331      21.0"
            ]
          },
          "execution_count": 50,
          "metadata": {},
          "output_type": "execute_result"
        }
      ],
      "source": [
        "pd.concat([data_cust,data_cust_new],axis=0)"
      ]
    },
    {
      "cell_type": "markdown",
      "metadata": {
        "id": "v1PZWjwRjl00"
      },
      "source": [
        "<span style=\"color:brown;font-weight:bold\">Pandas - Combining DataFrames - concat on column</span>"
      ]
    },
    {
      "cell_type": "code",
      "execution_count": null,
      "metadata": {
        "colab": {
          "base_uri": "https://localhost:8080/",
          "height": 300
        },
        "id": "x4d_fwk9hyIn",
        "outputId": "e437f0de-25fd-4542-f7c8-250ef0b92dc1"
      },
      "outputs": [
        {
          "data": {
            "text/html": [
              "<div>\n",
              "<style scoped>\n",
              "    .dataframe tbody tr th:only-of-type {\n",
              "        vertical-align: middle;\n",
              "    }\n",
              "\n",
              "    .dataframe tbody tr th {\n",
              "        vertical-align: top;\n",
              "    }\n",
              "\n",
              "    .dataframe thead th {\n",
              "        text-align: right;\n",
              "    }\n",
              "</style>\n",
              "<table border=\"1\" class=\"dataframe\">\n",
              "  <thead>\n",
              "    <tr style=\"text-align: right;\">\n",
              "      <th></th>\n",
              "      <th>customerID</th>\n",
              "      <th>category</th>\n",
              "      <th>first_visit</th>\n",
              "      <th>sales</th>\n",
              "      <th>customerID</th>\n",
              "      <th>distance</th>\n",
              "      <th>sales</th>\n",
              "    </tr>\n",
              "  </thead>\n",
              "  <tbody>\n",
              "    <tr>\n",
              "      <th>0</th>\n",
              "      <td>101</td>\n",
              "      <td>Medium</td>\n",
              "      <td>yes</td>\n",
              "      <td>123.0</td>\n",
              "      <td>NaN</td>\n",
              "      <td>NaN</td>\n",
              "      <td>NaN</td>\n",
              "    </tr>\n",
              "    <tr>\n",
              "      <th>1</th>\n",
              "      <td>102</td>\n",
              "      <td>Medium</td>\n",
              "      <td>no</td>\n",
              "      <td>52.0</td>\n",
              "      <td>NaN</td>\n",
              "      <td>NaN</td>\n",
              "      <td>NaN</td>\n",
              "    </tr>\n",
              "    <tr>\n",
              "      <th>2</th>\n",
              "      <td>103</td>\n",
              "      <td>High</td>\n",
              "      <td>yes</td>\n",
              "      <td>214.0</td>\n",
              "      <td>NaN</td>\n",
              "      <td>NaN</td>\n",
              "      <td>NaN</td>\n",
              "    </tr>\n",
              "    <tr>\n",
              "      <th>3</th>\n",
              "      <td>104</td>\n",
              "      <td>Low</td>\n",
              "      <td>yes</td>\n",
              "      <td>663.0</td>\n",
              "      <td>NaN</td>\n",
              "      <td>NaN</td>\n",
              "      <td>NaN</td>\n",
              "    </tr>\n",
              "    <tr>\n",
              "      <th>4</th>\n",
              "      <td>NaN</td>\n",
              "      <td>NaN</td>\n",
              "      <td>NaN</td>\n",
              "      <td>NaN</td>\n",
              "      <td>101</td>\n",
              "      <td>12.0</td>\n",
              "      <td>123.0</td>\n",
              "    </tr>\n",
              "    <tr>\n",
              "      <th>5</th>\n",
              "      <td>NaN</td>\n",
              "      <td>NaN</td>\n",
              "      <td>NaN</td>\n",
              "      <td>NaN</td>\n",
              "      <td>103</td>\n",
              "      <td>9.0</td>\n",
              "      <td>214.0</td>\n",
              "    </tr>\n",
              "    <tr>\n",
              "      <th>6</th>\n",
              "      <td>NaN</td>\n",
              "      <td>NaN</td>\n",
              "      <td>NaN</td>\n",
              "      <td>NaN</td>\n",
              "      <td>104</td>\n",
              "      <td>44.0</td>\n",
              "      <td>663.0</td>\n",
              "    </tr>\n",
              "    <tr>\n",
              "      <th>7</th>\n",
              "      <td>NaN</td>\n",
              "      <td>NaN</td>\n",
              "      <td>NaN</td>\n",
              "      <td>NaN</td>\n",
              "      <td>105</td>\n",
              "      <td>21.0</td>\n",
              "      <td>331.0</td>\n",
              "    </tr>\n",
              "  </tbody>\n",
              "</table>\n",
              "</div>"
            ],
            "text/plain": [
              "  customerID category first_visit  sales customerID  distance  sales\n",
              "0        101   Medium         yes  123.0        NaN       NaN    NaN\n",
              "1        102   Medium          no   52.0        NaN       NaN    NaN\n",
              "2        103     High         yes  214.0        NaN       NaN    NaN\n",
              "3        104      Low         yes  663.0        NaN       NaN    NaN\n",
              "4        NaN      NaN         NaN    NaN        101      12.0  123.0\n",
              "5        NaN      NaN         NaN    NaN        103       9.0  214.0\n",
              "6        NaN      NaN         NaN    NaN        104      44.0  663.0\n",
              "7        NaN      NaN         NaN    NaN        105      21.0  331.0"
            ]
          },
          "execution_count": 51,
          "metadata": {},
          "output_type": "execute_result"
        }
      ],
      "source": [
        "pd.concat([data_cust,data_cust_new],axis=1)"
      ]
    },
    {
      "cell_type": "markdown",
      "metadata": {
        "id": "rYWgB69Uh8eb"
      },
      "source": [
        "<span style=\"color:brown;font-weight:bold\">Merge - Merge combines dataframes using a column's values to identify common entries</span>"
      ]
    },
    {
      "cell_type": "code",
      "execution_count": null,
      "metadata": {
        "colab": {
          "base_uri": "https://localhost:8080/",
          "height": 206
        },
        "id": "fVjFWr1hiF9c",
        "outputId": "4c2fb62c-2bea-44d2-c6ed-ae655e498c14"
      },
      "outputs": [
        {
          "data": {
            "text/html": [
              "<div>\n",
              "<style scoped>\n",
              "    .dataframe tbody tr th:only-of-type {\n",
              "        vertical-align: middle;\n",
              "    }\n",
              "\n",
              "    .dataframe tbody tr th {\n",
              "        vertical-align: top;\n",
              "    }\n",
              "\n",
              "    .dataframe thead th {\n",
              "        text-align: right;\n",
              "    }\n",
              "</style>\n",
              "<table border=\"1\" class=\"dataframe\">\n",
              "  <thead>\n",
              "    <tr style=\"text-align: right;\">\n",
              "      <th></th>\n",
              "      <th>customerID</th>\n",
              "      <th>category</th>\n",
              "      <th>first_visit</th>\n",
              "      <th>sales_x</th>\n",
              "      <th>distance</th>\n",
              "      <th>sales_y</th>\n",
              "    </tr>\n",
              "  </thead>\n",
              "  <tbody>\n",
              "    <tr>\n",
              "      <th>0</th>\n",
              "      <td>101</td>\n",
              "      <td>Medium</td>\n",
              "      <td>yes</td>\n",
              "      <td>123.0</td>\n",
              "      <td>12.0</td>\n",
              "      <td>123.0</td>\n",
              "    </tr>\n",
              "    <tr>\n",
              "      <th>1</th>\n",
              "      <td>102</td>\n",
              "      <td>Medium</td>\n",
              "      <td>no</td>\n",
              "      <td>52.0</td>\n",
              "      <td>NaN</td>\n",
              "      <td>NaN</td>\n",
              "    </tr>\n",
              "    <tr>\n",
              "      <th>2</th>\n",
              "      <td>103</td>\n",
              "      <td>High</td>\n",
              "      <td>yes</td>\n",
              "      <td>214.0</td>\n",
              "      <td>9.0</td>\n",
              "      <td>214.0</td>\n",
              "    </tr>\n",
              "    <tr>\n",
              "      <th>3</th>\n",
              "      <td>104</td>\n",
              "      <td>Low</td>\n",
              "      <td>yes</td>\n",
              "      <td>663.0</td>\n",
              "      <td>44.0</td>\n",
              "      <td>663.0</td>\n",
              "    </tr>\n",
              "    <tr>\n",
              "      <th>4</th>\n",
              "      <td>105</td>\n",
              "      <td>NaN</td>\n",
              "      <td>NaN</td>\n",
              "      <td>NaN</td>\n",
              "      <td>21.0</td>\n",
              "      <td>331.0</td>\n",
              "    </tr>\n",
              "  </tbody>\n",
              "</table>\n",
              "</div>"
            ],
            "text/plain": [
              "  customerID category first_visit  sales_x  distance  sales_y\n",
              "0        101   Medium         yes    123.0      12.0    123.0\n",
              "1        102   Medium          no     52.0       NaN      NaN\n",
              "2        103     High         yes    214.0       9.0    214.0\n",
              "3        104      Low         yes    663.0      44.0    663.0\n",
              "4        105      NaN         NaN      NaN      21.0    331.0"
            ]
          },
          "execution_count": 52,
          "metadata": {},
          "output_type": "execute_result"
        }
      ],
      "source": [
        "pd.merge(data_cust,data_cust_new,how='outer',on='customerID') # outer merge is union of on"
      ]
    },
    {
      "cell_type": "code",
      "execution_count": null,
      "metadata": {
        "colab": {
          "base_uri": "https://localhost:8080/",
          "height": 143
        },
        "id": "arBjOKCCiKeB",
        "outputId": "cee4be25-0b05-48a5-e8e1-6483a05682cf"
      },
      "outputs": [
        {
          "data": {
            "text/html": [
              "<div>\n",
              "<style scoped>\n",
              "    .dataframe tbody tr th:only-of-type {\n",
              "        vertical-align: middle;\n",
              "    }\n",
              "\n",
              "    .dataframe tbody tr th {\n",
              "        vertical-align: top;\n",
              "    }\n",
              "\n",
              "    .dataframe thead th {\n",
              "        text-align: right;\n",
              "    }\n",
              "</style>\n",
              "<table border=\"1\" class=\"dataframe\">\n",
              "  <thead>\n",
              "    <tr style=\"text-align: right;\">\n",
              "      <th></th>\n",
              "      <th>customerID</th>\n",
              "      <th>category</th>\n",
              "      <th>first_visit</th>\n",
              "      <th>sales_x</th>\n",
              "      <th>distance</th>\n",
              "      <th>sales_y</th>\n",
              "    </tr>\n",
              "  </thead>\n",
              "  <tbody>\n",
              "    <tr>\n",
              "      <th>0</th>\n",
              "      <td>101</td>\n",
              "      <td>Medium</td>\n",
              "      <td>yes</td>\n",
              "      <td>123</td>\n",
              "      <td>12</td>\n",
              "      <td>123</td>\n",
              "    </tr>\n",
              "    <tr>\n",
              "      <th>1</th>\n",
              "      <td>103</td>\n",
              "      <td>High</td>\n",
              "      <td>yes</td>\n",
              "      <td>214</td>\n",
              "      <td>9</td>\n",
              "      <td>214</td>\n",
              "    </tr>\n",
              "    <tr>\n",
              "      <th>2</th>\n",
              "      <td>104</td>\n",
              "      <td>Low</td>\n",
              "      <td>yes</td>\n",
              "      <td>663</td>\n",
              "      <td>44</td>\n",
              "      <td>663</td>\n",
              "    </tr>\n",
              "  </tbody>\n",
              "</table>\n",
              "</div>"
            ],
            "text/plain": [
              "  customerID category first_visit  sales_x  distance  sales_y\n",
              "0        101   Medium         yes      123        12      123\n",
              "1        103     High         yes      214         9      214\n",
              "2        104      Low         yes      663        44      663"
            ]
          },
          "execution_count": 53,
          "metadata": {},
          "output_type": "execute_result"
        }
      ],
      "source": [
        "pd.merge(data_cust,data_cust_new,how='inner',on='customerID') # inner merge is intersection of on"
      ]
    },
    {
      "cell_type": "code",
      "execution_count": null,
      "metadata": {
        "colab": {
          "base_uri": "https://localhost:8080/",
          "height": 175
        },
        "id": "BXWe2W7hirk5",
        "outputId": "8aae3b53-996a-41f9-e706-60d7c501e24e"
      },
      "outputs": [
        {
          "data": {
            "text/html": [
              "<div>\n",
              "<style scoped>\n",
              "    .dataframe tbody tr th:only-of-type {\n",
              "        vertical-align: middle;\n",
              "    }\n",
              "\n",
              "    .dataframe tbody tr th {\n",
              "        vertical-align: top;\n",
              "    }\n",
              "\n",
              "    .dataframe thead th {\n",
              "        text-align: right;\n",
              "    }\n",
              "</style>\n",
              "<table border=\"1\" class=\"dataframe\">\n",
              "  <thead>\n",
              "    <tr style=\"text-align: right;\">\n",
              "      <th></th>\n",
              "      <th>customerID</th>\n",
              "      <th>category</th>\n",
              "      <th>first_visit</th>\n",
              "      <th>sales_x</th>\n",
              "      <th>distance</th>\n",
              "      <th>sales_y</th>\n",
              "    </tr>\n",
              "  </thead>\n",
              "  <tbody>\n",
              "    <tr>\n",
              "      <th>0</th>\n",
              "      <td>101</td>\n",
              "      <td>Medium</td>\n",
              "      <td>yes</td>\n",
              "      <td>123.0</td>\n",
              "      <td>12</td>\n",
              "      <td>123</td>\n",
              "    </tr>\n",
              "    <tr>\n",
              "      <th>1</th>\n",
              "      <td>103</td>\n",
              "      <td>High</td>\n",
              "      <td>yes</td>\n",
              "      <td>214.0</td>\n",
              "      <td>9</td>\n",
              "      <td>214</td>\n",
              "    </tr>\n",
              "    <tr>\n",
              "      <th>2</th>\n",
              "      <td>104</td>\n",
              "      <td>Low</td>\n",
              "      <td>yes</td>\n",
              "      <td>663.0</td>\n",
              "      <td>44</td>\n",
              "      <td>663</td>\n",
              "    </tr>\n",
              "    <tr>\n",
              "      <th>3</th>\n",
              "      <td>105</td>\n",
              "      <td>NaN</td>\n",
              "      <td>NaN</td>\n",
              "      <td>NaN</td>\n",
              "      <td>21</td>\n",
              "      <td>331</td>\n",
              "    </tr>\n",
              "  </tbody>\n",
              "</table>\n",
              "</div>"
            ],
            "text/plain": [
              "  customerID category first_visit  sales_x  distance  sales_y\n",
              "0        101   Medium         yes    123.0        12      123\n",
              "1        103     High         yes    214.0         9      214\n",
              "2        104      Low         yes    663.0        44      663\n",
              "3        105      NaN         NaN      NaN        21      331"
            ]
          },
          "execution_count": 54,
          "metadata": {},
          "output_type": "execute_result"
        }
      ],
      "source": [
        "pd.merge(data_cust,data_cust_new,how='right',on='customerID')"
      ]
    },
    {
      "cell_type": "code",
      "execution_count": null,
      "metadata": {
        "id": "KCrVkI7_izBx"
      },
      "outputs": [],
      "source": [
        "data_quarters = pd.DataFrame({'Q1': [101,102,103],\n",
        "                              'Q2': [201,202,203]},\n",
        "                               index=['I0','I1','I2'])\n",
        "\n",
        "data_quarters_new = pd.DataFrame({'Q3': [301,302,303],\n",
        "                                  'Q4': [401,402,403]},\n",
        "                               index=['I0','I2','I3'])"
      ]
    },
    {
      "cell_type": "code",
      "execution_count": null,
      "metadata": {
        "colab": {
          "base_uri": "https://localhost:8080/",
          "height": 143
        },
        "id": "udScH_N_YJd2",
        "outputId": "5c821d08-c380-487c-bf9d-3968611e3d99"
      },
      "outputs": [
        {
          "data": {
            "text/html": [
              "<div>\n",
              "<style scoped>\n",
              "    .dataframe tbody tr th:only-of-type {\n",
              "        vertical-align: middle;\n",
              "    }\n",
              "\n",
              "    .dataframe tbody tr th {\n",
              "        vertical-align: top;\n",
              "    }\n",
              "\n",
              "    .dataframe thead th {\n",
              "        text-align: right;\n",
              "    }\n",
              "</style>\n",
              "<table border=\"1\" class=\"dataframe\">\n",
              "  <thead>\n",
              "    <tr style=\"text-align: right;\">\n",
              "      <th></th>\n",
              "      <th>Q1</th>\n",
              "      <th>Q2</th>\n",
              "    </tr>\n",
              "  </thead>\n",
              "  <tbody>\n",
              "    <tr>\n",
              "      <th>I0</th>\n",
              "      <td>101</td>\n",
              "      <td>201</td>\n",
              "    </tr>\n",
              "    <tr>\n",
              "      <th>I1</th>\n",
              "      <td>102</td>\n",
              "      <td>202</td>\n",
              "    </tr>\n",
              "    <tr>\n",
              "      <th>I2</th>\n",
              "      <td>103</td>\n",
              "      <td>203</td>\n",
              "    </tr>\n",
              "  </tbody>\n",
              "</table>\n",
              "</div>"
            ],
            "text/plain": [
              "     Q1   Q2\n",
              "I0  101  201\n",
              "I1  102  202\n",
              "I2  103  203"
            ]
          },
          "execution_count": 56,
          "metadata": {},
          "output_type": "execute_result"
        }
      ],
      "source": [
        "data_quarters"
      ]
    },
    {
      "cell_type": "code",
      "execution_count": null,
      "metadata": {
        "colab": {
          "base_uri": "https://localhost:8080/",
          "height": 143
        },
        "id": "F46S08gHYJku",
        "outputId": "7e1c9e37-3213-4d7f-8075-68126a132a29"
      },
      "outputs": [
        {
          "data": {
            "text/html": [
              "<div>\n",
              "<style scoped>\n",
              "    .dataframe tbody tr th:only-of-type {\n",
              "        vertical-align: middle;\n",
              "    }\n",
              "\n",
              "    .dataframe tbody tr th {\n",
              "        vertical-align: top;\n",
              "    }\n",
              "\n",
              "    .dataframe thead th {\n",
              "        text-align: right;\n",
              "    }\n",
              "</style>\n",
              "<table border=\"1\" class=\"dataframe\">\n",
              "  <thead>\n",
              "    <tr style=\"text-align: right;\">\n",
              "      <th></th>\n",
              "      <th>Q3</th>\n",
              "      <th>Q4</th>\n",
              "    </tr>\n",
              "  </thead>\n",
              "  <tbody>\n",
              "    <tr>\n",
              "      <th>I0</th>\n",
              "      <td>301</td>\n",
              "      <td>401</td>\n",
              "    </tr>\n",
              "    <tr>\n",
              "      <th>I2</th>\n",
              "      <td>302</td>\n",
              "      <td>402</td>\n",
              "    </tr>\n",
              "    <tr>\n",
              "      <th>I3</th>\n",
              "      <td>303</td>\n",
              "      <td>403</td>\n",
              "    </tr>\n",
              "  </tbody>\n",
              "</table>\n",
              "</div>"
            ],
            "text/plain": [
              "     Q3   Q4\n",
              "I0  301  401\n",
              "I2  302  402\n",
              "I3  303  403"
            ]
          },
          "execution_count": 57,
          "metadata": {},
          "output_type": "execute_result"
        }
      ],
      "source": [
        "data_quarters_new"
      ]
    },
    {
      "cell_type": "markdown",
      "metadata": {
        "id": "LNhREHD9jl03"
      },
      "source": [
        "<span style=\"color:brown;font-weight:bold\">Join behaves just like merge, except instead of using the values of one of the columns to combine data frames, it uses the index labels</span>"
      ]
    },
    {
      "cell_type": "code",
      "execution_count": null,
      "metadata": {
        "colab": {
          "base_uri": "https://localhost:8080/",
          "height": 143
        },
        "id": "sEgY9t7pi_pH",
        "outputId": "aa44d496-8fc6-4c4b-eeb9-d344f8458fee"
      },
      "outputs": [
        {
          "data": {
            "text/html": [
              "<div>\n",
              "<style scoped>\n",
              "    .dataframe tbody tr th:only-of-type {\n",
              "        vertical-align: middle;\n",
              "    }\n",
              "\n",
              "    .dataframe tbody tr th {\n",
              "        vertical-align: top;\n",
              "    }\n",
              "\n",
              "    .dataframe thead th {\n",
              "        text-align: right;\n",
              "    }\n",
              "</style>\n",
              "<table border=\"1\" class=\"dataframe\">\n",
              "  <thead>\n",
              "    <tr style=\"text-align: right;\">\n",
              "      <th></th>\n",
              "      <th>Q1</th>\n",
              "      <th>Q2</th>\n",
              "      <th>Q3</th>\n",
              "      <th>Q4</th>\n",
              "    </tr>\n",
              "  </thead>\n",
              "  <tbody>\n",
              "    <tr>\n",
              "      <th>I0</th>\n",
              "      <td>101.0</td>\n",
              "      <td>201.0</td>\n",
              "      <td>301</td>\n",
              "      <td>401</td>\n",
              "    </tr>\n",
              "    <tr>\n",
              "      <th>I2</th>\n",
              "      <td>103.0</td>\n",
              "      <td>203.0</td>\n",
              "      <td>302</td>\n",
              "      <td>402</td>\n",
              "    </tr>\n",
              "    <tr>\n",
              "      <th>I3</th>\n",
              "      <td>NaN</td>\n",
              "      <td>NaN</td>\n",
              "      <td>303</td>\n",
              "      <td>403</td>\n",
              "    </tr>\n",
              "  </tbody>\n",
              "</table>\n",
              "</div>"
            ],
            "text/plain": [
              "       Q1     Q2   Q3   Q4\n",
              "I0  101.0  201.0  301  401\n",
              "I2  103.0  203.0  302  402\n",
              "I3    NaN    NaN  303  403"
            ]
          },
          "execution_count": 58,
          "metadata": {},
          "output_type": "execute_result"
        }
      ],
      "source": [
        "data_quarters.join(data_quarters_new,how='right') # outer, inner, left, and right work the same as merge"
      ]
    },
    {
      "cell_type": "markdown",
      "metadata": {
        "id": "TQdLaw2WaaT0"
      },
      "source": [
        "<span style=\"color:purple;font-weight:bold\">Pandas - Saving and Loading DataFrames"
      ]
    },
    {
      "cell_type": "code",
      "execution_count": null,
      "metadata": {
        "id": "fTw5q0pBcI5h"
      },
      "outputs": [],
      "source": [
        "data=pd.read_csv(\"StockData.csv\")"
      ]
    },
    {
      "cell_type": "code",
      "execution_count": null,
      "metadata": {
        "id": "K2BX7gs2aaT1",
        "outputId": "9b8d2c6a-16e3-4fce-9993-773929aeb688"
      },
      "outputs": [
        {
          "data": {
            "text/html": [
              "<div>\n",
              "<style scoped>\n",
              "    .dataframe tbody tr th:only-of-type {\n",
              "        vertical-align: middle;\n",
              "    }\n",
              "\n",
              "    .dataframe tbody tr th {\n",
              "        vertical-align: top;\n",
              "    }\n",
              "\n",
              "    .dataframe thead th {\n",
              "        text-align: right;\n",
              "    }\n",
              "</style>\n",
              "<table border=\"1\" class=\"dataframe\">\n",
              "  <thead>\n",
              "    <tr style=\"text-align: right;\">\n",
              "      <th></th>\n",
              "      <th>stock</th>\n",
              "      <th>date</th>\n",
              "      <th>price</th>\n",
              "    </tr>\n",
              "  </thead>\n",
              "  <tbody>\n",
              "    <tr>\n",
              "      <th>0</th>\n",
              "      <td>AAPL</td>\n",
              "      <td>08-02-2013</td>\n",
              "      <td>67.8542</td>\n",
              "    </tr>\n",
              "    <tr>\n",
              "      <th>1</th>\n",
              "      <td>AAPL</td>\n",
              "      <td>11-02-2013</td>\n",
              "      <td>68.5614</td>\n",
              "    </tr>\n",
              "    <tr>\n",
              "      <th>2</th>\n",
              "      <td>AAPL</td>\n",
              "      <td>12-02-2013</td>\n",
              "      <td>66.8428</td>\n",
              "    </tr>\n",
              "    <tr>\n",
              "      <th>3</th>\n",
              "      <td>AAPL</td>\n",
              "      <td>13-02-2013</td>\n",
              "      <td>66.7156</td>\n",
              "    </tr>\n",
              "    <tr>\n",
              "      <th>4</th>\n",
              "      <td>AAPL</td>\n",
              "      <td>14-02-2013</td>\n",
              "      <td>66.6556</td>\n",
              "    </tr>\n",
              "  </tbody>\n",
              "</table>\n",
              "</div>"
            ],
            "text/plain": [
              "  stock        date    price\n",
              "0  AAPL  08-02-2013  67.8542\n",
              "1  AAPL  11-02-2013  68.5614\n",
              "2  AAPL  12-02-2013  66.8428\n",
              "3  AAPL  13-02-2013  66.7156\n",
              "4  AAPL  14-02-2013  66.6556"
            ]
          },
          "execution_count": 60,
          "metadata": {},
          "output_type": "execute_result"
        }
      ],
      "source": [
        "# head() function helps us to see the first 5 rows of the data\n",
        "data.head()"
      ]
    },
    {
      "cell_type": "markdown",
      "metadata": {
        "id": "ulKq6vDgaaT1"
      },
      "source": [
        "<span style=\"color:purple;font-weight:bold\">Loading an excel file in Python"
      ]
    },
    {
      "cell_type": "code",
      "execution_count": null,
      "metadata": {
        "id": "AthmlNozaaT1"
      },
      "outputs": [],
      "source": [
        "#data_excel = pd.read_excel(path_excel)"
      ]
    },
    {
      "cell_type": "markdown",
      "metadata": {
        "id": "jrreBwusfM28"
      },
      "source": [
        "<span style=\"color:purple;font-weight:bold\">Saving the file as csv</span>"
      ]
    },
    {
      "cell_type": "code",
      "execution_count": null,
      "metadata": {
        "id": "2MosW0HdaaT2"
      },
      "outputs": [],
      "source": [
        "data.to_csv('Saved_StockData.csv',index=False)"
      ]
    },
    {
      "cell_type": "markdown",
      "metadata": {
        "id": "vKWc9M2vaaT2"
      },
      "source": [
        "<span style=\"color:purple;font-weight:bold\">Saving the dataset as an excel spreadsheet\n",
        "\n",
        "<span style=\"color:purple;font-weight:bold\"><code>data.to_excel('name of the file.xlsx',index=False)</code>"
      ]
    },
    {
      "cell_type": "code",
      "execution_count": null,
      "metadata": {
        "id": "tU7dwEa1aaT2"
      },
      "outputs": [],
      "source": [
        "data.to_excel('Saved_StockData.xlsx',index=False)"
      ]
    },
    {
      "cell_type": "code",
      "execution_count": null,
      "metadata": {
        "id": "70J7-E8NaaT3",
        "outputId": "62202cb0-bcfb-4160-f678-a7cc291c5c96"
      },
      "outputs": [
        {
          "data": {
            "text/html": [
              "<div>\n",
              "<style scoped>\n",
              "    .dataframe tbody tr th:only-of-type {\n",
              "        vertical-align: middle;\n",
              "    }\n",
              "\n",
              "    .dataframe tbody tr th {\n",
              "        vertical-align: top;\n",
              "    }\n",
              "\n",
              "    .dataframe thead th {\n",
              "        text-align: right;\n",
              "    }\n",
              "</style>\n",
              "<table border=\"1\" class=\"dataframe\">\n",
              "  <thead>\n",
              "    <tr style=\"text-align: right;\">\n",
              "      <th></th>\n",
              "      <th>stock</th>\n",
              "      <th>date</th>\n",
              "      <th>price</th>\n",
              "    </tr>\n",
              "  </thead>\n",
              "  <tbody>\n",
              "    <tr>\n",
              "      <th>0</th>\n",
              "      <td>AAPL</td>\n",
              "      <td>08-02-2013</td>\n",
              "      <td>67.8542</td>\n",
              "    </tr>\n",
              "    <tr>\n",
              "      <th>1</th>\n",
              "      <td>AAPL</td>\n",
              "      <td>11-02-2013</td>\n",
              "      <td>68.5614</td>\n",
              "    </tr>\n",
              "    <tr>\n",
              "      <th>2</th>\n",
              "      <td>AAPL</td>\n",
              "      <td>12-02-2013</td>\n",
              "      <td>66.8428</td>\n",
              "    </tr>\n",
              "    <tr>\n",
              "      <th>3</th>\n",
              "      <td>AAPL</td>\n",
              "      <td>13-02-2013</td>\n",
              "      <td>66.7156</td>\n",
              "    </tr>\n",
              "    <tr>\n",
              "      <th>4</th>\n",
              "      <td>AAPL</td>\n",
              "      <td>14-02-2013</td>\n",
              "      <td>66.6556</td>\n",
              "    </tr>\n",
              "  </tbody>\n",
              "</table>\n",
              "</div>"
            ],
            "text/plain": [
              "  stock        date    price\n",
              "0  AAPL  08-02-2013  67.8542\n",
              "1  AAPL  11-02-2013  68.5614\n",
              "2  AAPL  12-02-2013  66.8428\n",
              "3  AAPL  13-02-2013  66.7156\n",
              "4  AAPL  14-02-2013  66.6556"
            ]
          },
          "execution_count": 64,
          "metadata": {},
          "output_type": "execute_result"
        }
      ],
      "source": [
        "data.head()"
      ]
    },
    {
      "cell_type": "code",
      "execution_count": null,
      "metadata": {
        "id": "8zSpQq0PaaT3",
        "outputId": "37da23eb-9eed-486d-aded-e00fe02d7ba8"
      },
      "outputs": [
        {
          "data": {
            "text/html": [
              "<div>\n",
              "<style scoped>\n",
              "    .dataframe tbody tr th:only-of-type {\n",
              "        vertical-align: middle;\n",
              "    }\n",
              "\n",
              "    .dataframe tbody tr th {\n",
              "        vertical-align: top;\n",
              "    }\n",
              "\n",
              "    .dataframe thead th {\n",
              "        text-align: right;\n",
              "    }\n",
              "</style>\n",
              "<table border=\"1\" class=\"dataframe\">\n",
              "  <thead>\n",
              "    <tr style=\"text-align: right;\">\n",
              "      <th></th>\n",
              "      <th>stock</th>\n",
              "      <th>date</th>\n",
              "      <th>price</th>\n",
              "    </tr>\n",
              "  </thead>\n",
              "  <tbody>\n",
              "    <tr>\n",
              "      <th>5031</th>\n",
              "      <td>ZTS</td>\n",
              "      <td>01-02-2018</td>\n",
              "      <td>77.82</td>\n",
              "    </tr>\n",
              "    <tr>\n",
              "      <th>5032</th>\n",
              "      <td>ZTS</td>\n",
              "      <td>02-02-2018</td>\n",
              "      <td>76.78</td>\n",
              "    </tr>\n",
              "    <tr>\n",
              "      <th>5033</th>\n",
              "      <td>ZTS</td>\n",
              "      <td>05-02-2018</td>\n",
              "      <td>73.83</td>\n",
              "    </tr>\n",
              "    <tr>\n",
              "      <th>5034</th>\n",
              "      <td>ZTS</td>\n",
              "      <td>06-02-2018</td>\n",
              "      <td>73.27</td>\n",
              "    </tr>\n",
              "    <tr>\n",
              "      <th>5035</th>\n",
              "      <td>ZTS</td>\n",
              "      <td>07-02-2018</td>\n",
              "      <td>73.86</td>\n",
              "    </tr>\n",
              "  </tbody>\n",
              "</table>\n",
              "</div>"
            ],
            "text/plain": [
              "     stock        date  price\n",
              "5031   ZTS  01-02-2018  77.82\n",
              "5032   ZTS  02-02-2018  76.78\n",
              "5033   ZTS  05-02-2018  73.83\n",
              "5034   ZTS  06-02-2018  73.27\n",
              "5035   ZTS  07-02-2018  73.86"
            ]
          },
          "execution_count": 65,
          "metadata": {},
          "output_type": "execute_result"
        }
      ],
      "source": [
        "data.tail()"
      ]
    },
    {
      "cell_type": "code",
      "execution_count": null,
      "metadata": {
        "id": "z5n0z2yraaT3",
        "outputId": "926ebddb-d411-43ba-fe93-8b3a018a1b31"
      },
      "outputs": [
        {
          "data": {
            "text/plain": [
              "(5036, 3)"
            ]
          },
          "execution_count": 66,
          "metadata": {},
          "output_type": "execute_result"
        }
      ],
      "source": [
        "data.shape"
      ]
    },
    {
      "cell_type": "code",
      "execution_count": null,
      "metadata": {
        "id": "WWEGpWAOaaT4",
        "outputId": "3f90fea3-7c1e-4bdc-e381-8a722582ec33"
      },
      "outputs": [
        {
          "name": "stdout",
          "output_type": "stream",
          "text": [
            "<class 'pandas.core.frame.DataFrame'>\n",
            "RangeIndex: 5036 entries, 0 to 5035\n",
            "Data columns (total 3 columns):\n",
            " #   Column  Non-Null Count  Dtype  \n",
            "---  ------  --------------  -----  \n",
            " 0   stock   5036 non-null   object \n",
            " 1   date    5036 non-null   object \n",
            " 2   price   5036 non-null   float64\n",
            "dtypes: float64(1), object(2)\n",
            "memory usage: 118.2+ KB\n"
          ]
        }
      ],
      "source": [
        "data.info()"
      ]
    },
    {
      "cell_type": "markdown",
      "metadata": {
        "id": "yzt0Db5zaaT4"
      },
      "source": [
        "<span style=\"color:purple;font-weight:bold\">min() - to check the minimum value of a numeric column"
      ]
    },
    {
      "cell_type": "code",
      "execution_count": null,
      "metadata": {
        "id": "b6_fiiy7aaT4",
        "outputId": "66b847af-d905-4b70-fa99-7b61d6854cac"
      },
      "outputs": [
        {
          "data": {
            "text/plain": [
              "28.4"
            ]
          },
          "execution_count": 68,
          "metadata": {},
          "output_type": "execute_result"
        }
      ],
      "source": [
        "data['price'].min()"
      ]
    },
    {
      "cell_type": "markdown",
      "metadata": {
        "id": "5Ilfa_9yaaT4"
      },
      "source": [
        "<span style=\"color:purple;font-weight:bold\">max() - to check the maximum value of a numeric column**"
      ]
    },
    {
      "cell_type": "code",
      "execution_count": null,
      "metadata": {
        "id": "2t8A8QyaaaT4",
        "outputId": "3e5a7c5e-8a75-4a89-a0a6-feb669ebd8c9"
      },
      "outputs": [
        {
          "data": {
            "text/plain": [
              "179.26"
            ]
          },
          "execution_count": 69,
          "metadata": {},
          "output_type": "execute_result"
        }
      ],
      "source": [
        "data['price'].max()"
      ]
    },
    {
      "cell_type": "markdown",
      "metadata": {
        "id": "1EwaP056aaT5"
      },
      "source": [
        "<span style=\"color:purple;font-weight:bold\">unique() - to check the number of unique values that are present in a column"
      ]
    },
    {
      "cell_type": "code",
      "execution_count": null,
      "metadata": {
        "id": "ZTkwMMXAaaT5",
        "outputId": "b069cf2a-eecc-46c1-d046-fd66965f9c5f"
      },
      "outputs": [
        {
          "data": {
            "text/plain": [
              "array(['AAPL', 'SNI', 'TJX', 'ZTS'], dtype=object)"
            ]
          },
          "execution_count": 70,
          "metadata": {},
          "output_type": "execute_result"
        }
      ],
      "source": [
        "data['stock'].unique()"
      ]
    },
    {
      "cell_type": "markdown",
      "metadata": {
        "id": "WtqlXzUEaaT5"
      },
      "source": [
        "<span style=\"color:purple;font-weight:bold\">value_counts() - to check the number of values that each unique quantity has in a column"
      ]
    },
    {
      "cell_type": "code",
      "execution_count": null,
      "metadata": {
        "id": "9jFLbvr2aaT5",
        "outputId": "5e307cbd-926e-4a6f-a242-5d6cf5d41bfd"
      },
      "outputs": [
        {
          "data": {
            "text/plain": [
              "AAPL    1259\n",
              "SNI     1259\n",
              "TJX     1259\n",
              "ZTS     1259\n",
              "Name: stock, dtype: int64"
            ]
          },
          "execution_count": 71,
          "metadata": {},
          "output_type": "execute_result"
        }
      ],
      "source": [
        "data['stock'].value_counts()"
      ]
    },
    {
      "cell_type": "markdown",
      "metadata": {
        "id": "UPGoY2kxaaT5"
      },
      "source": [
        "<span style=\"color:purple;font-weight:bold\">value_counts(normalize=True) - using the `normalize` parameter and initializing it to True will return the relative frequencies of the unique values"
      ]
    },
    {
      "cell_type": "code",
      "execution_count": null,
      "metadata": {
        "id": "NNeKczQfaaT5",
        "outputId": "25ef1417-8d2e-4922-8e9c-81fc7d8fdf57"
      },
      "outputs": [
        {
          "data": {
            "text/plain": [
              "AAPL    0.25\n",
              "SNI     0.25\n",
              "TJX     0.25\n",
              "ZTS     0.25\n",
              "Name: stock, dtype: float64"
            ]
          },
          "execution_count": 72,
          "metadata": {},
          "output_type": "execute_result"
        }
      ],
      "source": [
        "data['stock'].value_counts(normalize=True)"
      ]
    },
    {
      "cell_type": "markdown",
      "metadata": {
        "id": "LWHaFXvMaaT6"
      },
      "source": [
        "<span style=\"color:purple;font-weight:bold\">mean() - to check the mean (average) value of the column"
      ]
    },
    {
      "cell_type": "code",
      "execution_count": null,
      "metadata": {
        "id": "fQgxZuw1aaT6",
        "outputId": "f824642d-6113-48b7-fbf5-bd43a4684123"
      },
      "outputs": [
        {
          "data": {
            "text/plain": [
              "73.05702966640199"
            ]
          },
          "execution_count": 73,
          "metadata": {},
          "output_type": "execute_result"
        }
      ],
      "source": [
        "data['price'].mean()"
      ]
    },
    {
      "cell_type": "markdown",
      "metadata": {
        "id": "K-KFoQB2aaT6"
      },
      "source": [
        "<span style=\"color:purple;font-weight:bold\">median() - to check the median value of the column"
      ]
    },
    {
      "cell_type": "code",
      "execution_count": null,
      "metadata": {
        "id": "fuajaPzpaaT6",
        "outputId": "0ef4de4b-6817-467c-aa72-4a54236220fe"
      },
      "outputs": [
        {
          "data": {
            "text/plain": [
              "69.08500000000001"
            ]
          },
          "execution_count": 74,
          "metadata": {},
          "output_type": "execute_result"
        }
      ],
      "source": [
        "data['price'].median()"
      ]
    },
    {
      "cell_type": "markdown",
      "metadata": {
        "id": "2mNcZjzFaaT6"
      },
      "source": [
        "<span style=\"color:purple;font-weight:bold\">mode() - to check the mode value of the column"
      ]
    },
    {
      "cell_type": "code",
      "execution_count": null,
      "metadata": {
        "id": "T8iMcq6maaT6",
        "outputId": "d361c0b6-835e-4148-9871-fb70ddcdc31e"
      },
      "outputs": [
        {
          "data": {
            "text/plain": [
              "0    AAPL\n",
              "1     SNI\n",
              "2     TJX\n",
              "3     ZTS\n",
              "Name: stock, dtype: object"
            ]
          },
          "execution_count": 75,
          "metadata": {},
          "output_type": "execute_result"
        }
      ],
      "source": [
        "data['stock'].mode()"
      ]
    },
    {
      "cell_type": "markdown",
      "metadata": {
        "id": "Nw9F_I3DaaT6"
      },
      "source": [
        "<span style=\"color:purple;font-weight:bold\">To access a particular mode when the dataset has more than 1 mode"
      ]
    },
    {
      "cell_type": "code",
      "execution_count": null,
      "metadata": {
        "id": "xyjKRXJLaaT6",
        "outputId": "663b3c69-bd4f-4a65-da08-df4bb13b80be"
      },
      "outputs": [
        {
          "data": {
            "text/plain": [
              "74.59"
            ]
          },
          "execution_count": 76,
          "metadata": {},
          "output_type": "execute_result"
        }
      ],
      "source": [
        "#to access the first mode\n",
        "data['price'].mode()[0]"
      ]
    },
    {
      "cell_type": "markdown",
      "metadata": {
        "id": "hDReuxYbaaT7"
      },
      "source": [
        "<span style=\"color:blueviolet;font-weight:bold\">Group By function - Pandas DataFrame.groupby() function is used to split the data into groups based on some criteria."
      ]
    },
    {
      "cell_type": "code",
      "execution_count": null,
      "metadata": {
        "id": "WDYZKZSCaaT7",
        "outputId": "ed577e0c-a36e-4260-decd-b55e9dbb9542"
      },
      "outputs": [
        {
          "data": {
            "text/plain": [
              "stock\n",
              "AAPL    109.066698\n",
              "SNI      71.319206\n",
              "TJX      66.743566\n",
              "ZTS      45.098648\n",
              "Name: price, dtype: float64"
            ]
          },
          "execution_count": 77,
          "metadata": {},
          "output_type": "execute_result"
        }
      ],
      "source": [
        "data.groupby(['stock'])['price'].mean()"
      ]
    },
    {
      "cell_type": "code",
      "execution_count": null,
      "metadata": {
        "id": "vRa5naunaaT7",
        "outputId": "cee92767-a634-43be-e12a-5b4f4b23622d"
      },
      "outputs": [
        {
          "data": {
            "text/plain": [
              "stock\n",
              "AAPL    109.01\n",
              "SNI      72.31\n",
              "TJX      68.85\n",
              "ZTS      45.62\n",
              "Name: price, dtype: float64"
            ]
          },
          "execution_count": 78,
          "metadata": {},
          "output_type": "execute_result"
        }
      ],
      "source": [
        "# similarly we can get the median price of each stock\n",
        "data.groupby(['stock'])['price'].median()"
      ]
    },
    {
      "cell_type": "markdown",
      "metadata": {
        "id": "MQXyWBP4aaT7"
      },
      "source": [
        "<span style=\"color:blueviolet;font-weight:bold\">Let's create a function to increase the price of the stock by 10%"
      ]
    },
    {
      "cell_type": "code",
      "execution_count": null,
      "metadata": {
        "id": "GGZUiVtkaaT8"
      },
      "outputs": [],
      "source": [
        "def profit(s):\n",
        "    return s + s*0.10 # increase of 10%"
      ]
    },
    {
      "cell_type": "markdown",
      "metadata": {
        "id": "ShnkGc_OaaT8"
      },
      "source": [
        "<span style=\"color:blueviolet;font-weight:bold\">The Pandas apply() function lets you to manipulate columns and rows in a DataFrame"
      ]
    },
    {
      "cell_type": "code",
      "execution_count": null,
      "metadata": {
        "id": "xnqjB-8eaaT8",
        "outputId": "fdde613a-347b-4202-a60b-b151e92ef55f"
      },
      "outputs": [
        {
          "data": {
            "text/plain": [
              "0       74.63962\n",
              "1       75.41754\n",
              "2       73.52708\n",
              "3       73.38716\n",
              "4       73.32116\n",
              "          ...   \n",
              "5031    85.60200\n",
              "5032    84.45800\n",
              "5033    81.21300\n",
              "5034    80.59700\n",
              "5035    81.24600\n",
              "Name: price, Length: 5036, dtype: float64"
            ]
          },
          "execution_count": 80,
          "metadata": {},
          "output_type": "execute_result"
        }
      ],
      "source": [
        "data['price'].apply(profit)"
      ]
    },
    {
      "cell_type": "code",
      "execution_count": null,
      "metadata": {
        "id": "SJcPDTRjaaT8",
        "outputId": "0303cfbd-fa4b-4f17-8036-b8c1f0593a46"
      },
      "outputs": [
        {
          "data": {
            "text/html": [
              "<div>\n",
              "<style scoped>\n",
              "    .dataframe tbody tr th:only-of-type {\n",
              "        vertical-align: middle;\n",
              "    }\n",
              "\n",
              "    .dataframe tbody tr th {\n",
              "        vertical-align: top;\n",
              "    }\n",
              "\n",
              "    .dataframe thead th {\n",
              "        text-align: right;\n",
              "    }\n",
              "</style>\n",
              "<table border=\"1\" class=\"dataframe\">\n",
              "  <thead>\n",
              "    <tr style=\"text-align: right;\">\n",
              "      <th></th>\n",
              "      <th>stock</th>\n",
              "      <th>date</th>\n",
              "      <th>price</th>\n",
              "      <th>new_price</th>\n",
              "    </tr>\n",
              "  </thead>\n",
              "  <tbody>\n",
              "    <tr>\n",
              "      <th>0</th>\n",
              "      <td>AAPL</td>\n",
              "      <td>08-02-2013</td>\n",
              "      <td>67.8542</td>\n",
              "      <td>74.63962</td>\n",
              "    </tr>\n",
              "    <tr>\n",
              "      <th>1</th>\n",
              "      <td>AAPL</td>\n",
              "      <td>11-02-2013</td>\n",
              "      <td>68.5614</td>\n",
              "      <td>75.41754</td>\n",
              "    </tr>\n",
              "    <tr>\n",
              "      <th>2</th>\n",
              "      <td>AAPL</td>\n",
              "      <td>12-02-2013</td>\n",
              "      <td>66.8428</td>\n",
              "      <td>73.52708</td>\n",
              "    </tr>\n",
              "    <tr>\n",
              "      <th>3</th>\n",
              "      <td>AAPL</td>\n",
              "      <td>13-02-2013</td>\n",
              "      <td>66.7156</td>\n",
              "      <td>73.38716</td>\n",
              "    </tr>\n",
              "    <tr>\n",
              "      <th>4</th>\n",
              "      <td>AAPL</td>\n",
              "      <td>14-02-2013</td>\n",
              "      <td>66.6556</td>\n",
              "      <td>73.32116</td>\n",
              "    </tr>\n",
              "  </tbody>\n",
              "</table>\n",
              "</div>"
            ],
            "text/plain": [
              "  stock        date    price  new_price\n",
              "0  AAPL  08-02-2013  67.8542   74.63962\n",
              "1  AAPL  11-02-2013  68.5614   75.41754\n",
              "2  AAPL  12-02-2013  66.8428   73.52708\n",
              "3  AAPL  13-02-2013  66.7156   73.38716\n",
              "4  AAPL  14-02-2013  66.6556   73.32116"
            ]
          },
          "execution_count": 81,
          "metadata": {},
          "output_type": "execute_result"
        }
      ],
      "source": [
        "data['new_price'] =data['price'].apply(profit)\n",
        "data.head()"
      ]
    },
    {
      "cell_type": "markdown",
      "metadata": {
        "id": "WrVwUrG8aaT8"
      },
      "source": [
        "<span style=\"color:blueviolet;font-weight:bold\">Pandas sort_values() function sorts a data frame in ascending or descending order of passed column"
      ]
    },
    {
      "cell_type": "code",
      "execution_count": null,
      "metadata": {
        "id": "fbG7puR1aaT8",
        "outputId": "ab3284f3-2f6e-41e7-a57d-2d4f8a9c1a99"
      },
      "outputs": [
        {
          "data": {
            "text/html": [
              "<div>\n",
              "<style scoped>\n",
              "    .dataframe tbody tr th:only-of-type {\n",
              "        vertical-align: middle;\n",
              "    }\n",
              "\n",
              "    .dataframe tbody tr th {\n",
              "        vertical-align: top;\n",
              "    }\n",
              "\n",
              "    .dataframe thead th {\n",
              "        text-align: right;\n",
              "    }\n",
              "</style>\n",
              "<table border=\"1\" class=\"dataframe\">\n",
              "  <thead>\n",
              "    <tr style=\"text-align: right;\">\n",
              "      <th></th>\n",
              "      <th>stock</th>\n",
              "      <th>date</th>\n",
              "      <th>price</th>\n",
              "      <th>new_price</th>\n",
              "    </tr>\n",
              "  </thead>\n",
              "  <tbody>\n",
              "    <tr>\n",
              "      <th>1244</th>\n",
              "      <td>AAPL</td>\n",
              "      <td>18-01-2018</td>\n",
              "      <td>179.26</td>\n",
              "      <td>197.186</td>\n",
              "    </tr>\n",
              "    <tr>\n",
              "      <th>1243</th>\n",
              "      <td>AAPL</td>\n",
              "      <td>17-01-2018</td>\n",
              "      <td>179.10</td>\n",
              "      <td>197.010</td>\n",
              "    </tr>\n",
              "    <tr>\n",
              "      <th>1245</th>\n",
              "      <td>AAPL</td>\n",
              "      <td>19-01-2018</td>\n",
              "      <td>178.46</td>\n",
              "      <td>196.306</td>\n",
              "    </tr>\n",
              "    <tr>\n",
              "      <th>1241</th>\n",
              "      <td>AAPL</td>\n",
              "      <td>12-01-2018</td>\n",
              "      <td>177.09</td>\n",
              "      <td>194.799</td>\n",
              "    </tr>\n",
              "    <tr>\n",
              "      <th>1247</th>\n",
              "      <td>AAPL</td>\n",
              "      <td>23-01-2018</td>\n",
              "      <td>177.04</td>\n",
              "      <td>194.744</td>\n",
              "    </tr>\n",
              "    <tr>\n",
              "      <th>...</th>\n",
              "      <td>...</td>\n",
              "      <td>...</td>\n",
              "      <td>...</td>\n",
              "      <td>...</td>\n",
              "    </tr>\n",
              "    <tr>\n",
              "      <th>4076</th>\n",
              "      <td>ZTS</td>\n",
              "      <td>17-04-2014</td>\n",
              "      <td>28.60</td>\n",
              "      <td>31.460</td>\n",
              "    </tr>\n",
              "    <tr>\n",
              "      <th>4074</th>\n",
              "      <td>ZTS</td>\n",
              "      <td>15-04-2014</td>\n",
              "      <td>28.55</td>\n",
              "      <td>31.405</td>\n",
              "    </tr>\n",
              "    <tr>\n",
              "      <th>4075</th>\n",
              "      <td>ZTS</td>\n",
              "      <td>16-04-2014</td>\n",
              "      <td>28.53</td>\n",
              "      <td>31.383</td>\n",
              "    </tr>\n",
              "    <tr>\n",
              "      <th>4073</th>\n",
              "      <td>ZTS</td>\n",
              "      <td>14-04-2014</td>\n",
              "      <td>28.48</td>\n",
              "      <td>31.328</td>\n",
              "    </tr>\n",
              "    <tr>\n",
              "      <th>4072</th>\n",
              "      <td>ZTS</td>\n",
              "      <td>11-04-2014</td>\n",
              "      <td>28.40</td>\n",
              "      <td>31.240</td>\n",
              "    </tr>\n",
              "  </tbody>\n",
              "</table>\n",
              "<p>5036 rows × 4 columns</p>\n",
              "</div>"
            ],
            "text/plain": [
              "     stock        date   price  new_price\n",
              "1244  AAPL  18-01-2018  179.26    197.186\n",
              "1243  AAPL  17-01-2018  179.10    197.010\n",
              "1245  AAPL  19-01-2018  178.46    196.306\n",
              "1241  AAPL  12-01-2018  177.09    194.799\n",
              "1247  AAPL  23-01-2018  177.04    194.744\n",
              "...    ...         ...     ...        ...\n",
              "4076   ZTS  17-04-2014   28.60     31.460\n",
              "4074   ZTS  15-04-2014   28.55     31.405\n",
              "4075   ZTS  16-04-2014   28.53     31.383\n",
              "4073   ZTS  14-04-2014   28.48     31.328\n",
              "4072   ZTS  11-04-2014   28.40     31.240\n",
              "\n",
              "[5036 rows x 4 columns]"
            ]
          },
          "execution_count": 82,
          "metadata": {},
          "output_type": "execute_result"
        }
      ],
      "source": [
        "data.sort_values(by='new_price',ascending=False) # by default ascending is set to True"
      ]
    },
    {
      "cell_type": "markdown",
      "metadata": {
        "id": "jq__TYL7aaT9"
      },
      "source": [
        "<span style=\"color:deeppink;font-weight:bold\">Pandas - Date-time Functions"
      ]
    },
    {
      "cell_type": "code",
      "execution_count": null,
      "metadata": {
        "id": "O9sK3H9WaaT9",
        "outputId": "d445af70-8270-4dec-828e-39d1f5b04b98"
      },
      "outputs": [
        {
          "data": {
            "text/html": [
              "<div>\n",
              "<style scoped>\n",
              "    .dataframe tbody tr th:only-of-type {\n",
              "        vertical-align: middle;\n",
              "    }\n",
              "\n",
              "    .dataframe tbody tr th {\n",
              "        vertical-align: top;\n",
              "    }\n",
              "\n",
              "    .dataframe thead th {\n",
              "        text-align: right;\n",
              "    }\n",
              "</style>\n",
              "<table border=\"1\" class=\"dataframe\">\n",
              "  <thead>\n",
              "    <tr style=\"text-align: right;\">\n",
              "      <th></th>\n",
              "      <th>stock</th>\n",
              "      <th>date</th>\n",
              "      <th>price</th>\n",
              "      <th>new_price</th>\n",
              "    </tr>\n",
              "  </thead>\n",
              "  <tbody>\n",
              "    <tr>\n",
              "      <th>0</th>\n",
              "      <td>AAPL</td>\n",
              "      <td>08-02-2013</td>\n",
              "      <td>67.8542</td>\n",
              "      <td>74.63962</td>\n",
              "    </tr>\n",
              "    <tr>\n",
              "      <th>1</th>\n",
              "      <td>AAPL</td>\n",
              "      <td>11-02-2013</td>\n",
              "      <td>68.5614</td>\n",
              "      <td>75.41754</td>\n",
              "    </tr>\n",
              "    <tr>\n",
              "      <th>2</th>\n",
              "      <td>AAPL</td>\n",
              "      <td>12-02-2013</td>\n",
              "      <td>66.8428</td>\n",
              "      <td>73.52708</td>\n",
              "    </tr>\n",
              "    <tr>\n",
              "      <th>3</th>\n",
              "      <td>AAPL</td>\n",
              "      <td>13-02-2013</td>\n",
              "      <td>66.7156</td>\n",
              "      <td>73.38716</td>\n",
              "    </tr>\n",
              "    <tr>\n",
              "      <th>4</th>\n",
              "      <td>AAPL</td>\n",
              "      <td>14-02-2013</td>\n",
              "      <td>66.6556</td>\n",
              "      <td>73.32116</td>\n",
              "    </tr>\n",
              "  </tbody>\n",
              "</table>\n",
              "</div>"
            ],
            "text/plain": [
              "  stock        date    price  new_price\n",
              "0  AAPL  08-02-2013  67.8542   74.63962\n",
              "1  AAPL  11-02-2013  68.5614   75.41754\n",
              "2  AAPL  12-02-2013  66.8428   73.52708\n",
              "3  AAPL  13-02-2013  66.7156   73.38716\n",
              "4  AAPL  14-02-2013  66.6556   73.32116"
            ]
          },
          "execution_count": 83,
          "metadata": {},
          "output_type": "execute_result"
        }
      ],
      "source": [
        "# checking the first 5 rows of the dataset\n",
        "data.head()"
      ]
    },
    {
      "cell_type": "code",
      "execution_count": null,
      "metadata": {
        "id": "DUTj4xHuaaT9",
        "outputId": "7e5bf6d7-d1c5-4b2a-e7ba-fb05f57ec223"
      },
      "outputs": [
        {
          "name": "stdout",
          "output_type": "stream",
          "text": [
            "<class 'pandas.core.frame.DataFrame'>\n",
            "RangeIndex: 5036 entries, 0 to 5035\n",
            "Data columns (total 4 columns):\n",
            " #   Column     Non-Null Count  Dtype  \n",
            "---  ------     --------------  -----  \n",
            " 0   stock      5036 non-null   object \n",
            " 1   date       5036 non-null   object \n",
            " 2   price      5036 non-null   float64\n",
            " 3   new_price  5036 non-null   float64\n",
            "dtypes: float64(2), object(2)\n",
            "memory usage: 157.5+ KB\n"
          ]
        }
      ],
      "source": [
        "# checking the data type of columns in the dataset\n",
        "data.info()"
      ]
    },
    {
      "cell_type": "markdown",
      "metadata": {
        "id": "zJwyGtcUaaT9"
      },
      "source": [
        "* We observe that the date column is of object type whereas it should be of date time data type."
      ]
    },
    {
      "cell_type": "code",
      "execution_count": null,
      "metadata": {
        "id": "wf_sF48baaT9"
      },
      "outputs": [],
      "source": [
        "# converting the date column to datetime format\n",
        "data['date']  = pd.to_datetime(data['date'],dayfirst=True)"
      ]
    },
    {
      "cell_type": "code",
      "execution_count": null,
      "metadata": {
        "id": "x0JpES2paaT9",
        "outputId": "1a0c21bb-3be3-4630-a1c2-8f54ff309163"
      },
      "outputs": [
        {
          "name": "stdout",
          "output_type": "stream",
          "text": [
            "<class 'pandas.core.frame.DataFrame'>\n",
            "RangeIndex: 5036 entries, 0 to 5035\n",
            "Data columns (total 4 columns):\n",
            " #   Column     Non-Null Count  Dtype         \n",
            "---  ------     --------------  -----         \n",
            " 0   stock      5036 non-null   object        \n",
            " 1   date       5036 non-null   datetime64[ns]\n",
            " 2   price      5036 non-null   float64       \n",
            " 3   new_price  5036 non-null   float64       \n",
            "dtypes: datetime64[ns](1), float64(2), object(1)\n",
            "memory usage: 157.5+ KB\n"
          ]
        }
      ],
      "source": [
        "data.info()"
      ]
    },
    {
      "cell_type": "markdown",
      "metadata": {
        "id": "c3LKyXDsaaT-"
      },
      "source": [
        "* We observe that the date column has been converted to datetime format"
      ]
    },
    {
      "cell_type": "code",
      "execution_count": null,
      "metadata": {
        "id": "PwvtmGCZaaT-",
        "outputId": "72f30561-b13e-49e6-e9b6-393dc9d07c0f"
      },
      "outputs": [
        {
          "data": {
            "text/html": [
              "<div>\n",
              "<style scoped>\n",
              "    .dataframe tbody tr th:only-of-type {\n",
              "        vertical-align: middle;\n",
              "    }\n",
              "\n",
              "    .dataframe tbody tr th {\n",
              "        vertical-align: top;\n",
              "    }\n",
              "\n",
              "    .dataframe thead th {\n",
              "        text-align: right;\n",
              "    }\n",
              "</style>\n",
              "<table border=\"1\" class=\"dataframe\">\n",
              "  <thead>\n",
              "    <tr style=\"text-align: right;\">\n",
              "      <th></th>\n",
              "      <th>stock</th>\n",
              "      <th>date</th>\n",
              "      <th>price</th>\n",
              "      <th>new_price</th>\n",
              "    </tr>\n",
              "  </thead>\n",
              "  <tbody>\n",
              "    <tr>\n",
              "      <th>0</th>\n",
              "      <td>AAPL</td>\n",
              "      <td>2013-02-08</td>\n",
              "      <td>67.8542</td>\n",
              "      <td>74.63962</td>\n",
              "    </tr>\n",
              "    <tr>\n",
              "      <th>1</th>\n",
              "      <td>AAPL</td>\n",
              "      <td>2013-02-11</td>\n",
              "      <td>68.5614</td>\n",
              "      <td>75.41754</td>\n",
              "    </tr>\n",
              "    <tr>\n",
              "      <th>2</th>\n",
              "      <td>AAPL</td>\n",
              "      <td>2013-02-12</td>\n",
              "      <td>66.8428</td>\n",
              "      <td>73.52708</td>\n",
              "    </tr>\n",
              "    <tr>\n",
              "      <th>3</th>\n",
              "      <td>AAPL</td>\n",
              "      <td>2013-02-13</td>\n",
              "      <td>66.7156</td>\n",
              "      <td>73.38716</td>\n",
              "    </tr>\n",
              "    <tr>\n",
              "      <th>4</th>\n",
              "      <td>AAPL</td>\n",
              "      <td>2013-02-14</td>\n",
              "      <td>66.6556</td>\n",
              "      <td>73.32116</td>\n",
              "    </tr>\n",
              "  </tbody>\n",
              "</table>\n",
              "</div>"
            ],
            "text/plain": [
              "  stock       date    price  new_price\n",
              "0  AAPL 2013-02-08  67.8542   74.63962\n",
              "1  AAPL 2013-02-11  68.5614   75.41754\n",
              "2  AAPL 2013-02-12  66.8428   73.52708\n",
              "3  AAPL 2013-02-13  66.7156   73.38716\n",
              "4  AAPL 2013-02-14  66.6556   73.32116"
            ]
          },
          "execution_count": 87,
          "metadata": {},
          "output_type": "execute_result"
        }
      ],
      "source": [
        "data.head()"
      ]
    },
    {
      "cell_type": "markdown",
      "metadata": {
        "id": "MOltU1f_aaT-"
      },
      "source": [
        "<span style=\"color:deeppink;font-weight:bold\">The column 'date' is now in datetime format. Now we can change the format of the date to any other format"
      ]
    },
    {
      "cell_type": "code",
      "execution_count": null,
      "metadata": {
        "id": "lRzPtIN1aaT-",
        "outputId": "0020ff5e-cda0-4cdd-e76a-46ac2bac3f95"
      },
      "outputs": [
        {
          "data": {
            "text/plain": [
              "0       02/08/2013\n",
              "1       02/11/2013\n",
              "2       02/12/2013\n",
              "3       02/13/2013\n",
              "4       02/14/2013\n",
              "           ...    \n",
              "5031    02/01/2018\n",
              "5032    02/02/2018\n",
              "5033    02/05/2018\n",
              "5034    02/06/2018\n",
              "5035    02/07/2018\n",
              "Name: date, Length: 5036, dtype: object"
            ]
          },
          "execution_count": 88,
          "metadata": {},
          "output_type": "execute_result"
        }
      ],
      "source": [
        "data['date'].dt.strftime('%m/%d/%Y')"
      ]
    },
    {
      "cell_type": "code",
      "execution_count": null,
      "metadata": {
        "id": "jmZPqQ_raaT-",
        "outputId": "6acc9d06-148d-4260-d1e5-26b2577ec277"
      },
      "outputs": [
        {
          "data": {
            "text/plain": [
              "0       02-08-13\n",
              "1       02-11-13\n",
              "2       02-12-13\n",
              "3       02-13-13\n",
              "4       02-14-13\n",
              "          ...   \n",
              "5031    02-01-18\n",
              "5032    02-02-18\n",
              "5033    02-05-18\n",
              "5034    02-06-18\n",
              "5035    02-07-18\n",
              "Name: date, Length: 5036, dtype: object"
            ]
          },
          "execution_count": 89,
          "metadata": {},
          "output_type": "execute_result"
        }
      ],
      "source": [
        "data['date'].dt.strftime('%m-%d-%y')"
      ]
    },
    {
      "cell_type": "markdown",
      "metadata": {
        "id": "hLr6kwcRaaT-"
      },
      "source": [
        "<span style=\"color:deeppink;font-weight:bold\">Extracting year from the date column"
      ]
    },
    {
      "cell_type": "code",
      "execution_count": null,
      "metadata": {
        "id": "TawW5CJEaaT-",
        "outputId": "463d8df4-6f2b-4120-94d8-b33ad71e303e"
      },
      "outputs": [
        {
          "data": {
            "text/plain": [
              "0       2013\n",
              "1       2013\n",
              "2       2013\n",
              "3       2013\n",
              "4       2013\n",
              "        ... \n",
              "5031    2018\n",
              "5032    2018\n",
              "5033    2018\n",
              "5034    2018\n",
              "5035    2018\n",
              "Name: date, Length: 5036, dtype: int64"
            ]
          },
          "execution_count": 90,
          "metadata": {},
          "output_type": "execute_result"
        }
      ],
      "source": [
        "data['date'].dt.year"
      ]
    },
    {
      "cell_type": "markdown",
      "metadata": {
        "id": "yE47GlNpaaT-"
      },
      "source": [
        "Creating a new column and adding the extracted year values into the dataframe."
      ]
    },
    {
      "cell_type": "code",
      "execution_count": null,
      "metadata": {
        "id": "YB5h8YxHaaT_"
      },
      "outputs": [],
      "source": [
        "data['year'] = data['date'].dt.year"
      ]
    },
    {
      "cell_type": "markdown",
      "metadata": {
        "id": "hY_74cFsaaT_"
      },
      "source": [
        "<span style=\"color:deeppink;font-weight:bold\">Extracting month from the date column"
      ]
    },
    {
      "cell_type": "code",
      "execution_count": null,
      "metadata": {
        "id": "NiswAWBkaaT_",
        "scrolled": true,
        "outputId": "04867231-1c62-4a9e-cf6f-2ef2202ad517"
      },
      "outputs": [
        {
          "data": {
            "text/plain": [
              "0       2\n",
              "1       2\n",
              "2       2\n",
              "3       2\n",
              "4       2\n",
              "       ..\n",
              "5031    2\n",
              "5032    2\n",
              "5033    2\n",
              "5034    2\n",
              "5035    2\n",
              "Name: date, Length: 5036, dtype: int64"
            ]
          },
          "execution_count": 92,
          "metadata": {},
          "output_type": "execute_result"
        }
      ],
      "source": [
        "data['date'].dt.month"
      ]
    },
    {
      "cell_type": "markdown",
      "metadata": {
        "id": "yVsJ9ekcaaT_"
      },
      "source": [
        "Creating a new column and adding the extracted month values into the dataframe."
      ]
    },
    {
      "cell_type": "code",
      "execution_count": null,
      "metadata": {
        "id": "othBpB1KaaT_"
      },
      "outputs": [],
      "source": [
        "data['month'] = data['date'].dt.month"
      ]
    },
    {
      "cell_type": "markdown",
      "metadata": {
        "id": "uB5H7zjgaaT_"
      },
      "source": [
        "<span style=\"color:deeppink;font-weight:bold\">Extracting day from the date column"
      ]
    },
    {
      "cell_type": "code",
      "execution_count": null,
      "metadata": {
        "id": "Zqna7c2KaaT_",
        "outputId": "ebd1b531-c7aa-44c7-9226-5fddb54ad2e6"
      },
      "outputs": [
        {
          "data": {
            "text/plain": [
              "0        8\n",
              "1       11\n",
              "2       12\n",
              "3       13\n",
              "4       14\n",
              "        ..\n",
              "5031     1\n",
              "5032     2\n",
              "5033     5\n",
              "5034     6\n",
              "5035     7\n",
              "Name: date, Length: 5036, dtype: int64"
            ]
          },
          "execution_count": 94,
          "metadata": {},
          "output_type": "execute_result"
        }
      ],
      "source": [
        "data['date'].dt.day"
      ]
    },
    {
      "cell_type": "markdown",
      "metadata": {
        "id": "y3z5F-NFaaT_"
      },
      "source": [
        "Creating a new column and adding the extracted day values into the dataframe."
      ]
    },
    {
      "cell_type": "code",
      "execution_count": null,
      "metadata": {
        "id": "BjbZlnl8aaUA"
      },
      "outputs": [],
      "source": [
        "data['day'] = data['date'].dt.day"
      ]
    },
    {
      "cell_type": "code",
      "execution_count": null,
      "metadata": {
        "id": "eHuo2CYdaaUA",
        "outputId": "6a1a551a-7777-4e72-d94f-a85290577187"
      },
      "outputs": [
        {
          "data": {
            "text/html": [
              "<div>\n",
              "<style scoped>\n",
              "    .dataframe tbody tr th:only-of-type {\n",
              "        vertical-align: middle;\n",
              "    }\n",
              "\n",
              "    .dataframe tbody tr th {\n",
              "        vertical-align: top;\n",
              "    }\n",
              "\n",
              "    .dataframe thead th {\n",
              "        text-align: right;\n",
              "    }\n",
              "</style>\n",
              "<table border=\"1\" class=\"dataframe\">\n",
              "  <thead>\n",
              "    <tr style=\"text-align: right;\">\n",
              "      <th></th>\n",
              "      <th>stock</th>\n",
              "      <th>date</th>\n",
              "      <th>price</th>\n",
              "      <th>new_price</th>\n",
              "      <th>year</th>\n",
              "      <th>month</th>\n",
              "      <th>day</th>\n",
              "    </tr>\n",
              "  </thead>\n",
              "  <tbody>\n",
              "    <tr>\n",
              "      <th>0</th>\n",
              "      <td>AAPL</td>\n",
              "      <td>2013-02-08</td>\n",
              "      <td>67.8542</td>\n",
              "      <td>74.63962</td>\n",
              "      <td>2013</td>\n",
              "      <td>2</td>\n",
              "      <td>8</td>\n",
              "    </tr>\n",
              "    <tr>\n",
              "      <th>1</th>\n",
              "      <td>AAPL</td>\n",
              "      <td>2013-02-11</td>\n",
              "      <td>68.5614</td>\n",
              "      <td>75.41754</td>\n",
              "      <td>2013</td>\n",
              "      <td>2</td>\n",
              "      <td>11</td>\n",
              "    </tr>\n",
              "    <tr>\n",
              "      <th>2</th>\n",
              "      <td>AAPL</td>\n",
              "      <td>2013-02-12</td>\n",
              "      <td>66.8428</td>\n",
              "      <td>73.52708</td>\n",
              "      <td>2013</td>\n",
              "      <td>2</td>\n",
              "      <td>12</td>\n",
              "    </tr>\n",
              "    <tr>\n",
              "      <th>3</th>\n",
              "      <td>AAPL</td>\n",
              "      <td>2013-02-13</td>\n",
              "      <td>66.7156</td>\n",
              "      <td>73.38716</td>\n",
              "      <td>2013</td>\n",
              "      <td>2</td>\n",
              "      <td>13</td>\n",
              "    </tr>\n",
              "    <tr>\n",
              "      <th>4</th>\n",
              "      <td>AAPL</td>\n",
              "      <td>2013-02-14</td>\n",
              "      <td>66.6556</td>\n",
              "      <td>73.32116</td>\n",
              "      <td>2013</td>\n",
              "      <td>2</td>\n",
              "      <td>14</td>\n",
              "    </tr>\n",
              "  </tbody>\n",
              "</table>\n",
              "</div>"
            ],
            "text/plain": [
              "  stock       date    price  new_price  year  month  day\n",
              "0  AAPL 2013-02-08  67.8542   74.63962  2013      2    8\n",
              "1  AAPL 2013-02-11  68.5614   75.41754  2013      2   11\n",
              "2  AAPL 2013-02-12  66.8428   73.52708  2013      2   12\n",
              "3  AAPL 2013-02-13  66.7156   73.38716  2013      2   13\n",
              "4  AAPL 2013-02-14  66.6556   73.32116  2013      2   14"
            ]
          },
          "execution_count": 96,
          "metadata": {},
          "output_type": "execute_result"
        }
      ],
      "source": [
        "data.head()"
      ]
    },
    {
      "cell_type": "markdown",
      "metadata": {
        "id": "q1ukYGe1jr-1"
      },
      "source": [
        "* We can see that year, month, and day columns have been added in the dataset."
      ]
    },
    {
      "cell_type": "code",
      "execution_count": null,
      "metadata": {
        "id": "01DjN1VPlKlw",
        "outputId": "65276f35-a9d6-487a-b840-e3b78296ee24"
      },
      "outputs": [
        {
          "data": {
            "text/plain": [
              "Timedelta('3 days 00:00:00')"
            ]
          },
          "execution_count": 97,
          "metadata": {},
          "output_type": "execute_result"
        }
      ],
      "source": [
        "# The datetime format is convenient for many tasks!\n",
        "data['date'][1]-data['date'][0]"
      ]
    },
    {
      "cell_type": "code",
      "execution_count": null,
      "metadata": {
        "id": "LkUnRvuNjl1J"
      },
      "outputs": [],
      "source": []
    }
  ],
  "metadata": {
    "colab": {
      "collapsed_sections": [
        "RWg1XRJ-u1iM",
        "c7MwEmop6GWe",
        "1PVPsH6Rf9Us",
        "TQdLaw2WaaT0",
        "JI-WmKp4aaT2",
        "jq__TYL7aaT9"
      ],
      "provenance": [],
      "include_colab_link": true
    },
    "kernelspec": {
      "display_name": "Python 3 (ipykernel)",
      "language": "python",
      "name": "python3"
    },
    "language_info": {
      "codemirror_mode": {
        "name": "ipython",
        "version": 3
      },
      "file_extension": ".py",
      "mimetype": "text/x-python",
      "name": "python",
      "nbconvert_exporter": "python",
      "pygments_lexer": "ipython3",
      "version": "3.9.12"
    }
  },
  "nbformat": 4,
  "nbformat_minor": 0
}