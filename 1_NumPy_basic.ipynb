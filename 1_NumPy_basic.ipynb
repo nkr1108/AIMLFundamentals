{
  "cells": [
    {
      "cell_type": "markdown",
      "metadata": {
        "id": "V7NoTi0kTGVz"
      },
      "source": [
        "**NumPy Arrays** - An array is a data structure that **stores values of same data type.**"
      ]
    },
    {
      "cell_type": "code",
      "execution_count": null,
      "metadata": {
        "id": "ynE9R19cPIMT"
      },
      "outputs": [],
      "source": [
        "import numpy as np"
      ]
    },
    {
      "cell_type": "markdown",
      "metadata": {
        "id": "cYsQgeSWalcG"
      },
      "source": [
        "**NumPy Array**"
      ]
    },
    {
      "cell_type": "code",
      "execution_count": null,
      "metadata": {
        "id": "-iMbhbKUS01I"
      },
      "outputs": [],
      "source": [
        "# defining a list of different car companies or string elements\n",
        "arr_str = ['Mercedes', 'BMW', 'Audi', 'Ferrari', 'Tesla']\n",
        "\n",
        "# defining a list of number of cylinders in car or numerical elements\n",
        "arr_num = [5, 4, 6, 7, 3]"
      ]
    },
    {
      "cell_type": "code",
      "execution_count": null,
      "metadata": {
        "colab": {
          "base_uri": "https://localhost:8080/"
        },
        "id": "z8kfV796S0xz",
        "outputId": "4231c049-968b-4528-8084-48e05a00c1e1"
      },
      "outputs": [
        {
          "name": "stdout",
          "output_type": "stream",
          "text": [
            "list (arr_str):  <class 'list'> ['Mercedes', 'BMW', 'Audi', 'Ferrari', 'Tesla']\n",
            "Numpy Array (arr_str):  <class 'numpy.ndarray'> ['Mercedes' 'BMW' 'Audi' 'Ferrari' 'Tesla']\n",
            "list (arr_num):  <class 'list'> [5, 4, 6, 7, 3]\n",
            "Numpy Array (arr_num):  <class 'numpy.ndarray'> [5 4 6 7 3]\n"
          ]
        }
      ],
      "source": [
        "# connverting the list arr_str to a NumPy array\n",
        "np_arr_str = np.array(arr_str)\n",
        "\n",
        "# connverting the list arr_num to a NumPy array\n",
        "np_arr_num = np.array(arr_num)\n",
        "\n",
        "# checking the output\n",
        "print('list (arr_str): ',type(arr_str),arr_str)\n",
        "print('Numpy Array (arr_str): ',type(np_arr_str),np_arr_str)\n",
        "print('list (arr_num): ',type(arr_num),arr_num)\n",
        "print('Numpy Array (arr_num): ',type(np_arr_num),np_arr_num)"
      ]
    },
    {
      "cell_type": "markdown",
      "metadata": {
        "id": "vO-p9figS0qt"
      },
      "source": [
        "**NumPy Matrix**"
      ]
    },
    {
      "cell_type": "markdown",
      "metadata": {
        "id": "63nVxGI-dEFn"
      },
      "source": [
        "* A matrix is a two-dimensional data structure where elements are arranged into rows and columns.\n",
        "* A matrix can be created by using **list of lists**"
      ]
    },
    {
      "cell_type": "code",
      "execution_count": null,
      "metadata": {
        "colab": {
          "base_uri": "https://localhost:8080/"
        },
        "id": "eHL0aPSOS0fT",
        "outputId": "2c8517f0-194e-4d36-af8c-1522f55f93a5"
      },
      "outputs": [
        {
          "name": "stdout",
          "output_type": "stream",
          "text": [
            "[[1 2 1]\n",
            " [4 5 9]\n",
            " [1 8 9]]\n",
            "Data type of matrix:  <class 'numpy.ndarray'>\n"
          ]
        }
      ],
      "source": [
        "# numpy matrix\n",
        "matrix = np.array([[1,2,1],[4,5,9],[1,8,9]])\n",
        "print(matrix)\n",
        "print('Data type of matrix: ',type(matrix))"
      ]
    },
    {
      "cell_type": "code",
      "execution_count": null,
      "metadata": {
        "colab": {
          "base_uri": "https://localhost:8080/"
        },
        "id": "cUrjXGnIVFNt",
        "outputId": "340c736f-8e39-42e3-d071-9acfeae4f56b"
      },
      "outputs": [
        {
          "name": "stdout",
          "output_type": "stream",
          "text": [
            "<class 'list'>\n",
            "[[1, 2, 8], [4, 5, 8], [1, 8, 8]]\n",
            "<class 'numpy.ndarray'>\n",
            "[[1 2 8]\n",
            " [4 5 8]\n",
            " [1 8 8]]\n"
          ]
        }
      ],
      "source": [
        "# 2d array using list of list\n",
        "d2_lst = [[1,2,8],[4,5,8],[1,8,8]]\n",
        "print(type(d2_lst))\n",
        "print(d2_lst)\n",
        "\n",
        "np_d2_lst = np.array(d2_lst)\n",
        "print(type(np_d2_lst))\n",
        "print(np_d2_lst)"
      ]
    },
    {
      "cell_type": "code",
      "execution_count": null,
      "metadata": {
        "id": "3qrH4ls82oB7",
        "outputId": "93049013-fc1a-4032-c08b-968ff1bed521"
      },
      "outputs": [
        {
          "data": {
            "text/plain": [
              "2"
            ]
          },
          "execution_count": 6,
          "metadata": {},
          "output_type": "execute_result"
        }
      ],
      "source": [
        "# ndim method tells dimension of the numpy array\n",
        "matrix.ndim"
      ]
    },
    {
      "cell_type": "code",
      "execution_count": null,
      "metadata": {
        "id": "jLdp-9KP2oB7",
        "outputId": "72f8a3df-299b-47e1-8e8e-3e54af5f08f3"
      },
      "outputs": [
        {
          "data": {
            "text/plain": [
              "(3, 3)"
            ]
          },
          "execution_count": 7,
          "metadata": {},
          "output_type": "execute_result"
        }
      ],
      "source": [
        "# shape method tells explicitly tells # or rows and # of columns\n",
        "matrix.shape"
      ]
    },
    {
      "cell_type": "markdown",
      "metadata": {
        "id": "Z1Pt15gW2oB8"
      },
      "source": [
        "**Accessing elements of nympy array/matrix**"
      ]
    },
    {
      "cell_type": "code",
      "execution_count": null,
      "metadata": {
        "colab": {
          "base_uri": "https://localhost:8080/"
        },
        "id": "xB1XMZ1zUH9B",
        "outputId": "08537402-7fb7-45e0-d1ec-1f8670a15534"
      },
      "outputs": [
        {
          "data": {
            "text/plain": [
              "array([4, 5, 9])"
            ]
          },
          "execution_count": 8,
          "metadata": {},
          "output_type": "execute_result"
        }
      ],
      "source": [
        "matrix[1,0:] # format [row,columns] OR [row range separated by :,column range as :]"
      ]
    },
    {
      "cell_type": "code",
      "execution_count": null,
      "metadata": {
        "colab": {
          "base_uri": "https://localhost:8080/"
        },
        "id": "Ug4ZgLIGUH9C",
        "outputId": "875f5cfb-3352-4996-b7ef-757e0ee79ff6"
      },
      "outputs": [
        {
          "data": {
            "text/plain": [
              "array([2, 5, 8])"
            ]
          },
          "execution_count": 9,
          "metadata": {},
          "output_type": "execute_result"
        }
      ],
      "source": [
        "matrix[:,1]"
      ]
    },
    {
      "cell_type": "code",
      "execution_count": null,
      "metadata": {
        "colab": {
          "base_uri": "https://localhost:8080/"
        },
        "id": "-WHw7ACQXGYp",
        "outputId": "a0bfc473-9929-4a44-cffc-d43e7c82b372"
      },
      "outputs": [
        {
          "data": {
            "text/plain": [
              "numpy.ndarray"
            ]
          },
          "execution_count": 10,
          "metadata": {},
          "output_type": "execute_result"
        }
      ],
      "source": [
        "type(matrix[:,1])"
      ]
    },
    {
      "cell_type": "code",
      "execution_count": null,
      "metadata": {
        "colab": {
          "base_uri": "https://localhost:8080/"
        },
        "id": "By7eZ7xhXJsv",
        "outputId": "8f8e758f-861d-4cb8-e003-f52c7551b8ed"
      },
      "outputs": [
        {
          "data": {
            "text/plain": [
              "1"
            ]
          },
          "execution_count": 11,
          "metadata": {},
          "output_type": "execute_result"
        }
      ],
      "source": [
        "matrix[:,1].ndim"
      ]
    },
    {
      "cell_type": "code",
      "execution_count": null,
      "metadata": {
        "id": "Wj0WtzqD2oB9",
        "outputId": "03ffe444-fe8f-49c2-eb79-2a720f1843e0"
      },
      "outputs": [
        {
          "data": {
            "text/plain": [
              "2"
            ]
          },
          "execution_count": 12,
          "metadata": {},
          "output_type": "execute_result"
        }
      ],
      "source": [
        "matrix.ndim"
      ]
    },
    {
      "cell_type": "markdown",
      "metadata": {
        "id": "mJD-BCvcdjQY"
      },
      "source": [
        "**<code>np.arange()</code>**\n",
        "* <code>np.arange(start (def 0),stop,step (def 1)</code>"
      ]
    },
    {
      "cell_type": "code",
      "execution_count": null,
      "metadata": {
        "colab": {
          "base_uri": "https://localhost:8080/"
        },
        "id": "h6yhwhCfdhrO",
        "outputId": "3ab88ec7-fe89-4fbc-88d2-8273ca183041"
      },
      "outputs": [
        {
          "name": "stdout",
          "output_type": "stream",
          "text": [
            "[0 1 2 3 4 5 6 7 8 9]\n",
            "[10 11 12 13 14 15 16 17 18 19]\n"
          ]
        }
      ],
      "source": [
        "arr2  = np.arange(start = 0, stop = 10) # 10 will be excluded from the output\n",
        "print(arr2)\n",
        "\n",
        "# or\n",
        "\n",
        "arr2  = np.arange(10,20)\n",
        "print(arr2)"
      ]
    },
    {
      "cell_type": "code",
      "execution_count": null,
      "metadata": {
        "colab": {
          "base_uri": "https://localhost:8080/"
        },
        "id": "Ue6ZWIbKnN-F",
        "outputId": "899a052f-4643-4306-f000-2addd01be2c9"
      },
      "outputs": [
        {
          "data": {
            "text/plain": [
              "array([[10, 11],\n",
              "       [12, 13],\n",
              "       [14, 15],\n",
              "       [16, 17],\n",
              "       [18, 19]])"
            ]
          },
          "execution_count": 14,
          "metadata": {},
          "output_type": "execute_result"
        }
      ],
      "source": [
        "arr3 = np.arange(10,20).reshape(5,2) # changes the shape after creating an array of 1d\n",
        "arr3"
      ]
    },
    {
      "cell_type": "code",
      "execution_count": null,
      "metadata": {
        "colab": {
          "base_uri": "https://localhost:8080/"
        },
        "id": "vBeKeijxXkST",
        "outputId": "081848f3-bdcd-43f4-f300-ef184de2ae14"
      },
      "outputs": [
        {
          "name": "stdout",
          "output_type": "stream",
          "text": [
            "[10 11 12 13 14 15 16 17 18 19]\n"
          ]
        }
      ],
      "source": [
        "arr4 = np.arange(10,20)\n",
        "print(arr4)"
      ]
    },
    {
      "cell_type": "code",
      "execution_count": null,
      "metadata": {
        "colab": {
          "base_uri": "https://localhost:8080/"
        },
        "id": "k6EuE4U4X0Mt",
        "outputId": "76bea7ac-863b-4657-a367-29ec7869f300"
      },
      "outputs": [
        {
          "name": "stdout",
          "output_type": "stream",
          "text": [
            "[10 11 12 13 14 15 16 17 18 19 10 11 12 13 14]\n"
          ]
        }
      ],
      "source": [
        "print(np.resize(arr4,15)) # see that the array is repeated"
      ]
    },
    {
      "cell_type": "code",
      "execution_count": null,
      "metadata": {
        "id": "VRlapIHc2oB-",
        "outputId": "ca79604f-cefb-498c-d153-9d6f4ac6ed57"
      },
      "outputs": [
        {
          "name": "stdout",
          "output_type": "stream",
          "text": [
            "[10 11 12 13 14 15 16 17 18 19 10 11 12 13 14 15 16 17 18 19 10 11 12 13\n",
            " 14]\n"
          ]
        }
      ],
      "source": [
        "print(np.resize(arr4,25)) # see that the array is repeated"
      ]
    },
    {
      "cell_type": "code",
      "execution_count": null,
      "metadata": {
        "colab": {
          "base_uri": "https://localhost:8080/"
        },
        "id": "EBQxWv87gij1",
        "outputId": "b396e08a-9cfc-4485-ca48-bab113b33d29"
      },
      "outputs": [
        {
          "data": {
            "text/plain": [
              "array([ 0,  5, 10, 15])"
            ]
          },
          "execution_count": 18,
          "metadata": {},
          "output_type": "execute_result"
        }
      ],
      "source": [
        "# adding a step size of 5 to create an array\n",
        "arr3  = np.arange(start = 0, stop = 20, step = 5)\n",
        "arr3"
      ]
    },
    {
      "cell_type": "markdown",
      "metadata": {
        "id": "fadu1DMxge1S"
      },
      "source": [
        "**<code>np.linspace()</code>**\n",
        "* The <code>np.linspace()</code> function returns numpy array which are evenly distributed with respect to interval.\n",
        "* <code>np.linspace(start - included,stop - included,elements)</code>\n"
      ]
    },
    {
      "cell_type": "code",
      "execution_count": null,
      "metadata": {
        "colab": {
          "base_uri": "https://localhost:8080/"
        },
        "id": "AvnueiSGdhb7",
        "outputId": "3b6586e1-c806-45f8-fb2c-943644105ec9"
      },
      "outputs": [
        {
          "data": {
            "text/plain": [
              "array([0.        , 0.10204082, 0.20408163, 0.30612245, 0.40816327,\n",
              "       0.51020408, 0.6122449 , 0.71428571, 0.81632653, 0.91836735,\n",
              "       1.02040816, 1.12244898, 1.2244898 , 1.32653061, 1.42857143,\n",
              "       1.53061224, 1.63265306, 1.73469388, 1.83673469, 1.93877551,\n",
              "       2.04081633, 2.14285714, 2.24489796, 2.34693878, 2.44897959,\n",
              "       2.55102041, 2.65306122, 2.75510204, 2.85714286, 2.95918367,\n",
              "       3.06122449, 3.16326531, 3.26530612, 3.36734694, 3.46938776,\n",
              "       3.57142857, 3.67346939, 3.7755102 , 3.87755102, 3.97959184,\n",
              "       4.08163265, 4.18367347, 4.28571429, 4.3877551 , 4.48979592,\n",
              "       4.59183673, 4.69387755, 4.79591837, 4.89795918, 5.        ])"
            ]
          },
          "execution_count": 19,
          "metadata": {},
          "output_type": "execute_result"
        }
      ],
      "source": [
        "matrix2 = np.linspace(0,5) # by default 50 evenly spaced values will be generated between 0 and 5\n",
        "matrix2"
      ]
    },
    {
      "cell_type": "code",
      "execution_count": null,
      "metadata": {
        "colab": {
          "base_uri": "https://localhost:8080/"
        },
        "id": "0VDGGmj2dhPp",
        "outputId": "ee2e52ca-e5e7-487d-b561-19af460f250e"
      },
      "outputs": [
        {
          "data": {
            "text/plain": [
              "array([10.        , 11.11111111, 12.22222222, 13.33333333, 14.44444444,\n",
              "       15.55555556, 16.66666667, 17.77777778, 18.88888889, 20.        ])"
            ]
          },
          "execution_count": 20,
          "metadata": {},
          "output_type": "execute_result"
        }
      ],
      "source": [
        "# generating 10 evenly spaced values between 10 and 20\n",
        "matrix3 = np.linspace(10,20,10)\n",
        "matrix3"
      ]
    },
    {
      "cell_type": "code",
      "execution_count": null,
      "metadata": {
        "id": "gkiuT9fI2oB-",
        "outputId": "35813f0e-0d01-45a3-c038-acfa22dadd61"
      },
      "outputs": [
        {
          "data": {
            "text/plain": [
              "array([10., 11., 12., 13., 14., 15., 16., 17., 18., 19., 20.])"
            ]
          },
          "execution_count": 21,
          "metadata": {},
          "output_type": "execute_result"
        }
      ],
      "source": [
        "np.linspace(10,20,11)"
      ]
    },
    {
      "cell_type": "markdown",
      "metadata": {
        "id": "x9brl-h9dg2b"
      },
      "source": [
        "**<code>np.zeros()</code>**\n",
        "\n",
        "* Returns a matrix filled with zeros of the given shape.\n",
        "* <code>np.zeros([shape - rows,columns],dtype - def float)</code>"
      ]
    },
    {
      "cell_type": "code",
      "execution_count": null,
      "metadata": {
        "colab": {
          "base_uri": "https://localhost:8080/"
        },
        "id": "zcfKm8ENjNQv",
        "outputId": "cffc8ee5-eabf-4d7c-d426-02f9e3220f8e"
      },
      "outputs": [
        {
          "data": {
            "text/plain": [
              "array([[0., 0., 0., 0., 0.],\n",
              "       [0., 0., 0., 0., 0.],\n",
              "       [0., 0., 0., 0., 0.]])"
            ]
          },
          "execution_count": 22,
          "metadata": {},
          "output_type": "execute_result"
        }
      ],
      "source": [
        "matrix4 = np.zeros([3,5])\n",
        "matrix4"
      ]
    },
    {
      "cell_type": "code",
      "execution_count": null,
      "metadata": {
        "id": "07xLpUZn2oB_",
        "outputId": "af2ddabd-ea1f-4f76-bb8f-bff117e34cbc"
      },
      "outputs": [
        {
          "data": {
            "text/plain": [
              "array([0., 0., 0., 0., 0., 0., 0., 0., 0., 0.])"
            ]
          },
          "execution_count": 23,
          "metadata": {},
          "output_type": "execute_result"
        }
      ],
      "source": [
        "np.zeros([10])"
      ]
    },
    {
      "cell_type": "code",
      "execution_count": null,
      "metadata": {
        "id": "VaZQEegz2oB_",
        "outputId": "37eb8303-ecf3-4c80-bdd1-711a17cb06c0"
      },
      "outputs": [
        {
          "data": {
            "text/plain": [
              "array([0, 0, 0, 0, 0])"
            ]
          },
          "execution_count": 24,
          "metadata": {},
          "output_type": "execute_result"
        }
      ],
      "source": [
        "np.zeros([5],int)"
      ]
    },
    {
      "cell_type": "markdown",
      "metadata": {
        "id": "8jy4YykQjICK"
      },
      "source": [
        "**<code>np.ones()</code>**\n",
        "\n",
        "* Returns a matrix of given shape and type, filled with ones.\n",
        "* <code>np.ones([shape - rows,columns],dtype - def float)</code>"
      ]
    },
    {
      "cell_type": "code",
      "execution_count": null,
      "metadata": {
        "colab": {
          "base_uri": "https://localhost:8080/"
        },
        "id": "JJ-hv5dcjRN1",
        "outputId": "fcec0c95-b60d-461d-ecda-6f167d6539ee"
      },
      "outputs": [
        {
          "data": {
            "text/plain": [
              "array([[1., 1., 1., 1., 1.],\n",
              "       [1., 1., 1., 1., 1.],\n",
              "       [1., 1., 1., 1., 1.]])"
            ]
          },
          "execution_count": 25,
          "metadata": {},
          "output_type": "execute_result"
        }
      ],
      "source": [
        "matrix5 = np.ones([3,5])\n",
        "matrix5"
      ]
    },
    {
      "cell_type": "code",
      "execution_count": null,
      "metadata": {
        "id": "AGbthA0j2oB_",
        "outputId": "e9137dbe-5cbc-4cf9-98ae-d5a6acedf534"
      },
      "outputs": [
        {
          "data": {
            "text/plain": [
              "array([[1, 1, 1],\n",
              "       [1, 1, 1]])"
            ]
          },
          "execution_count": 26,
          "metadata": {},
          "output_type": "execute_result"
        }
      ],
      "source": [
        "np.ones([2,3],int)"
      ]
    },
    {
      "cell_type": "markdown",
      "metadata": {
        "id": "ge-0i4W2jH4S"
      },
      "source": [
        "**<code>np.eye()</code>**\n",
        "* Returns a matrix with ones on the diagonal and zeros elsewhere - identity\n",
        "* <code>np.eye(n - num of rows and cols,dtype=int)</code>"
      ]
    },
    {
      "cell_type": "code",
      "execution_count": null,
      "metadata": {
        "colab": {
          "base_uri": "https://localhost:8080/"
        },
        "id": "2a0_OXeWjHou",
        "outputId": "a3b74a35-531d-4622-f7e4-b70fce9bd02e"
      },
      "outputs": [
        {
          "data": {
            "text/plain": [
              "array([[1., 0., 0., 0., 0.],\n",
              "       [0., 1., 0., 0., 0.],\n",
              "       [0., 0., 1., 0., 0.],\n",
              "       [0., 0., 0., 1., 0.],\n",
              "       [0., 0., 0., 0., 1.]])"
            ]
          },
          "execution_count": 27,
          "metadata": {},
          "output_type": "execute_result"
        }
      ],
      "source": [
        "np.eye(5)"
      ]
    },
    {
      "cell_type": "code",
      "execution_count": null,
      "metadata": {
        "id": "UNdnPh0p2oB_",
        "outputId": "dd507550-08e7-401a-dd6b-3cb1053fe593"
      },
      "outputs": [
        {
          "data": {
            "text/plain": [
              "array([[1, 0, 0],\n",
              "       [0, 1, 0],\n",
              "       [0, 0, 1]])"
            ]
          },
          "execution_count": 28,
          "metadata": {},
          "output_type": "execute_result"
        }
      ],
      "source": [
        "np.eye(3,dtype=int)"
      ]
    },
    {
      "cell_type": "markdown",
      "metadata": {
        "id": "DkJp6gB1dgHl"
      },
      "source": [
        "**<Code>np.reshape()</code>**"
      ]
    },
    {
      "cell_type": "markdown",
      "metadata": {
        "id": "ifxHtcyyuVsX"
      },
      "source": [
        "* The shape of an array basically tells the number of elements and dimensions of the array. Reshaping a Numpy array simply means changing the shape of the given array.\n",
        "* By reshaping an array we can add or remove dimensions or change number of elements in each dimension.\n",
        "* **Syntax:** <code>array.reshape(shape=tuple) </code>"
      ]
    },
    {
      "cell_type": "code",
      "execution_count": null,
      "metadata": {
        "colab": {
          "base_uri": "https://localhost:8080/"
        },
        "id": "iYbHCKdPk5hb",
        "outputId": "c94f2a00-4427-4978-dbd4-1deaaca0eddc"
      },
      "outputs": [
        {
          "data": {
            "text/plain": [
              "array([0, 1, 2, 3, 4, 5, 6, 7, 8, 9])"
            ]
          },
          "execution_count": 29,
          "metadata": {},
          "output_type": "execute_result"
        }
      ],
      "source": [
        "# defining an array with values 0 to 9\n",
        "arr4 = np.arange(0,10)\n",
        "arr4"
      ]
    },
    {
      "cell_type": "code",
      "execution_count": null,
      "metadata": {
        "colab": {
          "base_uri": "https://localhost:8080/"
        },
        "id": "SE6wnu1MlbXv",
        "outputId": "27376f9e-406f-4b21-c97e-ab94875220bd"
      },
      "outputs": [
        {
          "data": {
            "text/plain": [
              "array([[0, 1, 2, 3, 4],\n",
              "       [5, 6, 7, 8, 9]])"
            ]
          },
          "execution_count": 30,
          "metadata": {},
          "output_type": "execute_result"
        }
      ],
      "source": [
        "# reshaping the array arr4 to a 2 x 5 matrix\n",
        "arr4_reshaped = arr4.reshape((2,5))\n",
        "arr4_reshaped"
      ]
    },
    {
      "cell_type": "markdown",
      "metadata": {
        "id": "CE9wPRdYn5IB"
      },
      "source": [
        "**Trigonometric functions**"
      ]
    },
    {
      "cell_type": "code",
      "execution_count": null,
      "metadata": {
        "colab": {
          "base_uri": "https://localhost:8080/"
        },
        "id": "6iKAU71XQBXn",
        "outputId": "3fdd91f9-edd7-41d7-e5cc-1040c05a51bd"
      },
      "outputs": [
        {
          "name": "stdout",
          "output_type": "stream",
          "text": [
            "Sine Function: -0.7568024953079282\n",
            "Cosine Function: -0.6536436208636119\n",
            "Tan Function 1.1578212823495775\n"
          ]
        }
      ],
      "source": [
        "print('Sine Function:',np.sin(4))\n",
        "print('Cosine Function:',np.cos(4))\n",
        "print('Tan Function',np.tan(4))"
      ]
    },
    {
      "cell_type": "code",
      "execution_count": null,
      "metadata": {
        "id": "-kIpEEgR2oCL",
        "outputId": "f5d7cc27-3c59-47e0-863d-d612dc2198ce"
      },
      "outputs": [
        {
          "data": {
            "text/plain": [
              "array([1, 2, 3, 4])"
            ]
          },
          "execution_count": 32,
          "metadata": {},
          "output_type": "execute_result"
        }
      ],
      "source": [
        "arr1 = np.arange(1,5)\n",
        "arr1"
      ]
    },
    {
      "cell_type": "code",
      "execution_count": null,
      "metadata": {
        "id": "KXTmeu112oCL",
        "outputId": "da65d82e-856d-4521-a9f6-2d7d8ab3fe2f"
      },
      "outputs": [
        {
          "name": "stdout",
          "output_type": "stream",
          "text": [
            "Sine Function: [ 0.84147098  0.90929743  0.14112001 -0.7568025 ]\n",
            "Cosine Function: [ 0.54030231 -0.41614684 -0.9899925  -0.65364362]\n",
            "Tan Function [ 1.55740772 -2.18503986 -0.14254654  1.15782128]\n"
          ]
        }
      ],
      "source": [
        "print('Sine Function:',np.sin(arr1))\n",
        "print('Cosine Function:',np.cos(arr1))\n",
        "print('Tan Function',np.tan(arr1))"
      ]
    },
    {
      "cell_type": "markdown",
      "metadata": {
        "id": "BBKFBoABoyRx"
      },
      "source": [
        "**Exponents**"
      ]
    },
    {
      "cell_type": "code",
      "execution_count": null,
      "metadata": {
        "colab": {
          "base_uri": "https://localhost:8080/"
        },
        "id": "aanbLXltoDgt",
        "outputId": "a1376ed3-9f53-4d1c-bd51-950f52caab0f"
      },
      "outputs": [
        {
          "data": {
            "text/plain": [
              "7.38905609893065"
            ]
          },
          "execution_count": 34,
          "metadata": {},
          "output_type": "execute_result"
        }
      ],
      "source": [
        "np.exp(2)"
      ]
    },
    {
      "cell_type": "code",
      "execution_count": null,
      "metadata": {
        "colab": {
          "base_uri": "https://localhost:8080/"
        },
        "id": "9VUfgN_oomI7",
        "outputId": "5ce847d5-7263-4ff5-8a78-74e2a4b7545d"
      },
      "outputs": [
        {
          "data": {
            "text/plain": [
              "array([  7.3890561 ,  54.59815003, 403.42879349])"
            ]
          },
          "execution_count": 35,
          "metadata": {},
          "output_type": "execute_result"
        }
      ],
      "source": [
        "arr5 = np.array([2,4,6])\n",
        "np.exp(arr5)"
      ]
    },
    {
      "cell_type": "markdown",
      "metadata": {
        "id": "BgTCC-v6ouZn"
      },
      "source": [
        "**Logarithms**"
      ]
    },
    {
      "cell_type": "code",
      "execution_count": null,
      "metadata": {
        "colab": {
          "base_uri": "https://localhost:8080/"
        },
        "id": "7V8RWfDipHOQ",
        "outputId": "49dc1df8-a9ed-4c60-cd92-96ef0811d0f2"
      },
      "outputs": [
        {
          "data": {
            "text/plain": [
              "0.6931471805599453"
            ]
          },
          "execution_count": 36,
          "metadata": {},
          "output_type": "execute_result"
        }
      ],
      "source": [
        "# by default NumPy takes the base of log as e\n",
        "np.log(2)"
      ]
    },
    {
      "cell_type": "code",
      "execution_count": null,
      "metadata": {
        "colab": {
          "base_uri": "https://localhost:8080/"
        },
        "id": "CH5eCec2pJLo",
        "outputId": "9a3d6b0a-4118-405b-d6e2-fbe7f80e3b19"
      },
      "outputs": [
        {
          "data": {
            "text/plain": [
              "array([0.69314718, 1.38629436, 1.79175947])"
            ]
          },
          "execution_count": 37,
          "metadata": {},
          "output_type": "execute_result"
        }
      ],
      "source": [
        "np.log(arr5)"
      ]
    },
    {
      "cell_type": "code",
      "execution_count": null,
      "metadata": {
        "colab": {
          "base_uri": "https://localhost:8080/"
        },
        "id": "bgam8aXTpOVc",
        "outputId": "73a6a92e-5577-49d3-b07e-f26797f47818"
      },
      "outputs": [
        {
          "data": {
            "text/plain": [
              "0.9030899869919435"
            ]
          },
          "execution_count": 38,
          "metadata": {},
          "output_type": "execute_result"
        }
      ],
      "source": [
        "## log with base 10\n",
        "np.log10(8)"
      ]
    },
    {
      "cell_type": "code",
      "execution_count": null,
      "metadata": {
        "id": "PKGCf23-2oCN",
        "outputId": "9e82c88b-e772-4bd2-d78e-19ed47a03f1f"
      },
      "outputs": [
        {
          "data": {
            "text/plain": [
              "2.0"
            ]
          },
          "execution_count": 39,
          "metadata": {},
          "output_type": "execute_result"
        }
      ],
      "source": [
        "np.log10(100)"
      ]
    },
    {
      "cell_type": "markdown",
      "metadata": {
        "id": "jDCujvq0pWZr"
      },
      "source": [
        "**Arithmetic Operations on arrays**"
      ]
    },
    {
      "cell_type": "code",
      "execution_count": null,
      "metadata": {
        "colab": {
          "base_uri": "https://localhost:8080/"
        },
        "id": "SXFDL0TeKJZT",
        "outputId": "afeb98ee-e6ac-4664-ddcf-b7b28ff93920"
      },
      "outputs": [
        {
          "name": "stdout",
          "output_type": "stream",
          "text": [
            "[1, 2, 3, 4, 5, 6]\n"
          ]
        }
      ],
      "source": [
        "# arithmetic on lists\n",
        "lst1 = [1,2,3]\n",
        "lst2 = [4,5,6]\n",
        "print(lst1+lst2)"
      ]
    },
    {
      "cell_type": "code",
      "execution_count": null,
      "metadata": {
        "colab": {
          "base_uri": "https://localhost:8080/"
        },
        "id": "MHZKZFP8ppQx",
        "outputId": "ed3db0fd-1464-4b0c-e9e1-5b6311a6b42f"
      },
      "outputs": [
        {
          "name": "stdout",
          "output_type": "stream",
          "text": [
            "arr7: [1 2 3 4 5]\n",
            "arr8: [2 3 4 5 6]\n"
          ]
        }
      ],
      "source": [
        "# we can +-*/ arrays together\n",
        "\n",
        "# defining two arrays\n",
        "arr7 = np.arange(1,6)\n",
        "print('arr7:', arr7)\n",
        "\n",
        "arr8 = np.arange(2,7)\n",
        "print('arr8:', arr8)"
      ]
    },
    {
      "cell_type": "code",
      "execution_count": null,
      "metadata": {
        "colab": {
          "base_uri": "https://localhost:8080/"
        },
        "id": "xkMkQOL8rHOw",
        "outputId": "f6604ff9-69c3-47d0-cd0c-a1b566095068"
      },
      "outputs": [
        {
          "name": "stdout",
          "output_type": "stream",
          "text": [
            "Addition:  [ 3  5  7  9 11]\n",
            "Subtraction:  [1 1 1 1 1]\n",
            "Multiplication: [ 2  6 12 20 30]\n",
            "Division: [0.5        0.66666667 0.75       0.8        0.83333333]\n",
            "Inverse: [1.         0.5        0.33333333 0.25       0.2       ]\n",
            "Powers: [    1     8    81  1024 15625]\n"
          ]
        }
      ],
      "source": [
        "print('Addition: ',arr7+arr8)\n",
        "print('Subtraction: ',arr8-arr7)\n",
        "print('Multiplication:' , arr7*arr8)\n",
        "print('Division:', arr7/arr8)\n",
        "print('Inverse:', 1/arr7)\n",
        "print('Powers:', arr7**arr8)"
      ]
    },
    {
      "cell_type": "markdown",
      "metadata": {
        "id": "SrE8fcrFtt7c"
      },
      "source": [
        "**Operations on Matrices**"
      ]
    },
    {
      "cell_type": "code",
      "execution_count": null,
      "metadata": {
        "colab": {
          "base_uri": "https://localhost:8080/"
        },
        "id": "p-lZfDhUrb2b",
        "outputId": "955f8214-847f-4b05-b042-20b72c5a2567"
      },
      "outputs": [
        {
          "name": "stdout",
          "output_type": "stream",
          "text": [
            "matrix7\n",
            " [[1 2 3]\n",
            " [4 5 6]\n",
            " [7 8 9]]\n",
            "matrix8\n",
            " [[1 0 0]\n",
            " [0 1 0]\n",
            " [0 0 1]]\n"
          ]
        }
      ],
      "source": [
        "matrix7 = np.arange(1,10).reshape(3,3)\n",
        "print(\"matrix7\\n\",matrix7)\n",
        "\n",
        "matrix8 = np.eye(3,dtype=int)\n",
        "print(\"matrix8\\n\",matrix8)"
      ]
    },
    {
      "cell_type": "code",
      "execution_count": null,
      "metadata": {
        "colab": {
          "base_uri": "https://localhost:8080/"
        },
        "id": "VGBAxsUUtyts",
        "outputId": "69c82918-7e9e-446a-88c0-21e7d2a8b715"
      },
      "outputs": [
        {
          "name": "stdout",
          "output_type": "stream",
          "text": [
            "Addition: \n",
            " [[ 2  2  3]\n",
            " [ 4  6  6]\n",
            " [ 7  8 10]]\n",
            "Subtraction: \n",
            "  [[0 2 3]\n",
            " [4 4 6]\n",
            " [7 8 8]]\n",
            "Multiplication: \n",
            " [[1 0 0]\n",
            " [0 5 0]\n",
            " [0 0 9]]\n",
            "Division: \n",
            " [[ 1. inf inf]\n",
            " [inf  5. inf]\n",
            " [inf inf  9.]]\n"
          ]
        },
        {
          "name": "stderr",
          "output_type": "stream",
          "text": [
            "/var/folders/vq/s1j96hqn2_99q30y1hw_1dgw0000gn/T/ipykernel_62581/949677980.py:4: RuntimeWarning: divide by zero encountered in divide\n",
            "  print('Division: \\n', matrix7/matrix8) # element by element\n"
          ]
        }
      ],
      "source": [
        "print('Addition: \\n', matrix7+matrix8)\n",
        "print('Subtraction: \\n ', matrix7-matrix8)\n",
        "print('Multiplication: \\n', matrix7*matrix8) # element by element\n",
        "print('Division: \\n', matrix7/matrix8) # element by element"
      ]
    },
    {
      "cell_type": "markdown",
      "metadata": {
        "id": "3WYcA-OxyL9Y"
      },
      "source": [
        "**Linear algebra matrix multiplication**"
      ]
    },
    {
      "cell_type": "code",
      "execution_count": null,
      "metadata": {
        "colab": {
          "base_uri": "https://localhost:8080/"
        },
        "id": "nc0PAuG3sM6A",
        "outputId": "5a7cfe3c-9514-4aa0-d609-0e44de8f6285"
      },
      "outputs": [
        {
          "name": "stdout",
          "output_type": "stream",
          "text": [
            "First Matrix: \n",
            " [[1 2 3]\n",
            " [4 5 6]\n",
            " [7 8 9]]\n",
            "Second Matrix: \n",
            " [[11 12 13]\n",
            " [14 15 16]\n",
            " [17 18 19]]\n",
            "\n",
            "Multiplication: \n",
            " [[ 90  96 102]\n",
            " [216 231 246]\n",
            " [342 366 390]]\n"
          ]
        }
      ],
      "source": [
        "matrix9 = np.arange(1,10).reshape(3,3)\n",
        "print('First Matrix: \\n',matrix9)\n",
        "\n",
        "matrix10 = np.arange(11,20).reshape(3,3)\n",
        "print('Second Matrix: \\n',matrix10)\n",
        "print('')\n",
        "# taking linear algebra matrix multiplication (some may have heard this called the dot product)\n",
        "print('Multiplication: \\n', matrix9 @ matrix10)"
      ]
    },
    {
      "cell_type": "markdown",
      "metadata": {
        "id": "LQVkMw7Iynfu"
      },
      "source": [
        "**Transpose of a matrix**"
      ]
    },
    {
      "cell_type": "code",
      "execution_count": null,
      "metadata": {
        "colab": {
          "base_uri": "https://localhost:8080/"
        },
        "id": "DJp3NtsrsSM4",
        "outputId": "533c306d-7c1f-4ca0-d16e-0a672eedf212"
      },
      "outputs": [
        {
          "name": "stdout",
          "output_type": "stream",
          "text": [
            "[[1 2 3]\n",
            " [4 5 6]\n",
            " [7 8 9]]\n"
          ]
        }
      ],
      "source": [
        "print(matrix9)"
      ]
    },
    {
      "cell_type": "code",
      "execution_count": null,
      "metadata": {
        "colab": {
          "base_uri": "https://localhost:8080/"
        },
        "id": "MDKJgUlptKet",
        "outputId": "ecc121e7-5613-4951-dadf-b35e9d7dac3b"
      },
      "outputs": [
        {
          "data": {
            "text/plain": [
              "array([[1, 4, 7],\n",
              "       [2, 5, 8],\n",
              "       [3, 6, 9]])"
            ]
          },
          "execution_count": 47,
          "metadata": {},
          "output_type": "execute_result"
        }
      ],
      "source": [
        "# taking transpose of matrix\n",
        "np.transpose(matrix9)"
      ]
    },
    {
      "cell_type": "code",
      "execution_count": null,
      "metadata": {
        "id": "JkeruM-o2oCP",
        "outputId": "9674f55d-fb10-49ee-e4c3-297d60383ab5"
      },
      "outputs": [
        {
          "data": {
            "text/plain": [
              "array([[1, 4, 7],\n",
              "       [2, 5, 8],\n",
              "       [3, 6, 9]])"
            ]
          },
          "execution_count": 48,
          "metadata": {},
          "output_type": "execute_result"
        }
      ],
      "source": [
        "matrix9.transpose()"
      ]
    },
    {
      "cell_type": "code",
      "execution_count": null,
      "metadata": {
        "colab": {
          "base_uri": "https://localhost:8080/"
        },
        "id": "PwwpvruatMRj",
        "outputId": "ffcd6b7e-e449-4833-86b0-b20b6f8cd09e"
      },
      "outputs": [
        {
          "data": {
            "text/plain": [
              "array([[1, 4, 7],\n",
              "       [2, 5, 8],\n",
              "       [3, 6, 9]])"
            ]
          },
          "execution_count": 49,
          "metadata": {},
          "output_type": "execute_result"
        }
      ],
      "source": [
        "# another way of taking a transpose\n",
        "matrix9.T"
      ]
    },
    {
      "cell_type": "markdown",
      "metadata": {
        "id": "YSl_vQk70bCS"
      },
      "source": [
        "**Function to find minimum and maximum values**"
      ]
    },
    {
      "cell_type": "code",
      "execution_count": null,
      "metadata": {
        "colab": {
          "base_uri": "https://localhost:8080/"
        },
        "id": "TmPZB7tu0a2c",
        "outputId": "d529103d-e90d-4ca5-cc3c-001213be5c3b"
      },
      "outputs": [
        {
          "name": "stdout",
          "output_type": "stream",
          "text": [
            "[[1 2 3]\n",
            " [4 5 6]\n",
            " [7 8 9]]\n"
          ]
        }
      ],
      "source": [
        "print(matrix9)"
      ]
    },
    {
      "cell_type": "code",
      "execution_count": null,
      "metadata": {
        "colab": {
          "base_uri": "https://localhost:8080/"
        },
        "id": "394LL_BZ0alr",
        "outputId": "30da8c21-44fc-4155-8dd4-5c93ce9684a4"
      },
      "outputs": [
        {
          "name": "stdout",
          "output_type": "stream",
          "text": [
            "Minimum value:  1\n"
          ]
        }
      ],
      "source": [
        "print('Minimum value: ',np.min(matrix9))"
      ]
    },
    {
      "cell_type": "code",
      "execution_count": null,
      "metadata": {
        "colab": {
          "base_uri": "https://localhost:8080/"
        },
        "id": "SVs2Zx0J0ac3",
        "outputId": "1b74ddca-2a87-4ae7-a2b2-6a3406d15755"
      },
      "outputs": [
        {
          "name": "stdout",
          "output_type": "stream",
          "text": [
            "Maximum value:  9\n"
          ]
        }
      ],
      "source": [
        "print('Maximum value: ',np.max(matrix9))"
      ]
    },
    {
      "cell_type": "markdown",
      "metadata": {
        "id": "XO47Cq8L3Gb3"
      },
      "source": [
        "**<code>np.random.rand</code>**\n",
        "\n",
        "* Returns a random NumPy array whose element(s) are drawn randomly from the uniform distribution over [0,1] (including 0 but excluding 1)\n",
        "* <code>np.random.rand(d0,d1-optional)</code>"
      ]
    },
    {
      "cell_type": "code",
      "execution_count": null,
      "metadata": {
        "colab": {
          "base_uri": "https://localhost:8080/"
        },
        "id": "Neq3fBGH4N7F",
        "outputId": "d5f003ba-e10e-4dce-f4f8-8a0afd36b883"
      },
      "outputs": [
        {
          "name": "stdout",
          "output_type": "stream",
          "text": [
            "[0.09485046 0.72395824 0.24462762 0.68240458 0.78491053]\n"
          ]
        }
      ],
      "source": [
        "# Generating random values in an array\n",
        "rand_mat = np.random.rand(5)\n",
        "print(rand_mat)"
      ]
    },
    {
      "cell_type": "code",
      "execution_count": null,
      "metadata": {
        "colab": {
          "base_uri": "https://localhost:8080/"
        },
        "id": "QQHFrAce1570",
        "outputId": "46ab8a2f-6ce5-49d6-c17c-3b66a0b8b6f5"
      },
      "outputs": [
        {
          "name": "stdout",
          "output_type": "stream",
          "text": [
            "[[0.25388354 0.74261542 0.54988808 0.38767047 0.25666907]\n",
            " [0.1913051  0.17862634 0.76273523 0.88919834 0.54256921]\n",
            " [0.23124714 0.76348726 0.19070014 0.79161209 0.12979254]\n",
            " [0.86451207 0.25734958 0.5453685  0.88543698 0.91492479]\n",
            " [0.01911895 0.63726686 0.06856147 0.48851749 0.06354001]]\n"
          ]
        }
      ],
      "source": [
        "# * Generating random values in a matrix\n",
        "rand_mat2 = np.random.rand(5,5) # uniform random variable\n",
        "print(rand_mat2)"
      ]
    },
    {
      "cell_type": "markdown",
      "metadata": {
        "id": "VvvK-7Sh3PfD"
      },
      "source": [
        "**<code>np.random.randn</code>**\n",
        "\n",
        "* Returns a random numpy array whose sample(s) are drawn randomly from the standard normal distribution (Mean as 0 and standard deviation as 1)\n",
        "* <code>np.random.randn(d0,d1)</code>"
      ]
    },
    {
      "cell_type": "code",
      "execution_count": null,
      "metadata": {
        "colab": {
          "base_uri": "https://localhost:8080/"
        },
        "id": "Ll_boKdQ4Y-b",
        "outputId": "56b7ddef-018e-4373-824f-bb391af042ba"
      },
      "outputs": [
        {
          "name": "stdout",
          "output_type": "stream",
          "text": [
            "[ 0.19394891  0.56481224  0.43910636 -0.29390375  0.37924077]\n"
          ]
        }
      ],
      "source": [
        "# Generating random values in an array\n",
        "rand_mat2 = np.random.randn(5)\n",
        "print(rand_mat2)"
      ]
    },
    {
      "cell_type": "code",
      "execution_count": null,
      "metadata": {
        "colab": {
          "base_uri": "https://localhost:8080/"
        },
        "id": "1jaiT-oZ2CyD",
        "outputId": "3c27829e-0808-4b87-a395-07444ea16b65"
      },
      "outputs": [
        {
          "name": "stdout",
          "output_type": "stream",
          "text": [
            "[[ 1.01021114  0.96939984  1.32493767  0.83436327  0.93864898]\n",
            " [ 0.28628207 -0.48864085 -0.4960663   0.53306789  0.09890002]\n",
            " [ 0.59028941 -2.18239803 -0.05994845 -0.09240483  1.60972993]\n",
            " [-0.74548128  0.65489538 -0.27656782  0.33080471  0.30294921]\n",
            " [ 0.66413883  1.69385633 -0.81432345  1.35937701  1.69744873]]\n"
          ]
        }
      ],
      "source": [
        "# Generating random values in a matrix\n",
        "rand_mat2 = np.random.randn(5,5)\n",
        "print(rand_mat2)"
      ]
    },
    {
      "cell_type": "code",
      "execution_count": null,
      "metadata": {
        "colab": {
          "base_uri": "https://localhost:8080/"
        },
        "id": "TldcCrOS5ulV",
        "outputId": "5d8b6f01-9f8b-4154-ac5c-dfed71aba2b0"
      },
      "outputs": [
        {
          "name": "stdout",
          "output_type": "stream",
          "text": [
            "Mean: 0.38973877672033813\n",
            "Standard Deviation: 0.8952290502494088\n"
          ]
        }
      ],
      "source": [
        "# Let's check the mean and standard deviation of rand_mat2\n",
        "print('Mean:',np.mean(rand_mat2))\n",
        "print('Standard Deviation:',np.std(rand_mat2))"
      ]
    },
    {
      "cell_type": "markdown",
      "metadata": {
        "id": "66BnHAPW6Ere"
      },
      "source": [
        "*  we can see that the mean is very close to 0 and standard deviation is very close to 1"
      ]
    },
    {
      "cell_type": "markdown",
      "metadata": {
        "id": "T_0yFxGh3U2D"
      },
      "source": [
        "**<code>np.random.randint</code>**\n",
        "\n",
        "* Returns a random numpy array whose element(s) are drawn randomly from low (inclusive) to the high (exclusive) range.\n",
        "\n",
        "* <code>np.random.randint(low-inclusive, high-exclusive, size)</code>"
      ]
    },
    {
      "cell_type": "code",
      "execution_count": null,
      "metadata": {
        "colab": {
          "base_uri": "https://localhost:8080/"
        },
        "id": "vLPM7a0N2EHA",
        "outputId": "787d520b-dd53-429d-df56-64ade0c6efb6"
      },
      "outputs": [
        {
          "name": "stdout",
          "output_type": "stream",
          "text": [
            "[1 3 2 1 3 4 4 2 1 4]\n"
          ]
        }
      ],
      "source": [
        "# Generating random values in an array\n",
        "rand_mat3 = np.random.randint(1,5,10)\n",
        "print(rand_mat3)"
      ]
    },
    {
      "cell_type": "code",
      "execution_count": null,
      "metadata": {
        "colab": {
          "base_uri": "https://localhost:8080/"
        },
        "id": "u9YqKltk486n",
        "outputId": "a450b050-77e0-4bcb-f57d-4cd2dbeb5fbc"
      },
      "outputs": [
        {
          "name": "stdout",
          "output_type": "stream",
          "text": [
            "[[5 2 4 2 5]\n",
            " [6 3 5 8 7]\n",
            " [2 1 7 6 8]\n",
            " [1 9 5 2 4]\n",
            " [7 8 6 6 7]]\n"
          ]
        }
      ],
      "source": [
        "# Generating random values in a matrix\n",
        "rand_mat3 = np.random.randint(1,10,[5,5])\n",
        "print(rand_mat3)"
      ]
    },
    {
      "cell_type": "markdown",
      "metadata": {
        "id": "iUgCsdkH2oCS"
      },
      "source": [
        "**<code>np.random.uniform</code>**\n",
        "\n",
        "* Returns a random numpy array whose element(s) are drawn randomly from low (inclusive) to the high (exclusive) range.\n",
        "\n",
        "* <code>np.random.uniform(low-inclusive, high-exclusive, size)</code>"
      ]
    },
    {
      "cell_type": "code",
      "execution_count": null,
      "metadata": {
        "id": "FGzM0yt62oCS",
        "outputId": "21eb056c-6369-4029-fdd1-b6513e38b95e"
      },
      "outputs": [
        {
          "name": "stdout",
          "output_type": "stream",
          "text": [
            "0.1959306141809568\n",
            "[-0.93390629 -0.8763171   0.26011077 -0.86368417 -0.88895515]\n",
            "[[-0.44537031  0.40422156 -0.47762263  0.00500541 -0.52015092]\n",
            " [ 0.44440013  0.10669827 -0.21905662 -0.51921595  0.41370425]\n",
            " [-0.71593226  0.13438749  0.30412921  0.35126493  0.96210845]\n",
            " [ 0.29667131  0.91102319  0.19487548  0.18142295  0.28561713]\n",
            " [-0.2355449   0.00113651  0.16912922  0.80325752 -0.80552879]]\n"
          ]
        }
      ],
      "source": [
        "# Generate a single random float between 0 and 1\n",
        "random_float = np.random.uniform(0, 1)\n",
        "print(random_float)\n",
        "\n",
        "# Generate an array of random floats between -1 and 1\n",
        "random_floats_array = np.random.uniform(-1, 1, size=5)\n",
        "print(random_floats_array)\n",
        "\n",
        "# Generate an array of random floats between -1 and 1\n",
        "random_floats_matrix = np.random.uniform(-1, 1, size=[5,5])\n",
        "print(random_floats_matrix)"
      ]
    },
    {
      "cell_type": "markdown",
      "metadata": {
        "id": "J-K_ecWJ6M6n"
      },
      "source": [
        "**Accessing the entries of a Numpy Array**"
      ]
    },
    {
      "cell_type": "code",
      "execution_count": null,
      "metadata": {
        "colab": {
          "base_uri": "https://localhost:8080/"
        },
        "id": "4Tiy6KJw3a5A",
        "outputId": "b3342e02-3c22-45af-c346-190373e5dc2d"
      },
      "outputs": [
        {
          "name": "stdout",
          "output_type": "stream",
          "text": [
            "[0 1 2 3 4 5 6 7 8 9]\n"
          ]
        }
      ],
      "source": [
        "# let's generate an array with 10 random values\n",
        "rand_arr = np.arange(0,10)\n",
        "print(rand_arr)"
      ]
    },
    {
      "cell_type": "code",
      "execution_count": null,
      "metadata": {
        "colab": {
          "base_uri": "https://localhost:8080/"
        },
        "id": "PtSqbI-Y3awc",
        "outputId": "20dcf37e-77e5-45ea-8af6-ce362160e4ca"
      },
      "outputs": [
        {
          "name": "stdout",
          "output_type": "stream",
          "text": [
            "1th  0\n",
            "7th  6\n"
          ]
        }
      ],
      "source": [
        "# accessing the 7 th entry of rand_arr\n",
        "\n",
        "print(\"1th \",rand_arr[0])\n",
        "print(\"7th \",rand_arr[6])"
      ]
    },
    {
      "cell_type": "markdown",
      "metadata": {
        "id": "Ywt2eQx-aZUv"
      },
      "source": [
        "**Accessing multiple elements from an array**"
      ]
    },
    {
      "cell_type": "code",
      "execution_count": null,
      "metadata": {
        "colab": {
          "base_uri": "https://localhost:8080/"
        },
        "id": "HZ8Yb_3h3amG",
        "outputId": "0015a51f-fe41-4a61-dbee-81530e404ba9"
      },
      "outputs": [
        {
          "name": "stdout",
          "output_type": "stream",
          "text": [
            "[4 5 6 7 8]\n"
          ]
        }
      ],
      "source": [
        "# we can access multiple entries at once using\n",
        "print(rand_arr[4:9])"
      ]
    },
    {
      "cell_type": "code",
      "execution_count": null,
      "metadata": {
        "colab": {
          "base_uri": "https://localhost:8080/"
        },
        "id": "pNcRsFbK3aZP",
        "outputId": "4024b0d5-e08d-4656-81f8-b2676e5979d8"
      },
      "outputs": [
        {
          "name": "stdout",
          "output_type": "stream",
          "text": [
            "Index of values to access:  3 5 6\n",
            "[3 5 6]\n",
            "Index of values to access:  [3 6 9]\n",
            "[3 6 9]\n"
          ]
        }
      ],
      "source": [
        "# we can also access multiple non-consecutive entries using np.arange\n",
        "print('Index of values to access: ',3,5,6)\n",
        "print(rand_arr[[3,5,6]])\n",
        "print('Index of values to access: ',np.arange(3,10,3))\n",
        "print(rand_arr[np.arange(3,10,3)])"
      ]
    },
    {
      "cell_type": "markdown",
      "metadata": {
        "id": "m0_dOkPKc7bL"
      },
      "source": [
        "**Accessing arrays using logical operations**"
      ]
    },
    {
      "cell_type": "code",
      "execution_count": null,
      "metadata": {
        "colab": {
          "base_uri": "https://localhost:8080/"
        },
        "id": "_8v77EwOcwPM",
        "outputId": "5dc745d0-4488-45fe-95bd-4c0727ba06f8"
      },
      "outputs": [
        {
          "name": "stdout",
          "output_type": "stream",
          "text": [
            "[0 1 2 3 4 5 6 7 8 9]\n"
          ]
        }
      ],
      "source": [
        "print(rand_arr)"
      ]
    },
    {
      "cell_type": "code",
      "execution_count": null,
      "metadata": {
        "colab": {
          "base_uri": "https://localhost:8080/"
        },
        "id": "u7QvbkGfc_Mf",
        "outputId": "b6bec74e-89fd-4a43-9947-be8cc047aedd"
      },
      "outputs": [
        {
          "data": {
            "text/plain": [
              "array([False,  True,  True,  True,  True,  True,  True,  True,  True,\n",
              "        True])"
            ]
          },
          "execution_count": 66,
          "metadata": {},
          "output_type": "execute_result"
        }
      ],
      "source": [
        "rand_arr>0"
      ]
    },
    {
      "cell_type": "code",
      "execution_count": null,
      "metadata": {
        "colab": {
          "base_uri": "https://localhost:8080/"
        },
        "id": "PwjFRjDiczAS",
        "outputId": "ba126a6f-2717-4de1-f1ae-592c563c537c"
      },
      "outputs": [
        {
          "name": "stdout",
          "output_type": "stream",
          "text": [
            "Values greater than 0:  [1 2 3 4 5 6 7 8 9]\n",
            "Values less than 0:  []\n"
          ]
        }
      ],
      "source": [
        "# accessing all the values of rand_arr which are greater than 0\n",
        "print('Values greater than 0: ',rand_arr[rand_arr>0])\n",
        "\n",
        "# accessing all the values of rand_arr which are less than 0\n",
        "print('Values less than 0: ',rand_arr[rand_arr<0])"
      ]
    },
    {
      "cell_type": "markdown",
      "metadata": {
        "id": "9j2nb_lX3aKJ"
      },
      "source": [
        "**Accessing the entries of a Matrix**"
      ]
    },
    {
      "cell_type": "code",
      "execution_count": null,
      "metadata": {
        "colab": {
          "base_uri": "https://localhost:8080/"
        },
        "id": "rUT3MtuX3Z-o",
        "outputId": "457c6746-a5fd-4a80-f129-5d36f1fc2b35"
      },
      "outputs": [
        {
          "name": "stdout",
          "output_type": "stream",
          "text": [
            "[[-1.83198975 -0.46914874 -1.01011287  0.56578285  0.11660963]\n",
            " [ 0.07456235  1.09797779 -0.51907958 -1.72803984  0.94691415]\n",
            " [ 0.87561231  0.68761233 -1.25168041  1.00726425  1.01495761]\n",
            " [-0.96374246  0.6387761   1.05583185  0.47654941  1.14561276]\n",
            " [-1.05451839  0.98117381 -2.13882533 -1.18657425 -0.05657434]]\n"
          ]
        }
      ],
      "source": [
        "# let's generate an array with 10 random values\n",
        "rand_mat = np.random.randn(5,5)\n",
        "print(rand_mat)"
      ]
    },
    {
      "cell_type": "code",
      "execution_count": null,
      "metadata": {
        "colab": {
          "base_uri": "https://localhost:8080/"
        },
        "id": "aH5KNWYJ8AAi",
        "outputId": "7d7c10d1-6a79-471f-fe7e-278a7991d2bb"
      },
      "outputs": [
        {
          "data": {
            "text/plain": [
              "array([ 0.07456235,  1.09797779, -0.51907958, -1.72803984,  0.94691415])"
            ]
          },
          "execution_count": 69,
          "metadata": {},
          "output_type": "execute_result"
        }
      ],
      "source": [
        "# acessing the second row of the rand_mat\n",
        "rand_mat[1]"
      ]
    },
    {
      "cell_type": "code",
      "execution_count": null,
      "metadata": {
        "colab": {
          "base_uri": "https://localhost:8080/"
        },
        "id": "cKPauEeS3Zya",
        "outputId": "60ca8972-3156-42df-a6d4-9f68ecc314e2"
      },
      "outputs": [
        {
          "name": "stdout",
          "output_type": "stream",
          "text": [
            "-0.5190795813379658\n",
            "-0.5190795813379658\n"
          ]
        }
      ],
      "source": [
        "# acessing third element of the second row\n",
        "print(rand_mat[1][2])\n",
        "\n",
        "#or\n",
        "\n",
        "print(rand_mat[1,2])"
      ]
    },
    {
      "cell_type": "code",
      "execution_count": null,
      "metadata": {
        "colab": {
          "base_uri": "https://localhost:8080/"
        },
        "id": "md90xMiX3ZhX",
        "outputId": "49c7c609-5e65-46d5-efe6-44422692a510"
      },
      "outputs": [
        {
          "name": "stdout",
          "output_type": "stream",
          "text": [
            "[[-0.46914874 -1.01011287]\n",
            " [ 1.09797779 -0.51907958]]\n"
          ]
        }
      ],
      "source": [
        "# accessing first two rows with second and third column\n",
        "print(rand_mat[0:2,1:3])"
      ]
    },
    {
      "cell_type": "markdown",
      "metadata": {
        "id": "ZQIPaCTxdTkx"
      },
      "source": [
        "**Accessing matrices using logical operations**"
      ]
    },
    {
      "cell_type": "code",
      "execution_count": null,
      "metadata": {
        "colab": {
          "base_uri": "https://localhost:8080/"
        },
        "id": "FPWAgqcMdTkx",
        "outputId": "92f93c03-1ec6-4a8d-c83e-1504e8eb6545"
      },
      "outputs": [
        {
          "name": "stdout",
          "output_type": "stream",
          "text": [
            "[[-1.83198975 -0.46914874 -1.01011287  0.56578285  0.11660963]\n",
            " [ 0.07456235  1.09797779 -0.51907958 -1.72803984  0.94691415]\n",
            " [ 0.87561231  0.68761233 -1.25168041  1.00726425  1.01495761]\n",
            " [-0.96374246  0.6387761   1.05583185  0.47654941  1.14561276]\n",
            " [-1.05451839  0.98117381 -2.13882533 -1.18657425 -0.05657434]]\n"
          ]
        }
      ],
      "source": [
        "print(rand_mat)"
      ]
    },
    {
      "cell_type": "code",
      "execution_count": null,
      "metadata": {
        "colab": {
          "base_uri": "https://localhost:8080/"
        },
        "id": "5pBwxeo_dTky",
        "outputId": "d83c9bef-7d80-4111-ebd6-d2c443fc0ac1"
      },
      "outputs": [
        {
          "name": "stdout",
          "output_type": "stream",
          "text": [
            "Values greater than 0: \n",
            "  [0.56578285 0.11660963 0.07456235 1.09797779 0.94691415 0.87561231\n",
            " 0.68761233 1.00726425 1.01495761 0.6387761  1.05583185 0.47654941\n",
            " 1.14561276 0.98117381]\n",
            "Values less than 0: \n",
            " [-1.83198975 -0.46914874 -1.01011287 -0.51907958 -1.72803984 -1.25168041\n",
            " -0.96374246 -1.05451839 -2.13882533 -1.18657425 -0.05657434]\n"
          ]
        }
      ],
      "source": [
        "# accessing all the values of rand_mat which are greater than 0\n",
        "print('Values greater than 0: \\n ',rand_mat[rand_mat>0])\n",
        "\n",
        "# accessing all the values of rand_mat which are less than 0\n",
        "print('Values less than 0: \\n',rand_mat[rand_mat<0])"
      ]
    },
    {
      "cell_type": "markdown",
      "metadata": {
        "id": "Rbc_yo5T8mmS"
      },
      "source": [
        "**Modifying the entries of an Array**"
      ]
    },
    {
      "cell_type": "code",
      "execution_count": null,
      "metadata": {
        "colab": {
          "base_uri": "https://localhost:8080/"
        },
        "id": "2P57NUFJ8mMA",
        "outputId": "777773d5-e153-4ce6-ff7f-13dd204bdb4a"
      },
      "outputs": [
        {
          "name": "stdout",
          "output_type": "stream",
          "text": [
            "[0 1 2 3 4 5 6 7 8 9]\n"
          ]
        }
      ],
      "source": [
        "print(rand_arr)"
      ]
    },
    {
      "cell_type": "code",
      "execution_count": null,
      "metadata": {
        "colab": {
          "base_uri": "https://localhost:8080/"
        },
        "id": "5dTfDf2d-DF7",
        "outputId": "f171b288-dec1-4cb5-eda5-65db7c833722"
      },
      "outputs": [
        {
          "name": "stdout",
          "output_type": "stream",
          "text": [
            "[0 1 2 5 5 5 6 7 8 9]\n"
          ]
        }
      ],
      "source": [
        "# let's change some values in an array!\n",
        "# changing the values of index value 3 and index value 4 to 5\n",
        "rand_arr[3:5] = 5\n",
        "print(rand_arr)"
      ]
    },
    {
      "cell_type": "code",
      "execution_count": null,
      "metadata": {
        "colab": {
          "base_uri": "https://localhost:8080/"
        },
        "id": "dC1yVJLT-H9H",
        "outputId": "a4b8671b-ed2e-42e5-d08d-057c1e410df6"
      },
      "outputs": [
        {
          "name": "stdout",
          "output_type": "stream",
          "text": [
            "[2 3 2 5 5 5 6 7 8 9]\n"
          ]
        }
      ],
      "source": [
        "# changing the values of index value 0 and index value 1 to 2 and 3 respectively\n",
        "rand_arr[0:2] = [2,3]\n",
        "print(rand_arr)"
      ]
    },
    {
      "cell_type": "code",
      "execution_count": null,
      "metadata": {
        "colab": {
          "base_uri": "https://localhost:8080/"
        },
        "id": "wT3ishttMugE",
        "outputId": "ac7c1054-5cce-4bc0-f5a0-057bc7e1ef0a"
      },
      "outputs": [
        {
          "data": {
            "text/plain": [
              "array([65, 65, 65, 65, 65, 65, 65, 65, 65, 65])"
            ]
          },
          "execution_count": 77,
          "metadata": {},
          "output_type": "execute_result"
        }
      ],
      "source": [
        "# modify entries using logical references\n",
        "rand_arr[rand_arr>0] = 65\n",
        "rand_arr"
      ]
    },
    {
      "cell_type": "markdown",
      "metadata": {
        "id": "lhoMit_Da8F4"
      },
      "source": [
        "**Modifying the entries of a Matrix**"
      ]
    },
    {
      "cell_type": "code",
      "execution_count": null,
      "metadata": {
        "colab": {
          "base_uri": "https://localhost:8080/"
        },
        "id": "fJ02uz8obsqC",
        "outputId": "c64bedde-a677-439e-97f3-9158306ff70f"
      },
      "outputs": [
        {
          "name": "stdout",
          "output_type": "stream",
          "text": [
            "[[5 2 4 2 5]\n",
            " [6 3 5 8 7]\n",
            " [2 1 7 6 8]\n",
            " [1 9 5 2 4]\n",
            " [7 8 6 6 7]]\n"
          ]
        }
      ],
      "source": [
        "print(rand_mat3)"
      ]
    },
    {
      "cell_type": "code",
      "execution_count": null,
      "metadata": {
        "colab": {
          "base_uri": "https://localhost:8080/"
        },
        "id": "dVNbm4oKNtkr",
        "outputId": "de3cbc14-327e-404a-a1ba-45bae803af9e"
      },
      "outputs": [
        {
          "name": "stdout",
          "output_type": "stream",
          "text": [
            "Matrix before modification: \n",
            " [[5 2 4 2 5]\n",
            " [6 3 5 8 7]\n",
            " [2 1 7 6 8]\n",
            " [1 9 5 2 4]\n",
            " [7 8 6 6 7]]\n",
            "Matrix after modification: \n",
            " [[5 2 4 2 5]\n",
            " [6 3 5 0 0]\n",
            " [2 1 7 0 0]\n",
            " [1 9 5 2 4]\n",
            " [7 8 6 6 7]]\n"
          ]
        }
      ],
      "source": [
        "# changing the values of the 4th and 5th element of the second and third rows of the matrix to 0\n",
        "print('Matrix before modification: \\n',rand_mat3)\n",
        "rand_mat3[1:3,3:5] = 0\n",
        "print('Matrix after modification: \\n',rand_mat3)"
      ]
    },
    {
      "cell_type": "code",
      "execution_count": null,
      "metadata": {
        "colab": {
          "base_uri": "https://localhost:8080/"
        },
        "id": "uP3butowNtvp",
        "outputId": "37756f5f-82e9-4926-c432-60576f82650a"
      },
      "outputs": [
        {
          "name": "stdout",
          "output_type": "stream",
          "text": [
            "[[-1.83198975 -0.46914874 -1.01011287]\n",
            " [ 0.07456235  1.09797779 -0.51907958]]\n"
          ]
        }
      ],
      "source": [
        "# extracting the first 2 rows and first 3 columns from the matrix\n",
        "sub_mat = rand_mat[0:2,0:3]\n",
        "print(sub_mat)"
      ]
    },
    {
      "cell_type": "code",
      "execution_count": null,
      "metadata": {
        "colab": {
          "base_uri": "https://localhost:8080/"
        },
        "id": "3DgctOvENt14",
        "outputId": "7f3cec42-a26c-44e5-f9ef-217a31859a94"
      },
      "outputs": [
        {
          "name": "stdout",
          "output_type": "stream",
          "text": [
            "[[3. 3. 3.]\n",
            " [3. 3. 3.]]\n"
          ]
        }
      ],
      "source": [
        "# changing all the values of the extracted matrix to 3\n",
        "sub_mat[:] = 3\n",
        "print(sub_mat)"
      ]
    },
    {
      "cell_type": "code",
      "execution_count": null,
      "metadata": {
        "colab": {
          "base_uri": "https://localhost:8080/"
        },
        "id": "hskgV9vG9lxx",
        "outputId": "328992c8-1ec4-400d-fd54-5ad64935f694"
      },
      "outputs": [
        {
          "data": {
            "text/plain": [
              "array([[ 3.        ,  3.        ,  3.        ,  0.56578285,  0.11660963],\n",
              "       [ 3.        ,  3.        ,  3.        , -1.72803984,  0.94691415],\n",
              "       [ 0.87561231,  0.68761233, -1.25168041,  1.00726425,  1.01495761],\n",
              "       [-0.96374246,  0.6387761 ,  1.05583185,  0.47654941,  1.14561276],\n",
              "       [-1.05451839,  0.98117381, -2.13882533, -1.18657425, -0.05657434]])"
            ]
          },
          "execution_count": 82,
          "metadata": {},
          "output_type": "execute_result"
        }
      ],
      "source": [
        "# what happened to rand_mat when we change sub_mat?\n",
        "rand_mat"
      ]
    },
    {
      "cell_type": "code",
      "execution_count": null,
      "metadata": {
        "colab": {
          "base_uri": "https://localhost:8080/"
        },
        "id": "PryCb2h29sHx",
        "outputId": "4e6d8955-f46e-4729-c797-e03928f36768"
      },
      "outputs": [
        {
          "name": "stdout",
          "output_type": "stream",
          "text": [
            "[[-1.2620089   0.06322711  2.24900497  0.13052506  0.1656314 ]\n",
            " [ 0.38415671  0.6351065   0.748111   -1.82355971  1.65411267]\n",
            " [ 1.23706201  0.67681381 -0.06378509 -1.24341467  1.81210914]\n",
            " [ 0.65371784 -0.01917039  0.49844114 -1.54942795 -0.53175431]\n",
            " [-0.03060107 -1.03328453  1.63049349  0.44805056  1.04156045]]\n",
            "[[3. 3. 3.]\n",
            " [3. 3. 3.]]\n",
            "[[-1.2620089   0.06322711  2.24900497  0.13052506  0.1656314 ]\n",
            " [ 0.38415671  0.6351065   0.748111   -1.82355971  1.65411267]\n",
            " [ 1.23706201  0.67681381 -0.06378509 -1.24341467  1.81210914]\n",
            " [ 0.65371784 -0.01917039  0.49844114 -1.54942795 -0.53175431]\n",
            " [-0.03060107 -1.03328453  1.63049349  0.44805056  1.04156045]]\n"
          ]
        }
      ],
      "source": [
        "# to prevent this behavior we need to use the .copy() method when we assign sub_mat\n",
        "# this behavior is the source of MANY errors for early python users!!!\n",
        "\n",
        "rand_mat = np.random.randn(5,5)\n",
        "print(rand_mat)\n",
        "sub_mat = rand_mat[0:2,0:3].copy()\n",
        "sub_mat[:] = 3\n",
        "print(sub_mat)\n",
        "print(rand_mat)"
      ]
    },
    {
      "cell_type": "markdown",
      "metadata": {
        "id": "Uhy7xJlW0aDT"
      },
      "source": [
        "**Saving and Loading a NumPy array**"
      ]
    },
    {
      "cell_type": "code",
      "execution_count": null,
      "metadata": {
        "id": "gikqL10PzrC1"
      },
      "outputs": [],
      "source": [
        "#from google.colab import drive\n",
        "#drive.mount('/content/drive')"
      ]
    },
    {
      "cell_type": "code",
      "execution_count": null,
      "metadata": {
        "colab": {
          "base_uri": "https://localhost:8080/"
        },
        "id": "G_w4dYUtFzZO",
        "outputId": "b967ceb6-3b3e-495f-92c1-5372e8bf94e4"
      },
      "outputs": [
        {
          "name": "stdout",
          "output_type": "stream",
          "text": [
            "[[4 3 1 5 2]\n",
            " [6 7 2 7 3]]\n",
            "\n",
            "[[19 16 15 11 19]\n",
            " [15 11 10 12 19]]\n"
          ]
        }
      ],
      "source": [
        "# creating a random matrices\n",
        "randint_matrix1 = np.random.randint(1,10,10).reshape(2,5)\n",
        "print(randint_matrix1)\n",
        "print('')\n",
        "randint_matrix2 = np.random.randint(10,20,10).reshape(2,5)\n",
        "print(randint_matrix2)"
      ]
    },
    {
      "cell_type": "markdown",
      "metadata": {
        "id": "rysUk_pSFU1O"
      },
      "source": [
        "**Using np.save() function**"
      ]
    },
    {
      "cell_type": "code",
      "execution_count": null,
      "metadata": {
        "id": "k9TyLFJ-tkU2"
      },
      "outputs": [],
      "source": [
        "#np.save('/content/drive/MyDrive/Python Course/saved_file_name',randint_matrix1)\n",
        "np.save(\"single_file\",randint_matrix1)"
      ]
    },
    {
      "cell_type": "markdown",
      "metadata": {
        "id": "VMfbQlc2FYNl"
      },
      "source": [
        "**Using np.savez() function**"
      ]
    },
    {
      "cell_type": "code",
      "execution_count": null,
      "metadata": {
        "id": "dhtVPefIRfGP"
      },
      "outputs": [],
      "source": [
        "#np.savez('/content/drive/MyDrive/Python Course/multiple_files',randint_matrix1=randint_matrix1,randint_matrix2=randint_matrix2)\n",
        "np.savez('multiple_files',randint_matrix1=randint_matrix1,randint_matrix2=randint_matrix2)"
      ]
    },
    {
      "cell_type": "markdown",
      "metadata": {
        "id": "hDbZNqdLDj35"
      },
      "source": [
        "* The files will be saved in the directory where the Jupyter Notebook is located.\n",
        "* With np.save() function, we can save an array/matrix to a NumPy .npy format.\n",
        "* np.savez() function has an advantage over np.save() function because with np.savez(), we can store several arrays/matrices into a single file in uncompressed .npz format."
      ]
    },
    {
      "cell_type": "code",
      "execution_count": null,
      "metadata": {
        "id": "h7mYd86cZeTq",
        "outputId": "24a4ff69-d764-492e-ea16-48fc74dd1db5"
      },
      "outputs": [
        {
          "name": "stdout",
          "output_type": "stream",
          "text": [
            "[[4 3 1 5 2]\n",
            " [6 7 2 7 3]]\n",
            "\n",
            "<numpy.lib.npyio.NpzFile object at 0x7fec73c26160>\n"
          ]
        }
      ],
      "source": [
        "# now let's load it\n",
        "#loaded_arr = np.load('/content/drive/MyDrive/Python Course/single_file.npy')\n",
        "#loaded_multi = np.load('/content/drive/MyDrive/Python Course/multiple_files.npz')\n",
        "\n",
        "loaded_arr = np.load('single_file.npy')\n",
        "loaded_multi = np.load('multiple_files.npz')\n",
        "\n",
        "\n",
        "print(loaded_arr)\n",
        "print('')\n",
        "print(loaded_multi)"
      ]
    },
    {
      "cell_type": "markdown",
      "metadata": {
        "id": "21XxghDDG69T"
      },
      "source": [
        "* We see that .npy file has been loaded but the .npz file is returning a memory location.\n",
        "* Let's see how to load the values stored in .npz file."
      ]
    },
    {
      "cell_type": "code",
      "execution_count": null,
      "metadata": {
        "id": "VezEM4uPZeZk",
        "outputId": "c493fbbe-fa19-471b-a964-6564e926eb1d"
      },
      "outputs": [
        {
          "name": "stdout",
          "output_type": "stream",
          "text": [
            "1st Matrix: \n",
            " [[4 3 1 5 2]\n",
            " [6 7 2 7 3]]\n",
            "2nd Matrix: \n",
            " [[19 16 15 11 19]\n",
            " [15 11 10 12 19]]\n",
            "New Matrix: \n",
            " [[4 3 1 5 2]\n",
            " [6 7 2 7 3]]\n"
          ]
        }
      ],
      "source": [
        "print('1st Matrix: \\n',loaded_multi['randint_matrix1'])\n",
        "print('2nd Matrix: \\n',loaded_multi['randint_matrix2'])\n",
        "\n",
        "new_matrix  = loaded_multi['randint_matrix1']\n",
        "print('New Matrix: \\n',new_matrix)"
      ]
    },
    {
      "cell_type": "code",
      "execution_count": null,
      "metadata": {
        "id": "AyyZjATxZefd",
        "outputId": "6fc4eea6-a58c-48c2-adbe-3e42bc14050c"
      },
      "outputs": [
        {
          "name": "stdout",
          "output_type": "stream",
          "text": [
            "[[4 3 1 5 2]\n",
            " [6 7 2 7 3]]\n",
            "\n",
            "[[4. 3. 1. 5. 2.]\n",
            " [6. 7. 2. 7. 3.]]\n"
          ]
        }
      ],
      "source": [
        "# we can also save/load text files...but only single variables\n",
        "np.savetxt('text_file_name.txt',randint_matrix1,delimiter=',')\n",
        "rand_mat_txt = np.loadtxt('text_file_name.txt',delimiter=',')\n",
        "print(randint_matrix1)\n",
        "print('')\n",
        "print(rand_mat_txt)"
      ]
    }
  ],
  "metadata": {
    "colab": {
      "provenance": []
    },
    "kernelspec": {
      "display_name": "Python 3 (ipykernel)",
      "language": "python",
      "name": "python3"
    },
    "language_info": {
      "codemirror_mode": {
        "name": "ipython",
        "version": 3
      },
      "file_extension": ".py",
      "mimetype": "text/x-python",
      "name": "python",
      "nbconvert_exporter": "python",
      "pygments_lexer": "ipython3",
      "version": "3.9.12"
    }
  },
  "nbformat": 4,
  "nbformat_minor": 0
}